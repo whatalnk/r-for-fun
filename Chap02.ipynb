{
 "cells": [
  {
   "cell_type": "markdown",
   "metadata": {},
   "source": [
    "# Chapter 2 統計の基礎\n",
    "## 2.1 尺度水準\n",
    "\n",
    "* 名義尺度\n",
    "* 順序尺度\n",
    "* 間隔尺度\n",
    "* 比例尺度・比率尺度\n",
    "\n",
    "## 代表値\n",
    "\n",
    "* 平均値 $\\bar{X}$ （算術平均）"
   ]
  },
  {
   "cell_type": "code",
   "execution_count": 1,
   "metadata": {
    "collapsed": false
   },
   "outputs": [
    {
     "data": {
      "text/html": [
       "24.8"
      ],
      "text/latex": [
       "24.8"
      ],
      "text/markdown": [
       "24.8"
      ],
      "text/plain": [
       "[1] 24.8"
      ]
     },
     "metadata": {},
     "output_type": "display_data"
    }
   ],
   "source": [
    "X <- c(0, 7, 8, 9, 100)\n",
    "mean(X)"
   ]
  },
  {
   "cell_type": "markdown",
   "metadata": {},
   "source": [
    "* NA: 欠損値\n",
    "* NaN: Not a Number"
   ]
  },
  {
   "cell_type": "code",
   "execution_count": 2,
   "metadata": {
    "collapsed": false
   },
   "outputs": [
    {
     "data": {
      "text/html": [
       "<ol class=list-inline>\n",
       "\t<li>0</li>\n",
       "\t<li>7</li>\n",
       "\t<li>8</li>\n",
       "\t<li>NA</li>\n",
       "\t<li>NaN</li>\n",
       "</ol>\n"
      ],
      "text/latex": [
       "\\begin{enumerate*}\n",
       "\\item 0\n",
       "\\item 7\n",
       "\\item 8\n",
       "\\item NA\n",
       "\\item NaN\n",
       "\\end{enumerate*}\n"
      ],
      "text/markdown": [
       "1. 0\n",
       "2. 7\n",
       "3. 8\n",
       "4. NA\n",
       "5. NaN\n",
       "\n",
       "\n"
      ],
      "text/plain": [
       "[1]   0   7   8  NA NaN"
      ]
     },
     "metadata": {},
     "output_type": "display_data"
    }
   ],
   "source": [
    "Y <- c(0, 7, 8, NA, 0/0)\n",
    "Y"
   ]
  },
  {
   "cell_type": "code",
   "execution_count": 3,
   "metadata": {
    "collapsed": false
   },
   "outputs": [
    {
     "data": {
      "text/plain": [
       "[1] NA"
      ]
     },
     "metadata": {},
     "output_type": "display_data"
    }
   ],
   "source": [
    "mean(Y)"
   ]
  },
  {
   "cell_type": "markdown",
   "metadata": {},
   "source": [
    "`na.rm = TRUE` は NaN も消す"
   ]
  },
  {
   "cell_type": "code",
   "execution_count": 4,
   "metadata": {
    "collapsed": false
   },
   "outputs": [
    {
     "data": {
      "text/html": [
       "5"
      ],
      "text/latex": [
       "5"
      ],
      "text/markdown": [
       "5"
      ],
      "text/plain": [
       "[1] 5"
      ]
     },
     "metadata": {},
     "output_type": "display_data"
    }
   ],
   "source": [
    "mean(Y, na.rm = TRUE)"
   ]
  },
  {
   "cell_type": "markdown",
   "metadata": {},
   "source": [
    "* 幾何平均\n",
    "* トリム平均\n",
    "\n",
    "20%除去"
   ]
  },
  {
   "cell_type": "code",
   "execution_count": 5,
   "metadata": {
    "collapsed": false
   },
   "outputs": [
    {
     "data": {
      "text/html": [
       "8"
      ],
      "text/latex": [
       "8"
      ],
      "text/markdown": [
       "8"
      ],
      "text/plain": [
       "[1] 8"
      ]
     },
     "metadata": {},
     "output_type": "display_data"
    }
   ],
   "source": [
    "mean(X, trim = 0.2)"
   ]
  },
  {
   "cell_type": "code",
   "execution_count": 6,
   "metadata": {
    "collapsed": false
   },
   "outputs": [
    {
     "data": {
      "text/html": [
       "8"
      ],
      "text/latex": [
       "8"
      ],
      "text/markdown": [
       "8"
      ],
      "text/plain": [
       "[1] 8"
      ]
     },
     "metadata": {},
     "output_type": "display_data"
    }
   ],
   "source": [
    "mean(X[2:4])"
   ]
  },
  {
   "cell_type": "markdown",
   "metadata": {},
   "source": [
    "* 中央値"
   ]
  },
  {
   "cell_type": "code",
   "execution_count": 7,
   "metadata": {
    "collapsed": false
   },
   "outputs": [
    {
     "data": {
      "text/html": [
       "8"
      ],
      "text/latex": [
       "8"
      ],
      "text/markdown": [
       "8"
      ],
      "text/plain": [
       "[1] 8"
      ]
     },
     "metadata": {},
     "output_type": "display_data"
    }
   ],
   "source": [
    "median(X)"
   ]
  },
  {
   "cell_type": "markdown",
   "metadata": {},
   "source": [
    "* ウィンザライズド平均\n",
    "* ミッドレンジ"
   ]
  },
  {
   "cell_type": "markdown",
   "metadata": {},
   "source": [
    "## 2.3 確率変数，乱数，母集団，標本\n",
    "\n",
    "* 分散，母分散\n",
    "\n",
    "$$\\sigma^2 = V(X) = E((X - \\mu)^2), \\mu = E(X)$$\n",
    "\n",
    "* 標準偏差\n",
    "\n",
    "$$\\sigma = \\sqrt{E((X - \\mu)^2}$$\n",
    "\n",
    "確率変数$X$，$Y$が独立なら，和の分散は分散の和なので，\n",
    "\n",
    "$$ \\sigma^2_{X \\pm Y} = \\sigma^2_X + \\sigma^2_Y $$"
   ]
  },
  {
   "cell_type": "markdown",
   "metadata": {},
   "source": [
    "標本分散は $n-1$ で割る\n",
    "\n",
    "$$\\frac{1}{n-1}\\sum\\limits^n_{ti = 1}(X_i - \\bar{X})^2$$"
   ]
  },
  {
   "cell_type": "code",
   "execution_count": 9,
   "metadata": {
    "collapsed": false
   },
   "outputs": [
    {
     "data": {
      "text/html": [
       "2.5"
      ],
      "text/latex": [
       "2.5"
      ],
      "text/markdown": [
       "2.5"
      ],
      "text/plain": [
       "[1] 2.5"
      ]
     },
     "metadata": {},
     "output_type": "display_data"
    }
   ],
   "source": [
    "x <- 1:5\n",
    "var(x)"
   ]
  },
  {
   "cell_type": "markdown",
   "metadata": {},
   "source": [
    "どれか一つを外して分散を出す"
   ]
  },
  {
   "cell_type": "code",
   "execution_count": 10,
   "metadata": {
    "collapsed": false
   },
   "outputs": [
    {
     "data": {
      "text/html": [
       "<ol class=list-inline>\n",
       "\t<li>1.66666666666667</li>\n",
       "\t<li>2.91666666666667</li>\n",
       "\t<li>3.33333333333333</li>\n",
       "\t<li>2.91666666666667</li>\n",
       "\t<li>1.66666666666667</li>\n",
       "</ol>\n"
      ],
      "text/latex": [
       "\\begin{enumerate*}\n",
       "\\item 1.66666666666667\n",
       "\\item 2.91666666666667\n",
       "\\item 3.33333333333333\n",
       "\\item 2.91666666666667\n",
       "\\item 1.66666666666667\n",
       "\\end{enumerate*}\n"
      ],
      "text/markdown": [
       "1. 1.66666666666667\n",
       "2. 2.91666666666667\n",
       "3. 3.33333333333333\n",
       "4. 2.91666666666667\n",
       "5. 1.66666666666667\n",
       "\n",
       "\n"
      ],
      "text/plain": [
       "[1] 1.666667 2.916667 3.333333 2.916667 1.666667"
      ]
     },
     "metadata": {},
     "output_type": "display_data"
    }
   ],
   "source": [
    "apply(combn(c(1:5), 4), 2, var)"
   ]
  },
  {
   "cell_type": "markdown",
   "metadata": {},
   "source": [
    "平均は元の分散と一致"
   ]
  },
  {
   "cell_type": "code",
   "execution_count": 11,
   "metadata": {
    "collapsed": true
   },
   "outputs": [],
   "source": [
    "library(pipeR)"
   ]
  },
  {
   "cell_type": "code",
   "execution_count": 12,
   "metadata": {
    "collapsed": false
   },
   "outputs": [
    {
     "data": {
      "text/html": [
       "2.5"
      ],
      "text/latex": [
       "2.5"
      ],
      "text/markdown": [
       "2.5"
      ],
      "text/plain": [
       "[1] 2.5"
      ]
     },
     "metadata": {},
     "output_type": "display_data"
    }
   ],
   "source": [
    "apply(combn(c(1:5), 4), 2, var) %>>% mean()"
   ]
  },
  {
   "cell_type": "markdown",
   "metadata": {},
   "source": [
    "$n$ で割る分散"
   ]
  },
  {
   "cell_type": "code",
   "execution_count": 13,
   "metadata": {
    "collapsed": true
   },
   "outputs": [],
   "source": [
    "varp <- function(x){var(x) * (length(x) - 1) / length(x)}"
   ]
  },
  {
   "cell_type": "code",
   "execution_count": 14,
   "metadata": {
    "collapsed": false
   },
   "outputs": [
    {
     "data": {
      "text/html": [
       "2"
      ],
      "text/latex": [
       "2"
      ],
      "text/markdown": [
       "2"
      ],
      "text/plain": [
       "[1] 2"
      ]
     },
     "metadata": {},
     "output_type": "display_data"
    }
   ],
   "source": [
    "varp(x)"
   ]
  },
  {
   "cell_type": "code",
   "execution_count": 15,
   "metadata": {
    "collapsed": false
   },
   "outputs": [
    {
     "data": {
      "text/html": [
       "2.5"
      ],
      "text/latex": [
       "2.5"
      ],
      "text/markdown": [
       "2.5"
      ],
      "text/plain": [
       "[1] 2.5"
      ]
     },
     "metadata": {},
     "output_type": "display_data"
    }
   ],
   "source": [
    "var(x)"
   ]
  },
  {
   "cell_type": "markdown",
   "metadata": {},
   "source": [
    "* 標準偏差"
   ]
  },
  {
   "cell_type": "code",
   "execution_count": 16,
   "metadata": {
    "collapsed": false
   },
   "outputs": [
    {
     "data": {
      "text/html": [
       "3.02765035409749"
      ],
      "text/latex": [
       "3.02765035409749"
      ],
      "text/markdown": [
       "3.02765035409749"
      ],
      "text/plain": [
       "[1] 3.02765"
      ]
     },
     "metadata": {},
     "output_type": "display_data"
    }
   ],
   "source": [
    "x <- 1:10\n",
    "sd(x)"
   ]
  },
  {
   "cell_type": "markdown",
   "metadata": {},
   "source": [
    "* 四分位範囲（IQR），五数要約"
   ]
  },
  {
   "cell_type": "code",
   "execution_count": 18,
   "metadata": {
    "collapsed": false
   },
   "outputs": [
    {
     "data": {
      "text/html": [
       "4"
      ],
      "text/latex": [
       "4"
      ],
      "text/markdown": [
       "4"
      ],
      "text/plain": [
       "[1] 4"
      ]
     },
     "metadata": {},
     "output_type": "display_data"
    }
   ],
   "source": [
    "x <- 1:9\n",
    "IQR(x)"
   ]
  },
  {
   "cell_type": "code",
   "execution_count": 19,
   "metadata": {
    "collapsed": false
   },
   "outputs": [
    {
     "data": {
      "text/html": [
       "<dl class=dl-horizontal>\n",
       "\t<dt>0%</dt>\n",
       "\t\t<dd>1</dd>\n",
       "\t<dt>25%</dt>\n",
       "\t\t<dd>3</dd>\n",
       "\t<dt>50%</dt>\n",
       "\t\t<dd>5</dd>\n",
       "\t<dt>75%</dt>\n",
       "\t\t<dd>7</dd>\n",
       "\t<dt>100%</dt>\n",
       "\t\t<dd>9</dd>\n",
       "</dl>\n"
      ],
      "text/latex": [
       "\\begin{description*}\n",
       "\\item[0\\textbackslash{}\\%] 1\n",
       "\\item[25\\textbackslash{}\\%] 3\n",
       "\\item[50\\textbackslash{}\\%] 5\n",
       "\\item[75\\textbackslash{}\\%] 7\n",
       "\\item[100\\textbackslash{}\\%] 9\n",
       "\\end{description*}\n"
      ],
      "text/markdown": [
       "0%\n",
       ":   125%\n",
       ":   350%\n",
       ":   575%\n",
       ":   7100%\n",
       ":   9\n",
       "\n"
      ],
      "text/plain": [
       "  0%  25%  50%  75% 100% \n",
       "   1    3    5    7    9 "
      ]
     },
     "metadata": {},
     "output_type": "display_data"
    }
   ],
   "source": [
    "quantile(x)"
   ]
  },
  {
   "cell_type": "code",
   "execution_count": 20,
   "metadata": {
    "collapsed": false
   },
   "outputs": [
    {
     "data": {
      "text/html": [
       "<ol class=list-inline>\n",
       "\t<li>1</li>\n",
       "\t<li>3</li>\n",
       "\t<li>5</li>\n",
       "\t<li>7</li>\n",
       "\t<li>9</li>\n",
       "</ol>\n"
      ],
      "text/latex": [
       "\\begin{enumerate*}\n",
       "\\item 1\n",
       "\\item 3\n",
       "\\item 5\n",
       "\\item 7\n",
       "\\item 9\n",
       "\\end{enumerate*}\n"
      ],
      "text/markdown": [
       "1. 1\n",
       "2. 3\n",
       "3. 5\n",
       "4. 7\n",
       "5. 9\n",
       "\n",
       "\n"
      ],
      "text/plain": [
       "[1] 1 3 5 7 9"
      ]
     },
     "metadata": {},
     "output_type": "display_data"
    }
   ],
   "source": [
    "fivenum(x)"
   ]
  },
  {
   "cell_type": "code",
   "execution_count": 21,
   "metadata": {
    "collapsed": false
   },
   "outputs": [
    {
     "data": {
      "text/html": [
       "11.5"
      ],
      "text/latex": [
       "11.5"
      ],
      "text/markdown": [
       "11.5"
      ],
      "text/plain": [
       "[1] 11.5"
      ]
     },
     "metadata": {},
     "output_type": "display_data"
    }
   ],
   "source": [
    "y <- c(1, 2, 4, 8, 16, 32)\n",
    "IQR(y)"
   ]
  },
  {
   "cell_type": "code",
   "execution_count": 22,
   "metadata": {
    "collapsed": false
   },
   "outputs": [
    {
     "data": {
      "text/html": [
       "<dl class=dl-horizontal>\n",
       "\t<dt>0%</dt>\n",
       "\t\t<dd>1</dd>\n",
       "\t<dt>25%</dt>\n",
       "\t\t<dd>2.5</dd>\n",
       "\t<dt>50%</dt>\n",
       "\t\t<dd>6</dd>\n",
       "\t<dt>75%</dt>\n",
       "\t\t<dd>14</dd>\n",
       "\t<dt>100%</dt>\n",
       "\t\t<dd>32</dd>\n",
       "</dl>\n"
      ],
      "text/latex": [
       "\\begin{description*}\n",
       "\\item[0\\textbackslash{}\\%] 1\n",
       "\\item[25\\textbackslash{}\\%] 2.5\n",
       "\\item[50\\textbackslash{}\\%] 6\n",
       "\\item[75\\textbackslash{}\\%] 14\n",
       "\\item[100\\textbackslash{}\\%] 32\n",
       "\\end{description*}\n"
      ],
      "text/markdown": [
       "0%\n",
       ":   125%\n",
       ":   2.550%\n",
       ":   675%\n",
       ":   14100%\n",
       ":   32\n",
       "\n"
      ],
      "text/plain": [
       "  0%  25%  50%  75% 100% \n",
       " 1.0  2.5  6.0 14.0 32.0 "
      ]
     },
     "metadata": {},
     "output_type": "display_data"
    }
   ],
   "source": [
    "quantile(y)"
   ]
  },
  {
   "cell_type": "code",
   "execution_count": 23,
   "metadata": {
    "collapsed": false
   },
   "outputs": [
    {
     "data": {
      "text/html": [
       "<ol class=list-inline>\n",
       "\t<li>1</li>\n",
       "\t<li>2</li>\n",
       "\t<li>6</li>\n",
       "\t<li>16</li>\n",
       "\t<li>32</li>\n",
       "</ol>\n"
      ],
      "text/latex": [
       "\\begin{enumerate*}\n",
       "\\item 1\n",
       "\\item 2\n",
       "\\item 6\n",
       "\\item 16\n",
       "\\item 32\n",
       "\\end{enumerate*}\n"
      ],
      "text/markdown": [
       "1. 1\n",
       "2. 2\n",
       "3. 6\n",
       "4. 16\n",
       "5. 32\n",
       "\n",
       "\n"
      ],
      "text/plain": [
       "[1]  1  2  6 16 32"
      ]
     },
     "metadata": {},
     "output_type": "display_data"
    }
   ],
   "source": [
    "fivenum(y)"
   ]
  },
  {
   "cell_type": "markdown",
   "metadata": {},
   "source": [
    "## 2.5 中心極限定理と正規分布"
   ]
  },
  {
   "cell_type": "code",
   "execution_count": 24,
   "metadata": {
    "collapsed": false
   },
   "outputs": [
    {
     "data": {
      "text/html": [
       "0.121744298143312"
      ],
      "text/latex": [
       "0.121744298143312"
      ],
      "text/markdown": [
       "0.121744298143312"
      ],
      "text/plain": [
       "[1] 0.1217443"
      ]
     },
     "metadata": {},
     "output_type": "display_data"
    }
   ],
   "source": [
    "runif(1)"
   ]
  },
  {
   "cell_type": "code",
   "execution_count": 25,
   "metadata": {
    "collapsed": false
   },
   "outputs": [
    {
     "data": {
      "text/html": [
       "<ol class=list-inline>\n",
       "\t<li>0.794603668851778</li>\n",
       "\t<li>0.0769124838989228</li>\n",
       "\t<li>0.111788036534563</li>\n",
       "\t<li>0.0329580227844417</li>\n",
       "\t<li>0.167055757017806</li>\n",
       "\t<li>0.301563354209065</li>\n",
       "\t<li>0.0366220206487924</li>\n",
       "\t<li>0.368202209472656</li>\n",
       "\t<li>0.0281391965691</li>\n",
       "\t<li>0.314077704912052</li>\n",
       "</ol>\n"
      ],
      "text/latex": [
       "\\begin{enumerate*}\n",
       "\\item 0.794603668851778\n",
       "\\item 0.0769124838989228\n",
       "\\item 0.111788036534563\n",
       "\\item 0.0329580227844417\n",
       "\\item 0.167055757017806\n",
       "\\item 0.301563354209065\n",
       "\\item 0.0366220206487924\n",
       "\\item 0.368202209472656\n",
       "\\item 0.0281391965691\n",
       "\\item 0.314077704912052\n",
       "\\end{enumerate*}\n"
      ],
      "text/markdown": [
       "1. 0.794603668851778\n",
       "2. 0.0769124838989228\n",
       "3. 0.111788036534563\n",
       "4. 0.0329580227844417\n",
       "5. 0.167055757017806\n",
       "6. 0.301563354209065\n",
       "7. 0.0366220206487924\n",
       "8. 0.368202209472656\n",
       "9. 0.0281391965691\n",
       "10. 0.314077704912052\n",
       "\n",
       "\n"
      ],
      "text/plain": [
       " [1] 0.79460367 0.07691248 0.11178804 0.03295802 0.16705576 0.30156335\n",
       " [7] 0.03662202 0.36820221 0.02813920 0.31407770"
      ]
     },
     "metadata": {},
     "output_type": "display_data"
    }
   ],
   "source": [
    "runif(10)"
   ]
  },
  {
   "cell_type": "code",
   "execution_count": 26,
   "metadata": {
    "collapsed": true
   },
   "outputs": [],
   "source": [
    "library(ggplot2)"
   ]
  },
  {
   "cell_type": "code",
   "execution_count": 29,
   "metadata": {
    "collapsed": true
   },
   "outputs": [],
   "source": [
    "options(repr.plot.width = 4, repr.plot.height = 4)"
   ]
  },
  {
   "cell_type": "markdown",
   "metadata": {},
   "source": [
    "0.5引いて範囲を $-0.5 \\leq x \\leq 0.5$ に\n",
    "\n",
    "分散は，\n",
    "\n",
    "$$\\int^{0.5}_{0.5} x^2dx = \\frac{1}{12}$$\n",
    "\n",
    "なので，12個足すと1になる"
   ]
  },
  {
   "cell_type": "code",
   "execution_count": 42,
   "metadata": {
    "collapsed": false
   },
   "outputs": [
    {
     "data": {},
     "metadata": {},
     "output_type": "display_data"
    },
    {
     "data": {
      "image/png": "[encoded data removed]",
      "text/plain": [
       "plot without title"
      ]
     },
     "metadata": {},
     "output_type": "display_data"
    }
   ],
   "source": [
    "X <- runif(1000000) - 0.5\n",
    "data.frame(x = X) %>>% \n",
    "    ggplot(aes(x = x, y = ..density..)) + \n",
    "        geom_histogram(bins = 50, fill = \"gray\", colour = \"white\") + \n",
    "        theme_bw() + \n",
    "        scale_x_continuous(limits = c(-2.1, 2.1))"
   ]
  },
  {
   "cell_type": "code",
   "execution_count": 43,
   "metadata": {
    "collapsed": false
   },
   "outputs": [
    {
     "data": {},
     "metadata": {},
     "output_type": "display_data"
    },
    {
     "data": {
      "image/png": "[encoded data removed]",
      "text/plain": [
       "plot without title"
      ]
     },
     "metadata": {},
     "output_type": "display_data"
    }
   ],
   "source": [
    "X <- (runif(1000000) - 0.5) + (runif(1000000) - 0.5)\n",
    "data.frame(x = X) %>>% \n",
    "    ggplot(aes(x = x, y = ..density..)) + \n",
    "        geom_histogram(bins = 50, fill = \"gray\", colour = \"white\") + \n",
    "        theme_bw() + \n",
    "        scale_x_continuous(limits = c(-2.1, 2.1))"
   ]
  },
  {
   "cell_type": "code",
   "execution_count": 44,
   "metadata": {
    "collapsed": false
   },
   "outputs": [
    {
     "data": {},
     "metadata": {},
     "output_type": "display_data"
    },
    {
     "data": {
      "image/png": "[encoded data removed]",
      "text/plain": [
       "plot without title"
      ]
     },
     "metadata": {},
     "output_type": "display_data"
    }
   ],
   "source": [
    "X <- (runif(1000000) - 0.5) + (runif(1000000) - 0.5) + (runif(1000000) - 0.5)\n",
    "data.frame(x = X) %>>% \n",
    "    ggplot(aes(x = x, y = ..density..)) + \n",
    "        geom_histogram(bins = 50, fill = \"gray\", colour = \"white\") + \n",
    "        theme_bw() + \n",
    "        scale_x_continuous(limits = c(-2.1, 2.1))"
   ]
  },
  {
   "cell_type": "code",
   "execution_count": 54,
   "metadata": {
    "collapsed": false
   },
   "outputs": [
    {
     "data": {
      "text/html": [
       "<ol class=list-inline>\n",
       "\t<li>-1.20794776943512</li>\n",
       "\t<li>-0.274323554709554</li>\n",
       "\t<li>0.380205873167142</li>\n",
       "\t<li>-0.157684924546629</li>\n",
       "\t<li>-2.53908993839286</li>\n",
       "\t<li>-0.501933762105182</li>\n",
       "\t<li>1.45381479989737</li>\n",
       "\t<li>-0.415405198931694</li>\n",
       "\t<li>-0.422878826735541</li>\n",
       "\t<li>-0.880878515075892</li>\n",
       "</ol>\n"
      ],
      "text/latex": [
       "\\begin{enumerate*}\n",
       "\\item -1.20794776943512\n",
       "\\item -0.274323554709554\n",
       "\\item 0.380205873167142\n",
       "\\item -0.157684924546629\n",
       "\\item -2.53908993839286\n",
       "\\item -0.501933762105182\n",
       "\\item 1.45381479989737\n",
       "\\item -0.415405198931694\n",
       "\\item -0.422878826735541\n",
       "\\item -0.880878515075892\n",
       "\\end{enumerate*}\n"
      ],
      "text/markdown": [
       "1. -1.20794776943512\n",
       "2. -0.274323554709554\n",
       "3. 0.380205873167142\n",
       "4. -0.157684924546629\n",
       "5. -2.53908993839286\n",
       "6. -0.501933762105182\n",
       "7. 1.45381479989737\n",
       "8. -0.415405198931694\n",
       "9. -0.422878826735541\n",
       "10. -0.880878515075892\n",
       "\n",
       "\n"
      ],
      "text/plain": [
       " [1] -1.2079478 -0.2743236  0.3802059 -0.1576849 -2.5390899 -0.5019338\n",
       " [7]  1.4538148 -0.4154052 -0.4228788 -0.8808785"
      ]
     },
     "metadata": {},
     "output_type": "display_data"
    }
   ],
   "source": [
    "c(1:12) %>>% \n",
    "    lapply(function(x){\n",
    "        runif(10) - 0.5}\n",
    "    ) %>>% \n",
    "    {do.call(rbind, (.))} %>>%\n",
    "    apply(2, sum)"
   ]
  },
  {
   "cell_type": "code",
   "execution_count": 61,
   "metadata": {
    "collapsed": false
   },
   "outputs": [],
   "source": [
    "X <- c(1:12) %>>% \n",
    "        lapply(function(x){\n",
    "            runif(1000000) - 0.5}\n",
    "        ) %>>% \n",
    "        {do.call(rbind, (.))} %>>%\n",
    "        apply(2, sum)"
   ]
  },
  {
   "cell_type": "code",
   "execution_count": 71,
   "metadata": {
    "collapsed": false
   },
   "outputs": [
    {
     "data": {},
     "metadata": {},
     "output_type": "display_data"
    },
    {
     "data": {
      "image/png": "[encoded data removed]",
      "text/plain": [
       "plot without title"
      ]
     },
     "metadata": {},
     "output_type": "display_data"
    }
   ],
   "source": [
    "data.frame(x = X) %>>% \n",
    "    ggplot(aes(x)) + \n",
    "        geom_histogram(aes(y = ..density..), bins = 50, fill = \"gray\", colour = \"white\") + \n",
    "        theme_bw() + \n",
    "        scale_x_continuous(limits = c(-5, 5)) + \n",
    "        stat_function(fun = dnorm)"
   ]
  },
  {
   "cell_type": "markdown",
   "metadata": {},
   "source": [
    "* 標準正規分布\n",
    "\n",
    "$$ f(x) = \\frac{1}{\\sqrt{2\\pi}}\\exp\\left(-\\frac{x^2}{2}\\right) $$\n",
    "\n",
    "$-\\infty$ から $\\infty$ まで積分すると1になる"
   ]
  },
  {
   "cell_type": "code",
   "execution_count": 74,
   "metadata": {
    "collapsed": false
   },
   "outputs": [
    {
     "data": {
      "text/html": [
       "0.241970724519143"
      ],
      "text/latex": [
       "0.241970724519143"
      ],
      "text/markdown": [
       "0.241970724519143"
      ],
      "text/plain": [
       "[1] 0.2419707"
      ]
     },
     "metadata": {},
     "output_type": "display_data"
    }
   ],
   "source": [
    "dnorm(1)"
   ]
  },
  {
   "cell_type": "code",
   "execution_count": 75,
   "metadata": {
    "collapsed": false
   },
   "outputs": [
    {
     "data": {
      "text/html": [
       "0.241970724519143"
      ],
      "text/latex": [
       "0.241970724519143"
      ],
      "text/markdown": [
       "0.241970724519143"
      ],
      "text/plain": [
       "[1] 0.2419707"
      ]
     },
     "metadata": {},
     "output_type": "display_data"
    }
   ],
   "source": [
    "(1 / sqrt(2 * pi)) * exp(-1^2 / 2)"
   ]
  },
  {
   "cell_type": "markdown",
   "metadata": {},
   "source": [
    "$$\\int^{\\infty}_{-\\infty} -\\frac{x^2}{2}dx$$"
   ]
  },
  {
   "cell_type": "code",
   "execution_count": 76,
   "metadata": {
    "collapsed": false
   },
   "outputs": [
    {
     "data": {
      "text/plain": [
       "2.506628 with absolute error < 0.00023"
      ]
     },
     "metadata": {},
     "output_type": "display_data"
    }
   ],
   "source": [
    "integrate(function(x){exp(-x^2/2)}, -Inf, Inf)"
   ]
  },
  {
   "cell_type": "code",
   "execution_count": 77,
   "metadata": {
    "collapsed": false
   },
   "outputs": [
    {
     "data": {
      "text/html": [
       "2.506628274631"
      ],
      "text/latex": [
       "2.506628274631"
      ],
      "text/markdown": [
       "2.506628274631"
      ],
      "text/plain": [
       "[1] 2.506628"
      ]
     },
     "metadata": {},
     "output_type": "display_data"
    }
   ],
   "source": [
    "sqrt(2 * pi)"
   ]
  }
 ],
 "metadata": {
  "kernelspec": {
   "display_name": "R 3.3",
   "language": "R",
   "name": "ir33"
  },
  "language_info": {
   "codemirror_mode": "r",
   "file_extension": ".r",
   "mimetype": "text/x-r-source",
   "name": "R",
   "pygments_lexer": "r",
   "version": "3.3.0"
  }
 },
 "nbformat": 4,
 "nbformat_minor": 0
}
