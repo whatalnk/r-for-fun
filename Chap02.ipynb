{
 "cells": [
  {
   "cell_type": "code",
   "execution_count": 1,
   "metadata": {
    "collapsed": false
   },
   "outputs": [
    {
     "data": {
      "text/html": [
       "<span style=white-space:pre-wrap>'Sat Oct  1 16:46:19 2016'</span>"
      ],
      "text/latex": [
       "'Sat Oct  1 16:46:19 2016'"
      ],
      "text/markdown": [
       "<span style=white-space:pre-wrap>'Sat Oct  1 16:46:19 2016'</span>"
      ],
      "text/plain": [
       "[1] \"Sat Oct  1 16:46:19 2016\""
      ]
     },
     "metadata": {},
     "output_type": "display_data"
    }
   ],
   "source": [
    "date()"
   ]
  },
  {
   "cell_type": "code",
   "execution_count": 2,
   "metadata": {
    "collapsed": false
   },
   "outputs": [
    {
     "name": "stderr",
     "output_type": "stream",
     "text": [
      "Loading required package: pipeR\n",
      "Warning message:\n",
      "“package ‘pipeR’ was built under R version 3.2.4”Loading required package: dplyr\n",
      "\n",
      "Attaching package: ‘dplyr’\n",
      "\n",
      " 以下のオブジェクトは ‘package:stats’ からマスクされています: \n",
      "\n",
      "     filter, lag \n",
      "\n",
      " 以下のオブジェクトは ‘package:base’ からマスクされています: \n",
      "\n",
      "     intersect, setdiff, setequal, union \n",
      "\n",
      "Loading required package: tidyr\n",
      "Loading required package: ggplot2\n",
      "Loading required package: Cairo\n",
      "Loading required package: readr\n",
      "Loading required package: readxl\n",
      "Warning message:\n",
      "“package ‘readxl’ was built under R version 3.2.4”Loading required package: openxlsx\n"
     ]
    },
    {
     "data": {
      "text/html": [
       "<dl class=dl-horizontal>\n",
       "\t<dt>pipeR</dt>\n",
       "\t\t<dd>TRUE</dd>\n",
       "\t<dt>dplyr</dt>\n",
       "\t\t<dd>TRUE</dd>\n",
       "\t<dt>tidyr</dt>\n",
       "\t\t<dd>TRUE</dd>\n",
       "\t<dt>ggplot2</dt>\n",
       "\t\t<dd>TRUE</dd>\n",
       "\t<dt>Cairo</dt>\n",
       "\t\t<dd>TRUE</dd>\n",
       "\t<dt>readr</dt>\n",
       "\t\t<dd>TRUE</dd>\n",
       "\t<dt>readxl</dt>\n",
       "\t\t<dd>TRUE</dd>\n",
       "\t<dt>openxlsx</dt>\n",
       "\t\t<dd>TRUE</dd>\n",
       "</dl>\n"
      ],
      "text/latex": [
       "\\begin{description*}\n",
       "\\item[pipeR] TRUE\n",
       "\\item[dplyr] TRUE\n",
       "\\item[tidyr] TRUE\n",
       "\\item[ggplot2] TRUE\n",
       "\\item[Cairo] TRUE\n",
       "\\item[readr] TRUE\n",
       "\\item[readxl] TRUE\n",
       "\\item[openxlsx] TRUE\n",
       "\\end{description*}\n"
      ],
      "text/markdown": [
       "pipeR\n",
       ":   TRUEdplyr\n",
       ":   TRUEtidyr\n",
       ":   TRUEggplot2\n",
       ":   TRUECairo\n",
       ":   TRUEreadr\n",
       ":   TRUEreadxl\n",
       ":   TRUEopenxlsx\n",
       ":   TRUE\n",
       "\n"
      ],
      "text/plain": [
       "   pipeR    dplyr    tidyr  ggplot2    Cairo    readr   readxl openxlsx \n",
       "    TRUE     TRUE     TRUE     TRUE     TRUE     TRUE     TRUE     TRUE "
      ]
     },
     "metadata": {},
     "output_type": "display_data"
    }
   ],
   "source": [
    "sapply(c(\"pipeR\", \"dplyr\", \"tidyr\", \"ggplot2\", \"Cairo\", \"readr\", \"readxl\", \"openxlsx\"), require, character.only = TRUE)"
   ]
  },
  {
   "cell_type": "code",
   "execution_count": 3,
   "metadata": {
    "collapsed": true
   },
   "outputs": [],
   "source": [
    "options(repr.plot.width = 4, repr.plot.height = 4)"
   ]
  },
  {
   "cell_type": "markdown",
   "metadata": {},
   "source": [
    "# Chapter 2 統計の基礎\n",
    "## 2.1 尺度水準\n",
    "\n",
    "* 名義尺度\n",
    "* 順序尺度\n",
    "* 間隔尺度\n",
    "* 比例尺度・比率尺度\n",
    "\n",
    "## 代表値\n",
    "\n",
    "* 平均値 $\\bar{X}$ （算術平均）"
   ]
  },
  {
   "cell_type": "code",
   "execution_count": 4,
   "metadata": {
    "collapsed": false
   },
   "outputs": [
    {
     "data": {
      "text/html": [
       "24.8"
      ],
      "text/latex": [
       "24.8"
      ],
      "text/markdown": [
       "24.8"
      ],
      "text/plain": [
       "[1] 24.8"
      ]
     },
     "metadata": {},
     "output_type": "display_data"
    }
   ],
   "source": [
    "X <- c(0, 7, 8, 9, 100)\n",
    "mean(X)"
   ]
  },
  {
   "cell_type": "markdown",
   "metadata": {},
   "source": [
    "* NA: 欠損値\n",
    "* NaN: Not a Number"
   ]
  },
  {
   "cell_type": "code",
   "execution_count": 5,
   "metadata": {
    "collapsed": false
   },
   "outputs": [
    {
     "data": {
      "text/html": [
       "<ol class=list-inline>\n",
       "\t<li>0</li>\n",
       "\t<li>7</li>\n",
       "\t<li>8</li>\n",
       "\t<li>NA</li>\n",
       "\t<li>NaN</li>\n",
       "</ol>\n"
      ],
      "text/latex": [
       "\\begin{enumerate*}\n",
       "\\item 0\n",
       "\\item 7\n",
       "\\item 8\n",
       "\\item NA\n",
       "\\item NaN\n",
       "\\end{enumerate*}\n"
      ],
      "text/markdown": [
       "1. 0\n",
       "2. 7\n",
       "3. 8\n",
       "4. NA\n",
       "5. NaN\n",
       "\n",
       "\n"
      ],
      "text/plain": [
       "[1]   0   7   8  NA NaN"
      ]
     },
     "metadata": {},
     "output_type": "display_data"
    }
   ],
   "source": [
    "Y <- c(0, 7, 8, NA, 0/0)\n",
    "Y"
   ]
  },
  {
   "cell_type": "code",
   "execution_count": 6,
   "metadata": {
    "collapsed": false
   },
   "outputs": [
    {
     "data": {
      "text/plain": [
       "[1] NA"
      ]
     },
     "metadata": {},
     "output_type": "display_data"
    }
   ],
   "source": [
    "mean(Y)"
   ]
  },
  {
   "cell_type": "markdown",
   "metadata": {},
   "source": [
    "`na.rm = TRUE` は NaN も消す"
   ]
  },
  {
   "cell_type": "code",
   "execution_count": 7,
   "metadata": {
    "collapsed": false
   },
   "outputs": [
    {
     "data": {
      "text/html": [
       "5"
      ],
      "text/latex": [
       "5"
      ],
      "text/markdown": [
       "5"
      ],
      "text/plain": [
       "[1] 5"
      ]
     },
     "metadata": {},
     "output_type": "display_data"
    }
   ],
   "source": [
    "mean(Y, na.rm = TRUE)"
   ]
  },
  {
   "cell_type": "markdown",
   "metadata": {},
   "source": [
    "* 幾何平均\n",
    "* トリム平均\n",
    "\n",
    "20%除去"
   ]
  },
  {
   "cell_type": "code",
   "execution_count": 8,
   "metadata": {
    "collapsed": false
   },
   "outputs": [
    {
     "data": {
      "text/html": [
       "8"
      ],
      "text/latex": [
       "8"
      ],
      "text/markdown": [
       "8"
      ],
      "text/plain": [
       "[1] 8"
      ]
     },
     "metadata": {},
     "output_type": "display_data"
    }
   ],
   "source": [
    "mean(X, trim = 0.2)"
   ]
  },
  {
   "cell_type": "code",
   "execution_count": 9,
   "metadata": {
    "collapsed": false
   },
   "outputs": [
    {
     "data": {
      "text/html": [
       "8"
      ],
      "text/latex": [
       "8"
      ],
      "text/markdown": [
       "8"
      ],
      "text/plain": [
       "[1] 8"
      ]
     },
     "metadata": {},
     "output_type": "display_data"
    }
   ],
   "source": [
    "mean(X[2:4])"
   ]
  },
  {
   "cell_type": "markdown",
   "metadata": {},
   "source": [
    "* 中央値"
   ]
  },
  {
   "cell_type": "code",
   "execution_count": 10,
   "metadata": {
    "collapsed": false
   },
   "outputs": [
    {
     "data": {
      "text/html": [
       "8"
      ],
      "text/latex": [
       "8"
      ],
      "text/markdown": [
       "8"
      ],
      "text/plain": [
       "[1] 8"
      ]
     },
     "metadata": {},
     "output_type": "display_data"
    }
   ],
   "source": [
    "median(X)"
   ]
  },
  {
   "cell_type": "markdown",
   "metadata": {},
   "source": [
    "* ウィンザライズド平均\n",
    "* ミッドレンジ"
   ]
  },
  {
   "cell_type": "markdown",
   "metadata": {},
   "source": [
    "## 2.3 確率変数，乱数，母集団，標本\n",
    "\n",
    "* 分散，母分散\n",
    "\n",
    "$$\\sigma^2 = V(X) = E((X - \\mu)^2), \\mu = E(X)$$\n",
    "\n",
    "* 標準偏差\n",
    "\n",
    "$$\\sigma = \\sqrt{E((X - \\mu)^2}$$\n",
    "\n",
    "確率変数$X$，$Y$が独立なら，和の分散は分散の和なので，\n",
    "\n",
    "$$ \\sigma^2_{X \\pm Y} = \\sigma^2_X + \\sigma^2_Y $$"
   ]
  },
  {
   "cell_type": "markdown",
   "metadata": {},
   "source": [
    "標本分散は $n-1$ で割る\n",
    "\n",
    "$$\\frac{1}{n-1}\\sum\\limits^n_{ti = 1}(X_i - \\bar{X})^2$$"
   ]
  },
  {
   "cell_type": "code",
   "execution_count": 11,
   "metadata": {
    "collapsed": false
   },
   "outputs": [
    {
     "data": {
      "text/html": [
       "2.5"
      ],
      "text/latex": [
       "2.5"
      ],
      "text/markdown": [
       "2.5"
      ],
      "text/plain": [
       "[1] 2.5"
      ]
     },
     "metadata": {},
     "output_type": "display_data"
    }
   ],
   "source": [
    "x <- 1:5\n",
    "var(x)"
   ]
  },
  {
   "cell_type": "markdown",
   "metadata": {},
   "source": [
    "どれか一つを外して分散を出す"
   ]
  },
  {
   "cell_type": "code",
   "execution_count": 12,
   "metadata": {
    "collapsed": false
   },
   "outputs": [
    {
     "data": {
      "text/html": [
       "<ol class=list-inline>\n",
       "\t<li>1.66666666666667</li>\n",
       "\t<li>2.91666666666667</li>\n",
       "\t<li>3.33333333333333</li>\n",
       "\t<li>2.91666666666667</li>\n",
       "\t<li>1.66666666666667</li>\n",
       "</ol>\n"
      ],
      "text/latex": [
       "\\begin{enumerate*}\n",
       "\\item 1.66666666666667\n",
       "\\item 2.91666666666667\n",
       "\\item 3.33333333333333\n",
       "\\item 2.91666666666667\n",
       "\\item 1.66666666666667\n",
       "\\end{enumerate*}\n"
      ],
      "text/markdown": [
       "1. 1.66666666666667\n",
       "2. 2.91666666666667\n",
       "3. 3.33333333333333\n",
       "4. 2.91666666666667\n",
       "5. 1.66666666666667\n",
       "\n",
       "\n"
      ],
      "text/plain": [
       "[1] 1.666667 2.916667 3.333333 2.916667 1.666667"
      ]
     },
     "metadata": {},
     "output_type": "display_data"
    }
   ],
   "source": [
    "apply(combn(c(1:5), 4), 2, var)"
   ]
  },
  {
   "cell_type": "markdown",
   "metadata": {},
   "source": [
    "平均は元の分散と一致"
   ]
  },
  {
   "cell_type": "code",
   "execution_count": 13,
   "metadata": {
    "collapsed": false
   },
   "outputs": [
    {
     "data": {
      "text/html": [
       "2.5"
      ],
      "text/latex": [
       "2.5"
      ],
      "text/markdown": [
       "2.5"
      ],
      "text/plain": [
       "[1] 2.5"
      ]
     },
     "metadata": {},
     "output_type": "display_data"
    }
   ],
   "source": [
    "apply(combn(c(1:5), 4), 2, var) %>>% mean()"
   ]
  },
  {
   "cell_type": "markdown",
   "metadata": {},
   "source": [
    "$n$ で割る分散"
   ]
  },
  {
   "cell_type": "code",
   "execution_count": 14,
   "metadata": {
    "collapsed": true
   },
   "outputs": [],
   "source": [
    "varp <- function(x){var(x) * (length(x) - 1) / length(x)}"
   ]
  },
  {
   "cell_type": "code",
   "execution_count": 15,
   "metadata": {
    "collapsed": false
   },
   "outputs": [
    {
     "data": {
      "text/html": [
       "2"
      ],
      "text/latex": [
       "2"
      ],
      "text/markdown": [
       "2"
      ],
      "text/plain": [
       "[1] 2"
      ]
     },
     "metadata": {},
     "output_type": "display_data"
    }
   ],
   "source": [
    "varp(x)"
   ]
  },
  {
   "cell_type": "code",
   "execution_count": 16,
   "metadata": {
    "collapsed": false
   },
   "outputs": [
    {
     "data": {
      "text/html": [
       "2.5"
      ],
      "text/latex": [
       "2.5"
      ],
      "text/markdown": [
       "2.5"
      ],
      "text/plain": [
       "[1] 2.5"
      ]
     },
     "metadata": {},
     "output_type": "display_data"
    }
   ],
   "source": [
    "var(x)"
   ]
  },
  {
   "cell_type": "markdown",
   "metadata": {},
   "source": [
    "* 標準偏差"
   ]
  },
  {
   "cell_type": "code",
   "execution_count": 17,
   "metadata": {
    "collapsed": false
   },
   "outputs": [
    {
     "data": {
      "text/html": [
       "3.02765035409749"
      ],
      "text/latex": [
       "3.02765035409749"
      ],
      "text/markdown": [
       "3.02765035409749"
      ],
      "text/plain": [
       "[1] 3.02765"
      ]
     },
     "metadata": {},
     "output_type": "display_data"
    }
   ],
   "source": [
    "x <- 1:10\n",
    "sd(x)"
   ]
  },
  {
   "cell_type": "markdown",
   "metadata": {},
   "source": [
    "* 四分位範囲（IQR），五数要約"
   ]
  },
  {
   "cell_type": "code",
   "execution_count": 18,
   "metadata": {
    "collapsed": false
   },
   "outputs": [
    {
     "data": {
      "text/html": [
       "4"
      ],
      "text/latex": [
       "4"
      ],
      "text/markdown": [
       "4"
      ],
      "text/plain": [
       "[1] 4"
      ]
     },
     "metadata": {},
     "output_type": "display_data"
    }
   ],
   "source": [
    "x <- 1:9\n",
    "IQR(x)"
   ]
  },
  {
   "cell_type": "code",
   "execution_count": 19,
   "metadata": {
    "collapsed": false
   },
   "outputs": [
    {
     "data": {
      "text/html": [
       "<dl class=dl-horizontal>\n",
       "\t<dt>0%</dt>\n",
       "\t\t<dd>1</dd>\n",
       "\t<dt>25%</dt>\n",
       "\t\t<dd>3</dd>\n",
       "\t<dt>50%</dt>\n",
       "\t\t<dd>5</dd>\n",
       "\t<dt>75%</dt>\n",
       "\t\t<dd>7</dd>\n",
       "\t<dt>100%</dt>\n",
       "\t\t<dd>9</dd>\n",
       "</dl>\n"
      ],
      "text/latex": [
       "\\begin{description*}\n",
       "\\item[0\\textbackslash{}\\%] 1\n",
       "\\item[25\\textbackslash{}\\%] 3\n",
       "\\item[50\\textbackslash{}\\%] 5\n",
       "\\item[75\\textbackslash{}\\%] 7\n",
       "\\item[100\\textbackslash{}\\%] 9\n",
       "\\end{description*}\n"
      ],
      "text/markdown": [
       "0%\n",
       ":   125%\n",
       ":   350%\n",
       ":   575%\n",
       ":   7100%\n",
       ":   9\n",
       "\n"
      ],
      "text/plain": [
       "  0%  25%  50%  75% 100% \n",
       "   1    3    5    7    9 "
      ]
     },
     "metadata": {},
     "output_type": "display_data"
    }
   ],
   "source": [
    "quantile(x)"
   ]
  },
  {
   "cell_type": "code",
   "execution_count": 20,
   "metadata": {
    "collapsed": false
   },
   "outputs": [
    {
     "data": {
      "text/html": [
       "<ol class=list-inline>\n",
       "\t<li>1</li>\n",
       "\t<li>3</li>\n",
       "\t<li>5</li>\n",
       "\t<li>7</li>\n",
       "\t<li>9</li>\n",
       "</ol>\n"
      ],
      "text/latex": [
       "\\begin{enumerate*}\n",
       "\\item 1\n",
       "\\item 3\n",
       "\\item 5\n",
       "\\item 7\n",
       "\\item 9\n",
       "\\end{enumerate*}\n"
      ],
      "text/markdown": [
       "1. 1\n",
       "2. 3\n",
       "3. 5\n",
       "4. 7\n",
       "5. 9\n",
       "\n",
       "\n"
      ],
      "text/plain": [
       "[1] 1 3 5 7 9"
      ]
     },
     "metadata": {},
     "output_type": "display_data"
    }
   ],
   "source": [
    "fivenum(x)"
   ]
  },
  {
   "cell_type": "code",
   "execution_count": 21,
   "metadata": {
    "collapsed": false
   },
   "outputs": [
    {
     "data": {
      "text/html": [
       "11.5"
      ],
      "text/latex": [
       "11.5"
      ],
      "text/markdown": [
       "11.5"
      ],
      "text/plain": [
       "[1] 11.5"
      ]
     },
     "metadata": {},
     "output_type": "display_data"
    }
   ],
   "source": [
    "y <- c(1, 2, 4, 8, 16, 32)\n",
    "IQR(y)"
   ]
  },
  {
   "cell_type": "code",
   "execution_count": 22,
   "metadata": {
    "collapsed": false
   },
   "outputs": [
    {
     "data": {
      "text/html": [
       "<dl class=dl-horizontal>\n",
       "\t<dt>0%</dt>\n",
       "\t\t<dd>1</dd>\n",
       "\t<dt>25%</dt>\n",
       "\t\t<dd>2.5</dd>\n",
       "\t<dt>50%</dt>\n",
       "\t\t<dd>6</dd>\n",
       "\t<dt>75%</dt>\n",
       "\t\t<dd>14</dd>\n",
       "\t<dt>100%</dt>\n",
       "\t\t<dd>32</dd>\n",
       "</dl>\n"
      ],
      "text/latex": [
       "\\begin{description*}\n",
       "\\item[0\\textbackslash{}\\%] 1\n",
       "\\item[25\\textbackslash{}\\%] 2.5\n",
       "\\item[50\\textbackslash{}\\%] 6\n",
       "\\item[75\\textbackslash{}\\%] 14\n",
       "\\item[100\\textbackslash{}\\%] 32\n",
       "\\end{description*}\n"
      ],
      "text/markdown": [
       "0%\n",
       ":   125%\n",
       ":   2.550%\n",
       ":   675%\n",
       ":   14100%\n",
       ":   32\n",
       "\n"
      ],
      "text/plain": [
       "  0%  25%  50%  75% 100% \n",
       " 1.0  2.5  6.0 14.0 32.0 "
      ]
     },
     "metadata": {},
     "output_type": "display_data"
    }
   ],
   "source": [
    "quantile(y)"
   ]
  },
  {
   "cell_type": "code",
   "execution_count": 23,
   "metadata": {
    "collapsed": false
   },
   "outputs": [
    {
     "data": {
      "text/html": [
       "<ol class=list-inline>\n",
       "\t<li>1</li>\n",
       "\t<li>2</li>\n",
       "\t<li>6</li>\n",
       "\t<li>16</li>\n",
       "\t<li>32</li>\n",
       "</ol>\n"
      ],
      "text/latex": [
       "\\begin{enumerate*}\n",
       "\\item 1\n",
       "\\item 2\n",
       "\\item 6\n",
       "\\item 16\n",
       "\\item 32\n",
       "\\end{enumerate*}\n"
      ],
      "text/markdown": [
       "1. 1\n",
       "2. 2\n",
       "3. 6\n",
       "4. 16\n",
       "5. 32\n",
       "\n",
       "\n"
      ],
      "text/plain": [
       "[1]  1  2  6 16 32"
      ]
     },
     "metadata": {},
     "output_type": "display_data"
    }
   ],
   "source": [
    "fivenum(y)"
   ]
  },
  {
   "cell_type": "markdown",
   "metadata": {},
   "source": [
    "## 2.5 中心極限定理と正規分布"
   ]
  },
  {
   "cell_type": "code",
   "execution_count": 24,
   "metadata": {
    "collapsed": false
   },
   "outputs": [
    {
     "data": {
      "text/html": [
       "0.694388467818499"
      ],
      "text/latex": [
       "0.694388467818499"
      ],
      "text/markdown": [
       "0.694388467818499"
      ],
      "text/plain": [
       "[1] 0.6943885"
      ]
     },
     "metadata": {},
     "output_type": "display_data"
    }
   ],
   "source": [
    "runif(1)"
   ]
  },
  {
   "cell_type": "code",
   "execution_count": 25,
   "metadata": {
    "collapsed": false
   },
   "outputs": [
    {
     "data": {
      "text/html": [
       "<ol class=list-inline>\n",
       "\t<li>0.0599522674456239</li>\n",
       "\t<li>0.14177155890502</li>\n",
       "\t<li>0.12507683201693</li>\n",
       "\t<li>0.341188301332295</li>\n",
       "\t<li>0.729639914119616</li>\n",
       "\t<li>0.935263719176874</li>\n",
       "\t<li>0.162848466774449</li>\n",
       "\t<li>0.997261801734567</li>\n",
       "\t<li>0.458715535467491</li>\n",
       "\t<li>0.906446796841919</li>\n",
       "</ol>\n"
      ],
      "text/latex": [
       "\\begin{enumerate*}\n",
       "\\item 0.0599522674456239\n",
       "\\item 0.14177155890502\n",
       "\\item 0.12507683201693\n",
       "\\item 0.341188301332295\n",
       "\\item 0.729639914119616\n",
       "\\item 0.935263719176874\n",
       "\\item 0.162848466774449\n",
       "\\item 0.997261801734567\n",
       "\\item 0.458715535467491\n",
       "\\item 0.906446796841919\n",
       "\\end{enumerate*}\n"
      ],
      "text/markdown": [
       "1. 0.0599522674456239\n",
       "2. 0.14177155890502\n",
       "3. 0.12507683201693\n",
       "4. 0.341188301332295\n",
       "5. 0.729639914119616\n",
       "6. 0.935263719176874\n",
       "7. 0.162848466774449\n",
       "8. 0.997261801734567\n",
       "9. 0.458715535467491\n",
       "10. 0.906446796841919\n",
       "\n",
       "\n"
      ],
      "text/plain": [
       " [1] 0.05995227 0.14177156 0.12507683 0.34118830 0.72963991 0.93526372\n",
       " [7] 0.16284847 0.99726180 0.45871554 0.90644680"
      ]
     },
     "metadata": {},
     "output_type": "display_data"
    }
   ],
   "source": [
    "runif(10)"
   ]
  },
  {
   "cell_type": "markdown",
   "metadata": {},
   "source": [
    "0.5引いて範囲を $-0.5 \\leq x \\leq 0.5$ に\n",
    "\n",
    "分散は，\n",
    "\n",
    "$$\\int^{0.5}_{0.5} x^2dx = \\frac{1}{12}$$\n",
    "\n",
    "なので，12個足すと1になる"
   ]
  },
  {
   "cell_type": "code",
   "execution_count": 26,
   "metadata": {
    "collapsed": false
   },
   "outputs": [
    {
     "data": {},
     "metadata": {},
     "output_type": "display_data"
    },
    {
     "data": {
      "image/png": "[encoded data removed]",
      "text/plain": [
       "plot without title"
      ]
     },
     "metadata": {},
     "output_type": "display_data"
    }
   ],
   "source": [
    "X <- runif(1000000) - 0.5\n",
    "data.frame(x = X) %>>% \n",
    "    ggplot(aes(x = x, y = ..density..)) + \n",
    "        geom_histogram(bins = 50, fill = \"gray\", colour = \"white\") + \n",
    "        theme_bw() + \n",
    "        scale_x_continuous(limits = c(-2.1, 2.1))"
   ]
  },
  {
   "cell_type": "code",
   "execution_count": 27,
   "metadata": {
    "collapsed": false
   },
   "outputs": [
    {
     "data": {},
     "metadata": {},
     "output_type": "display_data"
    },
    {
     "data": {
      "image/png": "[encoded data removed]",
      "text/plain": [
       "plot without title"
      ]
     },
     "metadata": {},
     "output_type": "display_data"
    }
   ],
   "source": [
    "X <- (runif(1000000) - 0.5) + (runif(1000000) - 0.5)\n",
    "data.frame(x = X) %>>% \n",
    "    ggplot(aes(x = x, y = ..density..)) + \n",
    "        geom_histogram(bins = 50, fill = \"gray\", colour = \"white\") + \n",
    "        theme_bw() + \n",
    "        scale_x_continuous(limits = c(-2.1, 2.1))"
   ]
  },
  {
   "cell_type": "code",
   "execution_count": 28,
   "metadata": {
    "collapsed": false
   },
   "outputs": [
    {
     "data": {},
     "metadata": {},
     "output_type": "display_data"
    },
    {
     "data": {
      "image/png": "[encoded data removed]",
      "text/plain": [
       "plot without title"
      ]
     },
     "metadata": {},
     "output_type": "display_data"
    }
   ],
   "source": [
    "X <- (runif(1000000) - 0.5) + (runif(1000000) - 0.5) + (runif(1000000) - 0.5)\n",
    "data.frame(x = X) %>>% \n",
    "    ggplot(aes(x = x, y = ..density..)) + \n",
    "        geom_histogram(bins = 50, fill = \"gray\", colour = \"white\") + \n",
    "        theme_bw() + \n",
    "        scale_x_continuous(limits = c(-2.1, 2.1))"
   ]
  },
  {
   "cell_type": "code",
   "execution_count": 29,
   "metadata": {
    "collapsed": false
   },
   "outputs": [
    {
     "data": {
      "text/html": [
       "<ol class=list-inline>\n",
       "\t<li>0.490261775674298</li>\n",
       "\t<li>-0.458697825437412</li>\n",
       "\t<li>0.17544887540862</li>\n",
       "\t<li>0.315351769328117</li>\n",
       "\t<li>0.128530755639076</li>\n",
       "\t<li>0.798953951336443</li>\n",
       "\t<li>-1.33212953736074</li>\n",
       "\t<li>-0.137308562872931</li>\n",
       "\t<li>1.43822300923057</li>\n",
       "\t<li>-0.0689721442759037</li>\n",
       "</ol>\n"
      ],
      "text/latex": [
       "\\begin{enumerate*}\n",
       "\\item 0.490261775674298\n",
       "\\item -0.458697825437412\n",
       "\\item 0.17544887540862\n",
       "\\item 0.315351769328117\n",
       "\\item 0.128530755639076\n",
       "\\item 0.798953951336443\n",
       "\\item -1.33212953736074\n",
       "\\item -0.137308562872931\n",
       "\\item 1.43822300923057\n",
       "\\item -0.0689721442759037\n",
       "\\end{enumerate*}\n"
      ],
      "text/markdown": [
       "1. 0.490261775674298\n",
       "2. -0.458697825437412\n",
       "3. 0.17544887540862\n",
       "4. 0.315351769328117\n",
       "5. 0.128530755639076\n",
       "6. 0.798953951336443\n",
       "7. -1.33212953736074\n",
       "8. -0.137308562872931\n",
       "9. 1.43822300923057\n",
       "10. -0.0689721442759037\n",
       "\n",
       "\n"
      ],
      "text/plain": [
       " [1]  0.49026178 -0.45869783  0.17544888  0.31535177  0.12853076  0.79895395\n",
       " [7] -1.33212954 -0.13730856  1.43822301 -0.06897214"
      ]
     },
     "metadata": {},
     "output_type": "display_data"
    }
   ],
   "source": [
    "c(1:12) %>>% \n",
    "    lapply(function(x){\n",
    "        runif(10) - 0.5}\n",
    "    ) %>>% \n",
    "    {do.call(rbind, (.))} %>>%\n",
    "    apply(2, sum)"
   ]
  },
  {
   "cell_type": "code",
   "execution_count": 30,
   "metadata": {
    "collapsed": false
   },
   "outputs": [],
   "source": [
    "X <- c(1:12) %>>% \n",
    "        lapply(function(x){\n",
    "            runif(1000000) - 0.5}\n",
    "        ) %>>% \n",
    "        {do.call(rbind, (.))} %>>%\n",
    "        apply(2, sum)"
   ]
  },
  {
   "cell_type": "code",
   "execution_count": 31,
   "metadata": {
    "collapsed": false
   },
   "outputs": [
    {
     "data": {},
     "metadata": {},
     "output_type": "display_data"
    },
    {
     "data": {
      "image/png": "[encoded data removed]",
      "text/plain": [
       "plot without title"
      ]
     },
     "metadata": {},
     "output_type": "display_data"
    }
   ],
   "source": [
    "data.frame(x = X) %>>% \n",
    "    ggplot(aes(x)) + \n",
    "        geom_histogram(aes(y = ..density..), bins = 50, fill = \"gray\", colour = \"white\") + \n",
    "        theme_bw() + \n",
    "        scale_x_continuous(limits = c(-5, 5)) + \n",
    "        stat_function(fun = dnorm)"
   ]
  },
  {
   "cell_type": "markdown",
   "metadata": {},
   "source": [
    "* 標準正規分布\n",
    "\n",
    "$$ f(x) = \\frac{1}{\\sqrt{2\\pi}}\\exp\\left(-\\frac{x^2}{2}\\right) $$\n",
    "\n",
    "$-\\infty$ から $\\infty$ まで積分すると1になる"
   ]
  },
  {
   "cell_type": "markdown",
   "metadata": {},
   "source": [
    "正規分布の確率密度関数: `dnorm(x, mean = 0, sd = 1)`"
   ]
  },
  {
   "cell_type": "code",
   "execution_count": 32,
   "metadata": {
    "collapsed": false
   },
   "outputs": [
    {
     "data": {
      "text/html": [
       "0.241970724519143"
      ],
      "text/latex": [
       "0.241970724519143"
      ],
      "text/markdown": [
       "0.241970724519143"
      ],
      "text/plain": [
       "[1] 0.2419707"
      ]
     },
     "metadata": {},
     "output_type": "display_data"
    }
   ],
   "source": [
    "dnorm(1)"
   ]
  },
  {
   "cell_type": "code",
   "execution_count": 33,
   "metadata": {
    "collapsed": false
   },
   "outputs": [
    {
     "data": {
      "text/html": [
       "0.241970724519143"
      ],
      "text/latex": [
       "0.241970724519143"
      ],
      "text/markdown": [
       "0.241970724519143"
      ],
      "text/plain": [
       "[1] 0.2419707"
      ]
     },
     "metadata": {},
     "output_type": "display_data"
    }
   ],
   "source": [
    "(1 / sqrt(2 * pi)) * exp(-1^2 / 2)"
   ]
  },
  {
   "cell_type": "markdown",
   "metadata": {},
   "source": [
    "$$\\int^{\\infty}_{-\\infty} -\\frac{x^2}{2}dx$$"
   ]
  },
  {
   "cell_type": "code",
   "execution_count": 34,
   "metadata": {
    "collapsed": false
   },
   "outputs": [
    {
     "data": {
      "text/plain": [
       "2.506628 with absolute error < 0.00023"
      ]
     },
     "metadata": {},
     "output_type": "display_data"
    }
   ],
   "source": [
    "integrate(function(x){exp(-x^2/2)}, -Inf, Inf)"
   ]
  },
  {
   "cell_type": "code",
   "execution_count": 35,
   "metadata": {
    "collapsed": false
   },
   "outputs": [
    {
     "data": {
      "text/html": [
       "2.506628274631"
      ],
      "text/latex": [
       "2.506628274631"
      ],
      "text/markdown": [
       "2.506628274631"
      ],
      "text/plain": [
       "[1] 2.506628"
      ]
     },
     "metadata": {},
     "output_type": "display_data"
    }
   ],
   "source": [
    "sqrt(2 * pi)"
   ]
  },
  {
   "cell_type": "markdown",
   "metadata": {},
   "source": [
    "中心極限定理\n",
    "\n",
    "平均 $\\mu$， 分散 $\\sigma^2$の確率変数$X$から取り出した数の平均値$\\bar{X}$\n",
    "\n",
    "$$\\bar{X} = \\frac{X_1 + X_2 + \\ldots + X_n}{n}$$\n",
    "\n",
    "の分布は，平均$\\mu$，分散$\\sigma^2/n$なので\n",
    "\n",
    "$$ \\frac{\\bar{X} - \\mu}{\\sqrt{\\sigma^$/n}} $$\n",
    "\n",
    "の分布は平均 0 分散 1になる．\n",
    "nが十分大きくなると標準正規分布に近づく．"
   ]
  },
  {
   "cell_type": "markdown",
   "metadata": {},
   "source": [
    "確率分布に関するRの関数: dxx, pxx, qxx, rxx\n",
    "\n",
    "正規分布の場合は，\n",
    "\n",
    "* 密度関数: `dnorm(x)`\n",
    "* 分布関数: `pnorm(q)` = $\\int^q_{-\\infty}\\mathrm{dnorm}(x)dx$\n",
    "* 分位関数: `qnorm(p)`\n",
    "* 乱数発生: `rnorm(n)`"
   ]
  },
  {
   "cell_type": "markdown",
   "metadata": {},
   "source": [
    "正規分布$\\mathcal{N}(\\mu, \\sigma^2)$ に従う$X$が $\\mu - \\sigma \\lt X \\lt \\mu + \\sigma$ に入る確率\n",
    "\n",
    "$\\mathcal{N}(0, 1)$ に従う$Z$が $-1 \\lt Z \\lt 1$ に入る確率に等しい"
   ]
  },
  {
   "cell_type": "code",
   "execution_count": 36,
   "metadata": {
    "collapsed": false
   },
   "outputs": [
    {
     "data": {
      "text/html": [
       "0.682689492137086"
      ],
      "text/latex": [
       "0.682689492137086"
      ],
      "text/markdown": [
       "0.682689492137086"
      ],
      "text/plain": [
       "[1] 0.6826895"
      ]
     },
     "metadata": {},
     "output_type": "display_data"
    }
   ],
   "source": [
    "pnorm(1) - pnorm(-1)"
   ]
  },
  {
   "cell_type": "code",
   "execution_count": 37,
   "metadata": {
    "collapsed": false
   },
   "outputs": [
    {
     "data": {
      "text/html": [
       "0.682689492137086"
      ],
      "text/latex": [
       "0.682689492137086"
      ],
      "text/markdown": [
       "0.682689492137086"
      ],
      "text/plain": [
       "[1] 0.6826895"
      ]
     },
     "metadata": {},
     "output_type": "display_data"
    }
   ],
   "source": [
    "1 - 2 * pnorm(-1)"
   ]
  },
  {
   "cell_type": "markdown",
   "metadata": {},
   "source": [
    "2$\\sigma$"
   ]
  },
  {
   "cell_type": "code",
   "execution_count": 38,
   "metadata": {
    "collapsed": false
   },
   "outputs": [
    {
     "data": {
      "text/html": [
       "0.954499736103642"
      ],
      "text/latex": [
       "0.954499736103642"
      ],
      "text/markdown": [
       "0.954499736103642"
      ],
      "text/plain": [
       "[1] 0.9544997"
      ]
     },
     "metadata": {},
     "output_type": "display_data"
    }
   ],
   "source": [
    "1 - 2 * pnorm(-2)"
   ]
  },
  {
   "cell_type": "markdown",
   "metadata": {},
   "source": [
    "3$\\sigma$"
   ]
  },
  {
   "cell_type": "code",
   "execution_count": 39,
   "metadata": {
    "collapsed": false
   },
   "outputs": [
    {
     "data": {
      "text/html": [
       "0.99730020393674"
      ],
      "text/latex": [
       "0.99730020393674"
      ],
      "text/markdown": [
       "0.99730020393674"
      ],
      "text/plain": [
       "[1] 0.9973002"
      ]
     },
     "metadata": {},
     "output_type": "display_data"
    }
   ],
   "source": [
    "1 - 2 * pnorm(-3)"
   ]
  },
  {
   "cell_type": "markdown",
   "metadata": {},
   "source": [
    "95%"
   ]
  },
  {
   "cell_type": "code",
   "execution_count": 40,
   "metadata": {
    "collapsed": false
   },
   "outputs": [
    {
     "data": {
      "text/html": [
       "1.64485362695147"
      ],
      "text/latex": [
       "1.64485362695147"
      ],
      "text/markdown": [
       "1.64485362695147"
      ],
      "text/plain": [
       "[1] 1.644854"
      ]
     },
     "metadata": {},
     "output_type": "display_data"
    }
   ],
   "source": [
    "qnorm(0.95)"
   ]
  },
  {
   "cell_type": "markdown",
   "metadata": {},
   "source": [
    "99%"
   ]
  },
  {
   "cell_type": "code",
   "execution_count": 41,
   "metadata": {
    "collapsed": false,
    "scrolled": true
   },
   "outputs": [
    {
     "data": {
      "text/html": [
       "2.32634787404084"
      ],
      "text/latex": [
       "2.32634787404084"
      ],
      "text/markdown": [
       "2.32634787404084"
      ],
      "text/plain": [
       "[1] 2.326348"
      ]
     },
     "metadata": {},
     "output_type": "display_data"
    }
   ],
   "source": [
    "qnorm(0.99)"
   ]
  },
  {
   "cell_type": "markdown",
   "metadata": {},
   "source": [
    "* テストの分布"
   ]
  },
  {
   "cell_type": "code",
   "execution_count": 42,
   "metadata": {
    "collapsed": false
   },
   "outputs": [
    {
     "name": "stdout",
     "output_type": "stream",
     "text": [
      "Classes ‘tbl_df’, ‘tbl’ and 'data.frame':\t26 obs. of  2 variables:\n",
      " $ 正答数: int  0 1 2 3 4 5 6 7 8 9 ...\n",
      " $ 生徒数: int  2247 4449 10774 19983 29385 37881 44207 48518 51221 53379 ...\n"
     ]
    }
   ],
   "source": [
    "x <- read_csv(\"data/rika_hist.csv\")\n",
    "str(x)"
   ]
  },
  {
   "cell_type": "code",
   "execution_count": 43,
   "metadata": {
    "collapsed": true
   },
   "outputs": [],
   "source": [
    "names(x) <- c(\"correct\", \"student\")"
   ]
  },
  {
   "cell_type": "markdown",
   "metadata": {},
   "source": [
    "平均"
   ]
  },
  {
   "cell_type": "code",
   "execution_count": 44,
   "metadata": {
    "collapsed": false
   },
   "outputs": [
    {
     "data": {
      "text/html": [
       "13.3678538240688"
      ],
      "text/latex": [
       "13.3678538240688"
      ],
      "text/markdown": [
       "13.3678538240688"
      ],
      "text/plain": [
       "[1] 13.36785"
      ]
     },
     "metadata": {},
     "output_type": "display_data"
    }
   ],
   "source": [
    "rep(x$correct, x$student) %>>% mean()"
   ]
  },
  {
   "cell_type": "markdown",
   "metadata": {},
   "source": [
    "標準偏差"
   ]
  },
  {
   "cell_type": "code",
   "execution_count": 45,
   "metadata": {
    "collapsed": false
   },
   "outputs": [
    {
     "data": {
      "text/html": [
       "5.7392809746157"
      ],
      "text/latex": [
       "5.7392809746157"
      ],
      "text/markdown": [
       "5.7392809746157"
      ],
      "text/plain": [
       "[1] 5.739281"
      ]
     },
     "metadata": {},
     "output_type": "display_data"
    }
   ],
   "source": [
    "rep(x$correct, x$student) %>>% sd()"
   ]
  },
  {
   "cell_type": "code",
   "execution_count": 46,
   "metadata": {
    "collapsed": false
   },
   "outputs": [
    {
     "data": {},
     "metadata": {},
     "output_type": "display_data"
    },
    {
     "data": {
      "text/html": [
       "<strong>pdf:</strong> 2"
      ],
      "text/latex": [
       "\\textbf{pdf:} 2"
      ],
      "text/markdown": [
       "**pdf:** 2"
      ],
      "text/plain": [
       "pdf \n",
       "  2 "
      ]
     },
     "metadata": {},
     "output_type": "display_data"
    },
    {
     "data": {
      "image/png": "[encoded data removed]",
      "text/plain": [
       "plot without title"
      ]
     },
     "metadata": {},
     "output_type": "display_data"
    }
   ],
   "source": [
    "Cairo(type = \"raster\")\n",
    "CairoFonts(regular = \"IPAexGothic\")\n",
    "x %>>% ggplot(aes(x = correct, y = student / sum(student))) + \n",
    "    geom_bar(stat=\"identity\", colour = \"white\", fill = \"gray\") + \n",
    "    theme_bw() + \n",
    "    scale_x_continuous(breaks = seq(0, 25, 5)) +\n",
    "    scale_y_continuous(limits = c(0, 0.07), breaks = seq(0, 0.07, 0.01)) + \n",
    "    stat_function(fun = dnorm, args = list(mean = 13.37, sd = 5.74)) + \n",
    "    geom_vline(xintercept = 13.37, size = 0.3) + \n",
    "    xlab(\"正答数\") + \n",
    "    ylab(\"生徒数の割合\")\n",
    "dev.off()"
   ]
  },
  {
   "cell_type": "markdown",
   "metadata": {},
   "source": [
    "## 2.6 コーシー分布\n",
    "\n",
    "* 中心極限定理の前提を満たさない\n",
    "* 密度関数が$1/(1 + ax^2)$ に比例"
   ]
  },
  {
   "cell_type": "code",
   "execution_count": 47,
   "metadata": {
    "collapsed": false
   },
   "outputs": [
    {
     "data": {},
     "metadata": {},
     "output_type": "display_data"
    },
    {
     "data": {
      "image/png": "[encoded data removed]",
      "text/plain": [
       "plot without title"
      ]
     },
     "metadata": {},
     "output_type": "display_data"
    }
   ],
   "source": [
    "ggplot(data.frame(x = c(-3, 3)), aes(x)) + \n",
    "    stat_function(fun = dnorm) + \n",
    "    annotate(label = \"Normal\", geom = \"text\", x = 1.2, y = 0.35) + \n",
    "    stat_function(fun = dcauchy, size = 1) + \n",
    "    annotate(label = \"Cauchy\", geom = \"text\", x = 0.3, y = 0.16) + \n",
    "    scale_x_continuous(breaks = seq(-3, 3, 1)) + \n",
    "    scale_y_continuous(limits = c(0, 0.4)) + \n",
    "    theme_bw()"
   ]
  },
  {
   "cell_type": "code",
   "execution_count": 48,
   "metadata": {
    "collapsed": true
   },
   "outputs": [],
   "source": [
    "x <- rcauchy(1000000)"
   ]
  },
  {
   "cell_type": "code",
   "execution_count": 49,
   "metadata": {
    "collapsed": false
   },
   "outputs": [
    {
     "data": {
      "image/png": "[encoded data removed]",
      "text/plain": [
       "Plot with title “Histogram of x”"
      ]
     },
     "metadata": {},
     "output_type": "display_data"
    }
   ],
   "source": [
    "hist(x)"
   ]
  },
  {
   "cell_type": "code",
   "execution_count": 50,
   "metadata": {
    "collapsed": false
   },
   "outputs": [
    {
     "data": {
      "text/html": [
       "<ol class=list-inline>\n",
       "\t<li>-1849973.68204376</li>\n",
       "\t<li>-150069.215275854</li>\n",
       "\t<li>-122888.13942744</li>\n",
       "\t<li>-78287.2674280023</li>\n",
       "\t<li>-73159.4451264947</li>\n",
       "\t<li>-55626.4210850269</li>\n",
       "</ol>\n"
      ],
      "text/latex": [
       "\\begin{enumerate*}\n",
       "\\item -1849973.68204376\n",
       "\\item -150069.215275854\n",
       "\\item -122888.13942744\n",
       "\\item -78287.2674280023\n",
       "\\item -73159.4451264947\n",
       "\\item -55626.4210850269\n",
       "\\end{enumerate*}\n"
      ],
      "text/markdown": [
       "1. -1849973.68204376\n",
       "2. -150069.215275854\n",
       "3. -122888.13942744\n",
       "4. -78287.2674280023\n",
       "5. -73159.4451264947\n",
       "6. -55626.4210850269\n",
       "\n",
       "\n"
      ],
      "text/plain": [
       "[1] -1849973.68  -150069.22  -122888.14   -78287.27   -73159.45   -55626.42"
      ]
     },
     "metadata": {},
     "output_type": "display_data"
    }
   ],
   "source": [
    "sort(x) %>>% head()"
   ]
  },
  {
   "cell_type": "code",
   "execution_count": 51,
   "metadata": {
    "collapsed": false
   },
   "outputs": [
    {
     "data": {
      "text/html": [
       "0.0532076302030781"
      ],
      "text/latex": [
       "0.0532076302030781"
      ],
      "text/markdown": [
       "0.0532076302030781"
      ],
      "text/plain": [
       "[1] 0.05320763"
      ]
     },
     "metadata": {},
     "output_type": "display_data"
    }
   ],
   "source": [
    "mean(x)"
   ]
  },
  {
   "cell_type": "code",
   "execution_count": 52,
   "metadata": {
    "collapsed": false
   },
   "outputs": [
    {
     "data": {
      "text/html": [
       "2300.34032112357"
      ],
      "text/latex": [
       "2300.34032112357"
      ],
      "text/markdown": [
       "2300.34032112357"
      ],
      "text/plain": [
       "[1] 2300.34"
      ]
     },
     "metadata": {},
     "output_type": "display_data"
    }
   ],
   "source": [
    "sd(x)"
   ]
  },
  {
   "cell_type": "markdown",
   "metadata": {},
   "source": [
    "## 2.7 正規分布から導かれる分布\n",
    "### カイ二乗分布\n",
    "\n",
    "自由度$v$のカイ二乗分布\n",
    "\n",
    "$X$ は $\\mathcal{N}(0, 1)$ に従う\n",
    "\n",
    "$$\\chi^2 = X_1^2 + X_2^2 + \\ldots + X_v^2$$"
   ]
  },
  {
   "cell_type": "code",
   "execution_count": 53,
   "metadata": {
    "collapsed": false
   },
   "outputs": [
    {
     "name": "stderr",
     "output_type": "stream",
     "text": [
      "`stat_bin()` using `bins = 30`. Pick better value with `binwidth`.\n"
     ]
    },
    {
     "data": {},
     "metadata": {},
     "output_type": "display_data"
    },
    {
     "data": {
      "image/png": "[encoded data removed]",
      "text/plain": [
       "plot without title"
      ]
     },
     "metadata": {},
     "output_type": "display_data"
    }
   ],
   "source": [
    "ggplot(data.frame(x = rnorm(1000000)), aes(x)) + \n",
    "    geom_histogram()"
   ]
  },
  {
   "cell_type": "markdown",
   "metadata": {},
   "source": [
    "* 自由度1のカイ二乗分布"
   ]
  },
  {
   "cell_type": "code",
   "execution_count": 54,
   "metadata": {
    "collapsed": false
   },
   "outputs": [
    {
     "name": "stderr",
     "output_type": "stream",
     "text": [
      "`stat_bin()` using `bins = 30`. Pick better value with `binwidth`.\n",
      "Warning message:\n",
      "“Removed 4753 rows containing non-finite values (stat_bin).”"
     ]
    },
    {
     "data": {},
     "metadata": {},
     "output_type": "display_data"
    },
    {
     "data": {
      "image/png": "[encoded data removed]",
      "text/plain": [
       "plot without title"
      ]
     },
     "metadata": {},
     "output_type": "display_data"
    }
   ],
   "source": [
    "ggplot(data.frame(x = rnorm(1000000)^2), aes(x)) + \n",
    "    geom_histogram(aes(y = ..density..), colour = \"black\", fill = gray(0.8)) + \n",
    "    stat_function(fun = dchisq, args = list(df = 1)) + \n",
    "    theme_bw() + \n",
    "    scale_x_continuous(limits = c(0, 8)) + \n",
    "    scale_y_continuous(limits = c(0, 1))"
   ]
  },
  {
   "cell_type": "markdown",
   "metadata": {},
   "source": [
    "* 自由度2"
   ]
  },
  {
   "cell_type": "code",
   "execution_count": 55,
   "metadata": {
    "collapsed": false
   },
   "outputs": [
    {
     "name": "stderr",
     "output_type": "stream",
     "text": [
      "`stat_bin()` using `bins = 30`. Pick better value with `binwidth`.\n",
      "Warning message:\n",
      "“Removed 18315 rows containing non-finite values (stat_bin).”"
     ]
    },
    {
     "data": {},
     "metadata": {},
     "output_type": "display_data"
    },
    {
     "data": {
      "image/png": "[encoded data removed]",
      "text/plain": [
       "plot without title"
      ]
     },
     "metadata": {},
     "output_type": "display_data"
    }
   ],
   "source": [
    "ggplot(data.frame(x = rnorm(1000000)^2 + rnorm(1000000)^2), aes(x)) + \n",
    "    geom_histogram(aes(y = ..density..), colour = \"black\", fill = gray(0.8)) + \n",
    "    stat_function(fun = dchisq, args = list(df = 2)) + \n",
    "    theme_bw() + \n",
    "    scale_x_continuous(limits = c(0, 8)) + \n",
    "    scale_y_continuous(limits = c(0, 1))"
   ]
  },
  {
   "cell_type": "markdown",
   "metadata": {},
   "source": [
    "### $t$ 分布\n",
    "\n",
    "$X$ が $\\mathcal{N}(0, 1)$，$Y$が自由度$v$の$\\chi^2$分布に従うとき自由度$v$の$t$分布は，\n",
    "\n",
    "$$ t = \\frac{X}{\\sqrt{Y / v}} $$"
   ]
  },
  {
   "cell_type": "code",
   "execution_count": 56,
   "metadata": {
    "collapsed": false
   },
   "outputs": [],
   "source": [
    "fun.t <- function(x){\n",
    "    (mean(x)-0.5)/(sd(x)/sqrt(12))\n",
    "}\n",
    "t <- c(1:12) %>>% \n",
    "    lapply(function(x){runif(1000000)}) %>>% \n",
    "    {do.call(rbind, (.))} %>>%\n",
    "    apply(2, fun.t)"
   ]
  },
  {
   "cell_type": "code",
   "execution_count": 57,
   "metadata": {
    "collapsed": false
   },
   "outputs": [
    {
     "name": "stderr",
     "output_type": "stream",
     "text": [
      "`stat_bin()` using `bins = 30`. Pick better value with `binwidth`.\n",
      "Warning message:\n",
      "“Removed 1134 rows containing non-finite values (stat_bin).”"
     ]
    },
    {
     "data": {},
     "metadata": {},
     "output_type": "display_data"
    },
    {
     "data": {
      "image/png": "[encoded data removed]",
      "text/plain": [
       "plot without title"
      ]
     },
     "metadata": {},
     "output_type": "display_data"
    }
   ],
   "source": [
    "ggplot(data.frame(x = t), aes(x)) + \n",
    "    geom_histogram(aes(y = ..density..), colour = \"black\", fill = \"gray\", size = 0.1) + \n",
    "    theme_bw() + \n",
    "    scale_x_continuous(breaks =seq(-4, 4, 2), limits = c(-5, 5)) + \n",
    "    stat_function(fun = dnorm, size = 0.3, linetype = 2) + \n",
    "    stat_function(fun = dt, args = list(df = 11), size = 0.3)"
   ]
  },
  {
   "cell_type": "markdown",
   "metadata": {},
   "source": [
    "### $F$ 分布\n",
    "$u$ は 自由度$v$ の$\\chi^2$分布に従う\n",
    "\n",
    "$$ F = \\frac{u_1 / v_1}{u_2 / v_2} $$"
   ]
  },
  {
   "cell_type": "code",
   "execution_count": 58,
   "metadata": {
    "collapsed": false
   },
   "outputs": [
    {
     "data": {},
     "metadata": {},
     "output_type": "display_data"
    },
    {
     "data": {
      "image/png": "[encoded data removed]",
      "text/plain": [
       "plot without title"
      ]
     },
     "metadata": {},
     "output_type": "display_data"
    }
   ],
   "source": [
    "ggplot(data.frame(x = c(0, 5)), aes(x)) + \n",
    "    stat_function(fun = df, args = list(df1 = 1, df2 = 10)) + \n",
    "    stat_function(fun = df, args = list(df1 = 5, df2 = 10), linetype = 2) "
   ]
  },
  {
   "cell_type": "code",
   "execution_count": 59,
   "metadata": {
    "collapsed": false
   },
   "outputs": [
    {
     "name": "stderr",
     "output_type": "stream",
     "text": [
      "Session info -------------------------------------------------------------------\n",
      "Packages -----------------------------------------------------------------------\n"
     ]
    },
    {
     "data": {
      "text/plain": [
       " setting  value                       \n",
       " version  R version 3.2.3 (2015-12-10)\n",
       " system   x86_64, darwin13.4.0        \n",
       " ui       X11                         \n",
       " language (EN)                        \n",
       " collate  ja_JP.UTF-8                 \n",
       " tz       Asia/Tokyo                  \n",
       " date     2016-10-01                  \n",
       "\n",
       " package    * version    date       source                            \n",
       " assertthat   0.1        2013-12-06 CRAN (R 3.2.0)                    \n",
       " Cairo      * 1.5-9      2015-09-26 CRAN (R 3.2.0)                    \n",
       " colorspace   1.2-6      2015-03-11 CRAN (R 3.2.0)                    \n",
       " crayon       1.3.2      2016-06-28 CRAN (R 3.2.5)                    \n",
       " DBI          0.4-1      2016-05-08 CRAN (R 3.2.5)                    \n",
       " devtools     1.12.0     2016-06-24 CRAN (R 3.2.5)                    \n",
       " digest       0.6.10     2016-08-02 CRAN (R 3.2.5)                    \n",
       " dplyr      * 0.4.3      2015-09-01 CRAN (R 3.2.0)                    \n",
       " evaluate     0.9        2016-04-29 CRAN (R 3.2.5)                    \n",
       " ggplot2    * 2.1.0.9001 2016-10-01 Github (hadley/ggplot2@feb3ffd)   \n",
       " gtable       0.2.0      2016-02-26 CRAN (R 3.2.3)                    \n",
       " IRdisplay    0.4.4      2016-08-02 CRAN (R 3.2.5)                    \n",
       " IRkernel     0.7        2016-09-22 Github (IRkernel/IRkernel@16ef3ed)\n",
       " jsonlite     1.1        2016-09-14 cran (@1.1)                       \n",
       " labeling     0.3        2014-08-23 CRAN (R 3.2.0)                    \n",
       " lazyeval     0.2.0      2016-06-12 cran (@0.2.0)                     \n",
       " magrittr     1.5        2014-11-22 CRAN (R 3.2.0)                    \n",
       " memoise      1.0.0      2016-01-29 CRAN (R 3.2.3)                    \n",
       " munsell      0.4.3      2016-02-13 CRAN (R 3.2.3)                    \n",
       " openxlsx   * 3.0.0      2015-07-03 CRAN (R 3.2.0)                    \n",
       " pbdZMQ       0.2-4      2016-09-22 CRAN (R 3.2.3)                    \n",
       " pipeR      * 0.6.1.3    2016-04-04 CRAN (R 3.2.4)                    \n",
       " plyr         1.8.4      2016-06-08 cran (@1.8.4)                     \n",
       " R6           2.1.2      2016-01-26 CRAN (R 3.2.3)                    \n",
       " Rcpp         0.12.7     2016-09-05 cran (@0.12.7)                    \n",
       " readr      * 0.2.2      2015-10-22 CRAN (R 3.2.0)                    \n",
       " readxl     * 0.1.1      2016-03-28 CRAN (R 3.2.4)                    \n",
       " repr         0.9        2016-07-24 CRAN (R 3.2.5)                    \n",
       " scales       0.4.0      2016-02-26 CRAN (R 3.2.3)                    \n",
       " stringi      1.0-1      2015-10-22 CRAN (R 3.2.0)                    \n",
       " stringr      1.0.0      2015-04-30 CRAN (R 3.2.0)                    \n",
       " tibble       1.2        2016-08-26 cran (@1.2)                       \n",
       " tidyr      * 0.4.1      2016-02-05 CRAN (R 3.2.3)                    \n",
       " uuid         0.1-2      2015-07-28 CRAN (R 3.2.0)                    \n",
       " withr        1.0.1      2016-02-04 CRAN (R 3.2.3)                    "
      ]
     },
     "metadata": {},
     "output_type": "display_data"
    }
   ],
   "source": [
    "devtools::session_info()"
   ]
  }
 ],
 "metadata": {
  "kernelspec": {
   "display_name": "R",
   "language": "R",
   "name": "ir"
  },
  "language_info": {
   "codemirror_mode": "r",
   "file_extension": ".r",
   "mimetype": "text/x-r-source",
   "name": "R",
   "pygments_lexer": "r",
   "version": "3.2.3"
  }
 },
 "nbformat": 4,
 "nbformat_minor": 0
}
