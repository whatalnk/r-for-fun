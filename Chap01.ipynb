{
 "cells": [
  {
   "cell_type": "markdown",
   "metadata": {},
   "source": [
    "# Chapter 1 Rで遊ぶ\n",
    "## 1.2 簡単な計算"
   ]
  },
  {
   "cell_type": "code",
   "execution_count": 1,
   "metadata": {
    "collapsed": false
   },
   "outputs": [
    {
     "data": {
      "text/html": [
       "579"
      ],
      "text/latex": [
       "579"
      ],
      "text/markdown": [
       "579"
      ],
      "text/plain": [
       "[1] 579"
      ]
     },
     "execution_count": 1,
     "metadata": {},
     "output_type": "execute_result"
    }
   ],
   "source": [
    "123 + 456"
   ]
  },
  {
   "cell_type": "code",
   "execution_count": 2,
   "metadata": {
    "collapsed": false
   },
   "outputs": [
    {
     "data": {
      "text/html": [
       "56086.9876923077"
      ],
      "text/latex": [
       "56086.9876923077"
      ],
      "text/markdown": [
       "56086.9876923077"
      ],
      "text/plain": [
       "[1] 56086.99"
      ]
     },
     "execution_count": 2,
     "metadata": {},
     "output_type": "execute_result"
    }
   ],
   "source": [
    "123 * 456 - 987 / (654 + 321)"
   ]
  },
  {
   "cell_type": "code",
   "execution_count": 3,
   "metadata": {
    "collapsed": false
   },
   "outputs": [
    {
     "data": {
      "text/html": [
       "3.14159265358979"
      ],
      "text/latex": [
       "3.14159265358979"
      ],
      "text/markdown": [
       "3.14159265358979"
      ],
      "text/plain": [
       "[1] 3.141593"
      ]
     },
     "execution_count": 3,
     "metadata": {},
     "output_type": "execute_result"
    }
   ],
   "source": [
    "pi"
   ]
  },
  {
   "cell_type": "code",
   "execution_count": 4,
   "metadata": {
    "collapsed": false
   },
   "outputs": [
    {
     "name": "stdout",
     "output_type": "stream",
     "text": [
      "[1] 3.141593\n"
     ]
    }
   ],
   "source": [
    "print(pi)"
   ]
  },
  {
   "cell_type": "code",
   "execution_count": 5,
   "metadata": {
    "collapsed": false
   },
   "outputs": [
    {
     "name": "stdout",
     "output_type": "stream",
     "text": [
      "[1] 3.141592653589793\n"
     ]
    }
   ],
   "source": [
    "print(pi, digits = 16)"
   ]
  },
  {
   "cell_type": "code",
   "execution_count": 6,
   "metadata": {
    "collapsed": false
   },
   "outputs": [
    {
     "data": {
      "text/html": [
       "12345"
      ],
      "text/latex": [
       "12345"
      ],
      "text/markdown": [
       "12345"
      ],
      "text/plain": [
       "[1] 12345"
      ]
     },
     "execution_count": 6,
     "metadata": {},
     "output_type": "execute_result"
    }
   ],
   "source": [
    "x <- 12345\n",
    "x"
   ]
  },
  {
   "cell_type": "code",
   "execution_count": 7,
   "metadata": {
    "collapsed": false
   },
   "outputs": [
    {
     "name": "stdout",
     "output_type": "stream",
     "text": [
      "[1] 3.141593\n",
      "[1] 3\n",
      "[1] 3.141593\n"
     ]
    }
   ],
   "source": [
    "print(pi)\n",
    "pi <- 3\n",
    "print(pi)\n",
    "rm(pi)\n",
    "print(pi)"
   ]
  },
  {
   "cell_type": "code",
   "execution_count": 8,
   "metadata": {
    "collapsed": false
   },
   "outputs": [
    {
     "data": {
      "text/html": [
       "2.71828182845905"
      ],
      "text/latex": [
       "2.71828182845905"
      ],
      "text/markdown": [
       "2.71828182845905"
      ],
      "text/plain": [
       "[1] 2.718282"
      ]
     },
     "execution_count": 8,
     "metadata": {},
     "output_type": "execute_result"
    }
   ],
   "source": [
    "exp(1)"
   ]
  },
  {
   "cell_type": "markdown",
   "metadata": {},
   "source": [
    "## 1.4 データの入力"
   ]
  },
  {
   "cell_type": "code",
   "execution_count": 9,
   "metadata": {
    "collapsed": true
   },
   "outputs": [],
   "source": [
    "height <- c(168.5, 172.8, 159.0)\n",
    "weight <- c(69.5, 75.0, 56.5)"
   ]
  },
  {
   "cell_type": "code",
   "execution_count": 10,
   "metadata": {
    "collapsed": false
   },
   "outputs": [
    {
     "data": {
      "text/html": [
       "<ol class=list-inline>\n",
       "\t<li>24.4785108612385</li>\n",
       "\t<li>25.1173482510288</li>\n",
       "\t<li>22.3487994936909</li>\n",
       "</ol>\n"
      ],
      "text/latex": [
       "\\begin{enumerate*}\n",
       "\\item 24.4785108612385\n",
       "\\item 25.1173482510288\n",
       "\\item 22.3487994936909\n",
       "\\end{enumerate*}\n"
      ],
      "text/markdown": [
       "1. 24.4785108612385\n",
       "2. 25.1173482510288\n",
       "3. 22.3487994936909\n",
       "\n",
       "\n"
      ],
      "text/plain": [
       "[1] 24.47851 25.11735 22.34880"
      ]
     },
     "execution_count": 10,
     "metadata": {},
     "output_type": "execute_result"
    }
   ],
   "source": [
    "weight / (height / 100)^2"
   ]
  },
  {
   "cell_type": "code",
   "execution_count": 11,
   "metadata": {
    "collapsed": false
   },
   "outputs": [
    {
     "name": "stderr",
     "output_type": "stream",
     "text": [
      "Warning message:\n",
      ": package ‘pipeR’ was built under R version 3.2.4"
     ]
    }
   ],
   "source": [
    "library(pipeR)"
   ]
  },
  {
   "cell_type": "code",
   "execution_count": 12,
   "metadata": {
    "collapsed": false
   },
   "outputs": [
    {
     "data": {
      "text/html": [
       "<ol class=list-inline>\n",
       "\t<li>24</li>\n",
       "\t<li>25</li>\n",
       "\t<li>22</li>\n",
       "</ol>\n"
      ],
      "text/latex": [
       "\\begin{enumerate*}\n",
       "\\item 24\n",
       "\\item 25\n",
       "\\item 22\n",
       "\\end{enumerate*}\n"
      ],
      "text/markdown": [
       "1. 24\n",
       "2. 25\n",
       "3. 22\n",
       "\n",
       "\n"
      ],
      "text/plain": [
       "[1] 24 25 22"
      ]
     },
     "execution_count": 12,
     "metadata": {},
     "output_type": "execute_result"
    }
   ],
   "source": [
    "(weight / (height / 100)^2) %>>% round"
   ]
  },
  {
   "cell_type": "code",
   "execution_count": 13,
   "metadata": {
    "collapsed": false
   },
   "outputs": [
    {
     "data": {
      "text/html": [
       "<ol class=list-inline>\n",
       "\t<li>24.5</li>\n",
       "\t<li>25.1</li>\n",
       "\t<li>22.3</li>\n",
       "</ol>\n"
      ],
      "text/latex": [
       "\\begin{enumerate*}\n",
       "\\item 24.5\n",
       "\\item 25.1\n",
       "\\item 22.3\n",
       "\\end{enumerate*}\n"
      ],
      "text/markdown": [
       "1. 24.5\n",
       "2. 25.1\n",
       "3. 22.3\n",
       "\n",
       "\n"
      ],
      "text/plain": [
       "[1] 24.5 25.1 22.3"
      ]
     },
     "execution_count": 13,
     "metadata": {},
     "output_type": "execute_result"
    }
   ],
   "source": [
    "(weight / (height / 100)^2) %>>% round(1)"
   ]
  },
  {
   "cell_type": "markdown",
   "metadata": {},
   "source": [
    "## 1.5 データフレーム"
   ]
  },
  {
   "cell_type": "code",
   "execution_count": 14,
   "metadata": {
    "collapsed": false
   },
   "outputs": [
    {
     "data": {
      "text/html": [
       "<table>\n",
       "<thead><tr><th></th><th scope=col>height</th><th scope=col>weight</th></tr></thead>\n",
       "<tbody>\n",
       "\t<tr><th scope=row>1</th><td>168.5</td><td> 69.5</td></tr>\n",
       "\t<tr><th scope=row>2</th><td>172.8</td><td> 75.0</td></tr>\n",
       "\t<tr><th scope=row>3</th><td>159.0</td><td> 56.5</td></tr>\n",
       "</tbody>\n",
       "</table>\n"
      ],
      "text/latex": [
       "\\begin{tabular}{r|ll}\n",
       "  & height & weight\\\\\n",
       "\\hline\n",
       "\t1 & 168.5 &  69.5\\\\\n",
       "\t2 & 172.8 &  75.0\\\\\n",
       "\t3 & 159.0 &  56.5\\\\\n",
       "\\end{tabular}\n"
      ],
      "text/plain": [
       "  height weight\n",
       "1  168.5   69.5\n",
       "2  172.8   75.0\n",
       "3  159.0   56.5"
      ]
     },
     "execution_count": 14,
     "metadata": {},
     "output_type": "execute_result"
    }
   ],
   "source": [
    "X <- data.frame(height, weight)\n",
    "X"
   ]
  },
  {
   "cell_type": "code",
   "execution_count": 15,
   "metadata": {
    "collapsed": false
   },
   "outputs": [
    {
     "data": {
      "text/html": [
       "<ol class=list-inline>\n",
       "\t<li>168.5</li>\n",
       "\t<li>172.8</li>\n",
       "\t<li>159</li>\n",
       "</ol>\n"
      ],
      "text/latex": [
       "\\begin{enumerate*}\n",
       "\\item 168.5\n",
       "\\item 172.8\n",
       "\\item 159\n",
       "\\end{enumerate*}\n"
      ],
      "text/markdown": [
       "1. 168.5\n",
       "2. 172.8\n",
       "3. 159\n",
       "\n",
       "\n"
      ],
      "text/plain": [
       "[1] 168.5 172.8 159.0"
      ]
     },
     "execution_count": 15,
     "metadata": {},
     "output_type": "execute_result"
    }
   ],
   "source": [
    "X$height"
   ]
  },
  {
   "cell_type": "code",
   "execution_count": 16,
   "metadata": {
    "collapsed": false
   },
   "outputs": [
    {
     "data": {
      "text/html": [
       "<table>\n",
       "<thead><tr><th></th><th scope=col>height</th><th scope=col>weight</th><th scope=col>sex</th></tr></thead>\n",
       "<tbody>\n",
       "\t<tr><th scope=row>1</th><td>168.5</td><td>69.5 </td><td>M    </td></tr>\n",
       "\t<tr><th scope=row>2</th><td>172.8</td><td>75   </td><td>M    </td></tr>\n",
       "\t<tr><th scope=row>3</th><td>159 </td><td>56.5</td><td>F   </td></tr>\n",
       "</tbody>\n",
       "</table>\n"
      ],
      "text/latex": [
       "\\begin{tabular}{r|lll}\n",
       "  & height & weight & sex\\\\\n",
       "\\hline\n",
       "\t1 & 168.5 & 69.5  & M    \\\\\n",
       "\t2 & 172.8 & 75    & M    \\\\\n",
       "\t3 & 159  & 56.5 & F   \\\\\n",
       "\\end{tabular}\n"
      ],
      "text/plain": [
       "  height weight sex\n",
       "1  168.5   69.5   M\n",
       "2  172.8   75.0   M\n",
       "3  159.0   56.5   F"
      ]
     },
     "execution_count": 16,
     "metadata": {},
     "output_type": "execute_result"
    }
   ],
   "source": [
    "X$sex <- c(\"M\", \"M\", \"F\")\n",
    "X"
   ]
  },
  {
   "cell_type": "code",
   "execution_count": 17,
   "metadata": {
    "collapsed": false
   },
   "outputs": [
    {
     "data": {
      "text/html": [
       "<table>\n",
       "<thead><tr><th></th><th scope=col>height</th><th scope=col>weight</th><th scope=col>sex</th><th scope=col>BMI</th></tr></thead>\n",
       "<tbody>\n",
       "\t<tr><th scope=row>1</th><td>168.5</td><td>69.5 </td><td>M    </td><td>24   </td></tr>\n",
       "\t<tr><th scope=row>2</th><td>172.8</td><td>75   </td><td>M    </td><td>25   </td></tr>\n",
       "\t<tr><th scope=row>3</th><td>159 </td><td>56.5</td><td>F   </td><td>22  </td></tr>\n",
       "</tbody>\n",
       "</table>\n"
      ],
      "text/latex": [
       "\\begin{tabular}{r|llll}\n",
       "  & height & weight & sex & BMI\\\\\n",
       "\\hline\n",
       "\t1 & 168.5 & 69.5  & M     & 24   \\\\\n",
       "\t2 & 172.8 & 75    & M     & 25   \\\\\n",
       "\t3 & 159  & 56.5 & F    & 22  \\\\\n",
       "\\end{tabular}\n"
      ],
      "text/plain": [
       "  height weight sex BMI\n",
       "1  168.5   69.5   M  24\n",
       "2  172.8   75.0   M  25\n",
       "3  159.0   56.5   F  22"
      ]
     },
     "execution_count": 17,
     "metadata": {},
     "output_type": "execute_result"
    }
   ],
   "source": [
    "X$BMI <- with(weight / (height / 100)^2, data = X) %>>% round(0)\n",
    "X"
   ]
  },
  {
   "cell_type": "markdown",
   "metadata": {},
   "source": [
    "## 1.6 ファイルの読み書きと文字コード"
   ]
  },
  {
   "cell_type": "code",
   "execution_count": 18,
   "metadata": {
    "collapsed": false,
    "scrolled": true
   },
   "outputs": [
    {
     "data": {
      "text/html": [
       "'Chap01.ipynb'"
      ],
      "text/latex": [
       "'Chap01.ipynb'"
      ],
      "text/markdown": [
       "'Chap01.ipynb'"
      ],
      "text/plain": [
       "[1] \"Chap01.ipynb\""
      ]
     },
     "execution_count": 18,
     "metadata": {},
     "output_type": "execute_result"
    }
   ],
   "source": [
    "dir(\".\")"
   ]
  },
  {
   "cell_type": "code",
   "execution_count": 19,
   "metadata": {
    "collapsed": true
   },
   "outputs": [],
   "source": [
    "write.csv(X, \"X.csv\", quote = FALSE, row.names = FALSE, fileEncoding = \"UTF-8\", eol = \"\\r\\n\")"
   ]
  },
  {
   "cell_type": "code",
   "execution_count": 20,
   "metadata": {
    "collapsed": false
   },
   "outputs": [
    {
     "data": {
      "text/html": [
       "<ol class=list-inline>\n",
       "\t<li>'Chap01.ipynb'</li>\n",
       "\t<li>'X.csv'</li>\n",
       "</ol>\n"
      ],
      "text/latex": [
       "\\begin{enumerate*}\n",
       "\\item 'Chap01.ipynb'\n",
       "\\item 'X.csv'\n",
       "\\end{enumerate*}\n"
      ],
      "text/markdown": [
       "1. 'Chap01.ipynb'\n",
       "2. 'X.csv'\n",
       "\n",
       "\n"
      ],
      "text/plain": [
       "[1] \"Chap01.ipynb\" \"X.csv\"       "
      ]
     },
     "execution_count": 20,
     "metadata": {},
     "output_type": "execute_result"
    }
   ],
   "source": [
    "dir(\".\")"
   ]
  },
  {
   "cell_type": "code",
   "execution_count": 21,
   "metadata": {
    "collapsed": false
   },
   "outputs": [
    {
     "data": {
      "text/html": [
       "<table>\n",
       "<thead><tr><th></th><th scope=col>height</th><th scope=col>weight</th><th scope=col>sex</th><th scope=col>BMI</th></tr></thead>\n",
       "<tbody>\n",
       "\t<tr><th scope=row>1</th><td>168.5</td><td>69.5 </td><td>M    </td><td>24   </td></tr>\n",
       "\t<tr><th scope=row>2</th><td>172.8</td><td>75   </td><td>M    </td><td>25   </td></tr>\n",
       "\t<tr><th scope=row>3</th><td>159 </td><td>56.5</td><td>F   </td><td>22  </td></tr>\n",
       "</tbody>\n",
       "</table>\n"
      ],
      "text/latex": [
       "\\begin{tabular}{r|llll}\n",
       "  & height & weight & sex & BMI\\\\\n",
       "\\hline\n",
       "\t1 & 168.5 & 69.5  & M     & 24   \\\\\n",
       "\t2 & 172.8 & 75    & M     & 25   \\\\\n",
       "\t3 & 159  & 56.5 & F    & 22  \\\\\n",
       "\\end{tabular}\n"
      ],
      "text/plain": [
       "  height weight sex BMI\n",
       "1  168.5   69.5   M  24\n",
       "2  172.8   75.0   M  25\n",
       "3  159.0   56.5   F  22"
      ]
     },
     "execution_count": 21,
     "metadata": {},
     "output_type": "execute_result"
    }
   ],
   "source": [
    "XX <- read.csv(\"X.csv\")\n",
    "XX"
   ]
  },
  {
   "cell_type": "code",
   "execution_count": 22,
   "metadata": {
    "collapsed": false
   },
   "outputs": [
    {
     "name": "stdout",
     "output_type": "stream",
     "text": [
      "'data.frame':\t191 obs. of  7 variables:\n",
      " $ Day             : Factor w/ 8 levels \"Fri\",\"Frj\",\"Mon\",..: 4 7 4 3 4 6 3 6 8 4 ...\n",
      " $ Date            : int  15 19 20 22 24 6 10 20 22 12 ...\n",
      " $ Month           : Factor w/ 12 levels \"April\",\"Aug\",..: 8 2 3 3 1 9 9 9 3 8 ...\n",
      " $ Year            : int  1851 1851 1851 1851 1852 1852 1852 1852 1852 1853 ...\n",
      " $ Day_of_year     : int  74 231 354 356 115 127 131 141 357 71 ...\n",
      " $ Interval_days   : int  NA 157 123 2 124 12 4 10 216 80 ...\n",
      " $ Number_of_deaths: int  61 35 52 13 12 22 65 36 10 10 ...\n"
     ]
    }
   ],
   "source": [
    "XXX <- read.csv(\"http://okumuralab.org/~okumura/stat/data/coal.csv\")\n",
    "str(XXX)"
   ]
  },
  {
   "cell_type": "markdown",
   "metadata": {},
   "source": [
    "## 1.7 図の描き方"
   ]
  },
  {
   "cell_type": "code",
   "execution_count": 23,
   "metadata": {
    "collapsed": false
   },
   "outputs": [
    {
     "name": "stderr",
     "output_type": "stream",
     "text": [
      "Warning message:\n",
      ": package ‘ggplot2’ was built under R version 3.2.4"
     ]
    }
   ],
   "source": [
    "library(ggplot2)"
   ]
  },
  {
   "cell_type": "code",
   "execution_count": 24,
   "metadata": {
    "collapsed": true
   },
   "outputs": [],
   "source": [
    "options(repr.plot.height = 4, repr.plot.width = 4)"
   ]
  },
  {
   "cell_type": "code",
   "execution_count": 25,
   "metadata": {
    "collapsed": true
   },
   "outputs": [],
   "source": [
    "x <- rnorm(1000000)"
   ]
  },
  {
   "cell_type": "code",
   "execution_count": 26,
   "metadata": {
    "collapsed": false
   },
   "outputs": [
    {
     "data": {
      "image/png": "[encoded data removed]",
      "image/svg+xml": [
       "<?xml version=\"1.0\" encoding=\"UTF-8\"?>\n",
       "<svg xmlns=\"http://www.w3.org/2000/svg\" xmlns:xlink=\"http://www.w3.org/1999/xlink\" width=\"288pt\" height=\"288pt\" viewBox=\"0 0 288 288\" version=\"1.1\">\n",
       "<defs>\n",
       "<g>\n",
       "<symbol overflow=\"visible\" id=\"glyph0-0\">\n",
       "<path style=\"stroke:none;\" d=\"M 0.484375 0 L 0.484375 -10.6875 L 8.96875 -10.6875 L 8.96875 0 Z M 7.625 -1.34375 L 7.625 -9.359375 L 1.8125 -9.359375 L 1.8125 -1.34375 Z \"/>\n",
       "</symbol>\n",
       "<symbol overflow=\"visible\" id=\"glyph0-1\">\n",
       "<path style=\"stroke:none;\" d=\"M 1.171875 -10.6875 L 2.640625 -10.6875 L 2.640625 -6.28125 L 8.203125 -6.28125 L 8.203125 -10.6875 L 9.65625 -10.6875 L 9.65625 0 L 8.203125 0 L 8.203125 -5 L 2.640625 -5 L 2.640625 0 L 1.171875 0 Z \"/>\n",
       "</symbol>\n",
       "<symbol overflow=\"visible\" id=\"glyph0-2\">\n",
       "<path style=\"stroke:none;\" d=\"M 0.953125 -7.765625 L 2.296875 -7.765625 L 2.296875 0 L 0.953125 0 Z M 0.953125 -10.6875 L 2.296875 -10.6875 L 2.296875 -9.203125 L 0.953125 -9.203125 Z \"/>\n",
       "</symbol>\n",
       "<symbol overflow=\"visible\" id=\"glyph0-3\">\n",
       "<path style=\"stroke:none;\" d=\"M 1.734375 -2.453125 C 1.773438 -2.015625 1.882812 -1.675781 2.0625 -1.4375 C 2.394531 -1.019531 2.96875 -0.8125 3.78125 -0.8125 C 4.269531 -0.8125 4.695312 -0.914062 5.0625 -1.125 C 5.4375 -1.332031 5.625 -1.660156 5.625 -2.109375 C 5.625 -2.441406 5.472656 -2.695312 5.171875 -2.875 C 4.984375 -2.976562 4.609375 -3.097656 4.046875 -3.234375 L 3.015625 -3.5 C 2.347656 -3.664062 1.859375 -3.847656 1.546875 -4.046875 C 0.984375 -4.398438 0.703125 -4.894531 0.703125 -5.53125 C 0.703125 -6.257812 0.96875 -6.851562 1.5 -7.3125 C 2.03125 -7.769531 2.742188 -8 3.640625 -8 C 4.816406 -8 5.660156 -7.65625 6.171875 -6.96875 C 6.503906 -6.53125 6.664062 -6.054688 6.65625 -5.546875 L 5.421875 -5.546875 C 5.390625 -5.847656 5.285156 -6.117188 5.109375 -6.359375 C 4.804688 -6.703125 4.28125 -6.875 3.53125 -6.875 C 3.039062 -6.875 2.664062 -6.78125 2.40625 -6.59375 C 2.15625 -6.40625 2.03125 -6.15625 2.03125 -5.84375 C 2.03125 -5.5 2.195312 -5.226562 2.53125 -5.03125 C 2.726562 -4.90625 3.015625 -4.796875 3.390625 -4.703125 L 4.265625 -4.5 C 5.203125 -4.269531 5.832031 -4.046875 6.15625 -3.828125 C 6.664062 -3.492188 6.921875 -2.96875 6.921875 -2.25 C 6.921875 -1.5625 6.65625 -0.960938 6.125 -0.453125 C 5.59375 0.046875 4.789062 0.296875 3.71875 0.296875 C 2.5625 0.296875 1.738281 0.0351562 1.25 -0.484375 C 0.769531 -1.015625 0.515625 -1.671875 0.484375 -2.453125 Z M 3.671875 -7.984375 Z \"/>\n",
       "</symbol>\n",
       "<symbol overflow=\"visible\" id=\"glyph0-4\">\n",
       "<path style=\"stroke:none;\" d=\"M 1.21875 -9.96875 L 2.546875 -9.96875 L 2.546875 -7.796875 L 3.796875 -7.796875 L 3.796875 -6.71875 L 2.546875 -6.71875 L 2.546875 -1.640625 C 2.546875 -1.367188 2.640625 -1.1875 2.828125 -1.09375 C 2.929688 -1.039062 3.097656 -1.015625 3.328125 -1.015625 C 3.390625 -1.015625 3.457031 -1.015625 3.53125 -1.015625 C 3.601562 -1.015625 3.691406 -1.019531 3.796875 -1.03125 L 3.796875 0 C 3.640625 0.0390625 3.476562 0.0703125 3.3125 0.09375 C 3.15625 0.113281 2.984375 0.125 2.796875 0.125 C 2.179688 0.125 1.765625 -0.03125 1.546875 -0.34375 C 1.328125 -0.65625 1.21875 -1.0625 1.21875 -1.5625 L 1.21875 -6.71875 L 0.171875 -6.71875 L 0.171875 -7.796875 L 1.21875 -7.796875 Z \"/>\n",
       "</symbol>\n",
       "<symbol overflow=\"visible\" id=\"glyph0-5\">\n",
       "<path style=\"stroke:none;\" d=\"M 4.046875 -0.84375 C 4.921875 -0.84375 5.519531 -1.171875 5.84375 -1.828125 C 6.164062 -2.484375 6.328125 -3.21875 6.328125 -4.03125 C 6.328125 -4.75 6.207031 -5.335938 5.96875 -5.796875 C 5.601562 -6.515625 4.96875 -6.875 4.0625 -6.875 C 3.269531 -6.875 2.691406 -6.566406 2.328125 -5.953125 C 1.960938 -5.347656 1.78125 -4.613281 1.78125 -3.75 C 1.78125 -2.914062 1.960938 -2.222656 2.328125 -1.671875 C 2.691406 -1.117188 3.265625 -0.84375 4.046875 -0.84375 Z M 4.109375 -8.015625 C 5.109375 -8.015625 5.953125 -7.679688 6.640625 -7.015625 C 7.335938 -6.347656 7.6875 -5.363281 7.6875 -4.0625 C 7.6875 -2.800781 7.378906 -1.757812 6.765625 -0.9375 C 6.160156 -0.125 5.21875 0.28125 3.9375 0.28125 C 2.863281 0.28125 2.007812 -0.078125 1.375 -0.796875 C 0.738281 -1.523438 0.421875 -2.503906 0.421875 -3.734375 C 0.421875 -5.035156 0.753906 -6.070312 1.421875 -6.84375 C 2.085938 -7.625 2.984375 -8.015625 4.109375 -8.015625 Z M 4.0625 -7.984375 Z \"/>\n",
       "</symbol>\n",
       "<symbol overflow=\"visible\" id=\"glyph0-6\">\n",
       "<path style=\"stroke:none;\" d=\"M 3.71875 -7.9375 C 4.320312 -7.9375 4.851562 -7.785156 5.3125 -7.484375 C 5.5625 -7.316406 5.8125 -7.066406 6.0625 -6.734375 L 6.0625 -7.71875 L 7.28125 -7.71875 L 7.28125 -0.640625 C 7.28125 0.359375 7.132812 1.140625 6.84375 1.703125 C 6.300781 2.765625 5.273438 3.296875 3.765625 3.296875 C 2.921875 3.296875 2.210938 3.109375 1.640625 2.734375 C 1.066406 2.359375 0.75 1.769531 0.6875 0.96875 L 2.015625 0.96875 C 2.078125 1.3125 2.203125 1.582031 2.390625 1.78125 C 2.691406 2.070312 3.160156 2.21875 3.796875 2.21875 C 4.796875 2.21875 5.453125 1.863281 5.765625 1.15625 C 5.953125 0.738281 6.035156 -0.00390625 6.015625 -1.078125 C 5.753906 -0.679688 5.4375 -0.382812 5.0625 -0.1875 C 4.695312 0 4.210938 0.09375 3.609375 0.09375 C 2.765625 0.09375 2.023438 -0.203125 1.390625 -0.796875 C 0.753906 -1.398438 0.4375 -2.394531 0.4375 -3.78125 C 0.4375 -5.082031 0.753906 -6.097656 1.390625 -6.828125 C 2.035156 -7.566406 2.8125 -7.9375 3.71875 -7.9375 Z M 6.0625 -3.9375 C 6.0625 -4.894531 5.863281 -5.609375 5.46875 -6.078125 C 5.070312 -6.546875 4.566406 -6.78125 3.953125 -6.78125 C 3.023438 -6.78125 2.394531 -6.347656 2.0625 -5.484375 C 1.882812 -5.023438 1.796875 -4.421875 1.796875 -3.671875 C 1.796875 -2.785156 1.972656 -2.113281 2.328125 -1.65625 C 2.679688 -1.195312 3.160156 -0.96875 3.765625 -0.96875 C 4.703125 -0.96875 5.363281 -1.394531 5.75 -2.25 C 5.957031 -2.726562 6.0625 -3.289062 6.0625 -3.9375 Z M 3.859375 -7.984375 Z \"/>\n",
       "</symbol>\n",
       "<symbol overflow=\"visible\" id=\"glyph0-7\">\n",
       "<path style=\"stroke:none;\" d=\"M 1 -7.796875 L 2.234375 -7.796875 L 2.234375 -6.453125 C 2.335938 -6.710938 2.585938 -7.03125 2.984375 -7.40625 C 3.390625 -7.78125 3.847656 -7.96875 4.359375 -7.96875 C 4.390625 -7.96875 4.429688 -7.960938 4.484375 -7.953125 C 4.546875 -7.953125 4.648438 -7.945312 4.796875 -7.9375 L 4.796875 -6.546875 C 4.710938 -6.566406 4.632812 -6.578125 4.5625 -6.578125 C 4.5 -6.585938 4.429688 -6.59375 4.359375 -6.59375 C 3.703125 -6.59375 3.195312 -6.378906 2.84375 -5.953125 C 2.488281 -5.523438 2.3125 -5.035156 2.3125 -4.484375 L 2.3125 0 L 1 0 Z \"/>\n",
       "</symbol>\n",
       "<symbol overflow=\"visible\" id=\"glyph0-8\">\n",
       "<path style=\"stroke:none;\" d=\"M 1.96875 -2.078125 C 1.96875 -1.691406 2.101562 -1.390625 2.375 -1.171875 C 2.65625 -0.960938 2.984375 -0.859375 3.359375 -0.859375 C 3.816406 -0.859375 4.265625 -0.960938 4.703125 -1.171875 C 5.429688 -1.523438 5.796875 -2.101562 5.796875 -2.90625 L 5.796875 -3.96875 C 5.628906 -3.863281 5.421875 -3.773438 5.171875 -3.703125 C 4.921875 -3.640625 4.675781 -3.59375 4.4375 -3.5625 L 3.640625 -3.46875 C 3.160156 -3.40625 2.800781 -3.304688 2.5625 -3.171875 C 2.164062 -2.941406 1.96875 -2.578125 1.96875 -2.078125 Z M 5.140625 -4.71875 C 5.441406 -4.757812 5.644531 -4.890625 5.75 -5.109375 C 5.800781 -5.222656 5.828125 -5.390625 5.828125 -5.609375 C 5.828125 -6.054688 5.664062 -6.378906 5.34375 -6.578125 C 5.03125 -6.773438 4.578125 -6.875 3.984375 -6.875 C 3.304688 -6.875 2.820312 -6.691406 2.53125 -6.328125 C 2.375 -6.117188 2.269531 -5.816406 2.21875 -5.421875 L 1 -5.421875 C 1.019531 -6.378906 1.328125 -7.046875 1.921875 -7.421875 C 2.523438 -7.796875 3.222656 -7.984375 4.015625 -7.984375 C 4.929688 -7.984375 5.675781 -7.804688 6.25 -7.453125 C 6.820312 -7.109375 7.109375 -6.566406 7.109375 -5.828125 L 7.109375 -1.34375 C 7.109375 -1.207031 7.132812 -1.097656 7.1875 -1.015625 C 7.238281 -0.929688 7.359375 -0.890625 7.546875 -0.890625 C 7.597656 -0.890625 7.660156 -0.890625 7.734375 -0.890625 C 7.804688 -0.898438 7.882812 -0.914062 7.96875 -0.9375 L 7.96875 0.03125 C 7.769531 0.09375 7.613281 0.128906 7.5 0.140625 C 7.394531 0.160156 7.25 0.171875 7.0625 0.171875 C 6.613281 0.171875 6.285156 0.0078125 6.078125 -0.3125 C 5.972656 -0.476562 5.898438 -0.71875 5.859375 -1.03125 C 5.585938 -0.6875 5.203125 -0.382812 4.703125 -0.125 C 4.203125 0.132812 3.65625 0.265625 3.0625 0.265625 C 2.332031 0.265625 1.738281 0.046875 1.28125 -0.390625 C 0.820312 -0.835938 0.59375 -1.390625 0.59375 -2.046875 C 0.59375 -2.765625 0.816406 -3.320312 1.265625 -3.71875 C 1.722656 -4.125 2.316406 -4.375 3.046875 -4.46875 Z M 4.046875 -7.984375 Z \"/>\n",
       "</symbol>\n",
       "<symbol overflow=\"visible\" id=\"glyph0-9\">\n",
       "<path style=\"stroke:none;\" d=\"M 0.953125 -7.796875 L 2.25 -7.796875 L 2.25 -6.6875 C 2.5625 -7.070312 2.84375 -7.351562 3.09375 -7.53125 C 3.53125 -7.820312 4.023438 -7.96875 4.578125 -7.96875 C 5.191406 -7.96875 5.6875 -7.816406 6.0625 -7.515625 C 6.28125 -7.335938 6.476562 -7.078125 6.65625 -6.734375 C 6.945312 -7.148438 7.285156 -7.457031 7.671875 -7.65625 C 8.066406 -7.863281 8.507812 -7.96875 9 -7.96875 C 10.050781 -7.96875 10.765625 -7.585938 11.140625 -6.828125 C 11.347656 -6.421875 11.453125 -5.875 11.453125 -5.1875 L 11.453125 0 L 10.09375 0 L 10.09375 -5.421875 C 10.09375 -5.929688 9.960938 -6.285156 9.703125 -6.484375 C 9.441406 -6.679688 9.125 -6.78125 8.75 -6.78125 C 8.238281 -6.78125 7.796875 -6.609375 7.421875 -6.265625 C 7.046875 -5.921875 6.859375 -5.34375 6.859375 -4.53125 L 6.859375 0 L 5.53125 0 L 5.53125 -5.09375 C 5.53125 -5.613281 5.46875 -6 5.34375 -6.25 C 5.144531 -6.613281 4.773438 -6.796875 4.234375 -6.796875 C 3.734375 -6.796875 3.28125 -6.601562 2.875 -6.21875 C 2.46875 -5.832031 2.265625 -5.140625 2.265625 -4.140625 L 2.265625 0 L 0.953125 0 Z \"/>\n",
       "</symbol>\n",
       "<symbol overflow=\"visible\" id=\"glyph0-10\">\n",
       "<path style=\"stroke:none;\" d=\"\"/>\n",
       "</symbol>\n",
       "<symbol overflow=\"visible\" id=\"glyph0-11\">\n",
       "<path style=\"stroke:none;\" d=\"M 1.28125 -8.984375 C 1.300781 -9.523438 1.398438 -9.921875 1.578125 -10.171875 C 1.878906 -10.617188 2.46875 -10.84375 3.34375 -10.84375 C 3.425781 -10.84375 3.507812 -10.835938 3.59375 -10.828125 C 3.6875 -10.828125 3.785156 -10.820312 3.890625 -10.8125 L 3.890625 -9.625 C 3.753906 -9.632812 3.65625 -9.640625 3.59375 -9.640625 C 3.539062 -9.640625 3.484375 -9.640625 3.421875 -9.640625 C 3.023438 -9.640625 2.785156 -9.535156 2.703125 -9.328125 C 2.628906 -9.128906 2.59375 -8.609375 2.59375 -7.765625 L 3.890625 -7.765625 L 3.890625 -6.71875 L 2.578125 -6.71875 L 2.578125 0 L 1.28125 0 L 1.28125 -6.71875 L 0.203125 -6.71875 L 0.203125 -7.765625 L 1.28125 -7.765625 Z \"/>\n",
       "</symbol>\n",
       "<symbol overflow=\"visible\" id=\"glyph0-12\">\n",
       "<path style=\"stroke:none;\" d=\"M 0.21875 -7.796875 L 1.921875 -7.796875 L 3.703125 -5.046875 L 5.515625 -7.796875 L 7.109375 -7.765625 L 4.484375 -4 L 7.234375 0 L 5.546875 0 L 3.625 -2.921875 L 1.734375 0 L 0.078125 0 L 2.828125 -4 Z \"/>\n",
       "</symbol>\n",
       "<symbol overflow=\"visible\" id=\"glyph1-0\">\n",
       "<path style=\"stroke:none;\" d=\"M 0.40625 0 L 0.40625 -8.96875 L 7.515625 -8.96875 L 7.515625 0 Z M 6.390625 -1.125 L 6.390625 -7.84375 L 1.53125 -7.84375 L 1.53125 -1.125 Z \"/>\n",
       "</symbol>\n",
       "<symbol overflow=\"visible\" id=\"glyph1-1\">\n",
       "<path style=\"stroke:none;\" d=\"M 0.1875 -6.53125 L 1.609375 -6.53125 L 3.109375 -4.234375 L 4.625 -6.53125 L 5.96875 -6.5 L 3.765625 -3.34375 L 6.0625 0 L 4.65625 0 L 3.03125 -2.453125 L 1.453125 0 L 0.0625 0 L 2.375 -3.34375 Z \"/>\n",
       "</symbol>\n",
       "<symbol overflow=\"visible\" id=\"glyph1-2\">\n",
       "<path style=\"stroke:none;\" d=\"M 0.515625 -4.046875 L 3.578125 -4.046875 L 3.578125 -2.921875 L 0.515625 -2.921875 Z \"/>\n",
       "</symbol>\n",
       "<symbol overflow=\"visible\" id=\"glyph1-3\">\n",
       "<path style=\"stroke:none;\" d=\"M 4.125 -3.09375 L 4.125 -7.0625 L 1.328125 -3.09375 Z M 4.15625 0 L 4.15625 -2.140625 L 0.3125 -2.140625 L 0.3125 -3.203125 L 4.328125 -8.765625 L 5.25 -8.765625 L 5.25 -3.09375 L 6.53125 -3.09375 L 6.53125 -2.140625 L 5.25 -2.140625 L 5.25 0 Z \"/>\n",
       "</symbol>\n",
       "<symbol overflow=\"visible\" id=\"glyph1-4\">\n",
       "<path style=\"stroke:none;\" d=\"M 0.390625 0 C 0.429688 -0.75 0.585938 -1.398438 0.859375 -1.953125 C 1.128906 -2.515625 1.65625 -3.023438 2.4375 -3.484375 L 3.609375 -4.15625 C 4.140625 -4.46875 4.507812 -4.726562 4.71875 -4.9375 C 5.050781 -5.28125 5.21875 -5.671875 5.21875 -6.109375 C 5.21875 -6.609375 5.0625 -7.007812 4.75 -7.3125 C 4.445312 -7.613281 4.046875 -7.765625 3.546875 -7.765625 C 2.785156 -7.765625 2.265625 -7.476562 1.984375 -6.90625 C 1.828125 -6.601562 1.738281 -6.179688 1.71875 -5.640625 L 0.609375 -5.640625 C 0.617188 -6.398438 0.757812 -7.019531 1.03125 -7.5 C 1.5 -8.34375 2.335938 -8.765625 3.546875 -8.765625 C 4.546875 -8.765625 5.273438 -8.492188 5.734375 -7.953125 C 6.203125 -7.410156 6.4375 -6.8125 6.4375 -6.15625 C 6.4375 -5.457031 6.1875 -4.859375 5.6875 -4.359375 C 5.40625 -4.066406 4.894531 -3.71875 4.15625 -3.3125 L 3.328125 -2.84375 C 2.929688 -2.625 2.617188 -2.414062 2.390625 -2.21875 C 1.984375 -1.863281 1.726562 -1.46875 1.625 -1.03125 L 6.390625 -1.03125 L 6.390625 0 Z \"/>\n",
       "</symbol>\n",
       "<symbol overflow=\"visible\" id=\"glyph1-5\">\n",
       "<path style=\"stroke:none;\" d=\"M 3.375 -8.734375 C 4.507812 -8.734375 5.328125 -8.269531 5.828125 -7.34375 C 6.222656 -6.625 6.421875 -5.632812 6.421875 -4.375 C 6.421875 -3.1875 6.242188 -2.207031 5.890625 -1.4375 C 5.378906 -0.320312 4.539062 0.234375 3.375 0.234375 C 2.320312 0.234375 1.539062 -0.21875 1.03125 -1.125 C 0.601562 -1.882812 0.390625 -2.90625 0.390625 -4.1875 C 0.390625 -5.1875 0.519531 -6.039062 0.78125 -6.75 C 1.257812 -8.070312 2.125 -8.734375 3.375 -8.734375 Z M 3.375 -0.765625 C 3.9375 -0.765625 4.382812 -1.015625 4.71875 -1.515625 C 5.0625 -2.023438 5.234375 -2.96875 5.234375 -4.34375 C 5.234375 -5.332031 5.109375 -6.144531 4.859375 -6.78125 C 4.617188 -7.425781 4.148438 -7.75 3.453125 -7.75 C 2.804688 -7.75 2.332031 -7.441406 2.03125 -6.828125 C 1.726562 -6.222656 1.578125 -5.332031 1.578125 -4.15625 C 1.578125 -3.257812 1.675781 -2.539062 1.875 -2 C 2.164062 -1.175781 2.664062 -0.765625 3.375 -0.765625 Z \"/>\n",
       "</symbol>\n",
       "<symbol overflow=\"visible\" id=\"glyph2-0\">\n",
       "<path style=\"stroke:none;\" d=\"M 0 -0.40625 L -8.96875 -0.40625 L -8.96875 -7.515625 L 0 -7.515625 Z M -1.125 -6.390625 L -7.84375 -6.390625 L -7.84375 -1.53125 L -1.125 -1.53125 Z \"/>\n",
       "</symbol>\n",
       "<symbol overflow=\"visible\" id=\"glyph2-1\">\n",
       "<path style=\"stroke:none;\" d=\"M -8.96875 -1.0625 L -8.96875 -7.28125 L -7.875 -7.28125 L -7.875 -2.28125 L -5.140625 -2.28125 L -5.140625 -6.6875 L -4.078125 -6.6875 L -4.078125 -2.28125 L 0 -2.28125 L 0 -1.0625 Z \"/>\n",
       "</symbol>\n",
       "<symbol overflow=\"visible\" id=\"glyph2-2\">\n",
       "<path style=\"stroke:none;\" d=\"M -6.53125 -0.84375 L -6.53125 -1.875 L -5.40625 -1.875 C -5.625 -1.96875 -5.890625 -2.179688 -6.203125 -2.515625 C -6.523438 -2.847656 -6.6875 -3.226562 -6.6875 -3.65625 C -6.6875 -3.675781 -6.679688 -3.710938 -6.671875 -3.765625 C -6.671875 -3.816406 -6.664062 -3.898438 -6.65625 -4.015625 L -5.5 -4.015625 C -5.507812 -3.953125 -5.515625 -3.890625 -5.515625 -3.828125 C -5.523438 -3.773438 -5.53125 -3.71875 -5.53125 -3.65625 C -5.53125 -3.101562 -5.347656 -2.675781 -4.984375 -2.375 C -4.628906 -2.082031 -4.222656 -1.9375 -3.765625 -1.9375 L 0 -1.9375 L 0 -0.84375 Z \"/>\n",
       "</symbol>\n",
       "<symbol overflow=\"visible\" id=\"glyph2-3\">\n",
       "<path style=\"stroke:none;\" d=\"M -6.6875 -3.53125 C -6.6875 -3.988281 -6.578125 -4.4375 -6.359375 -4.875 C -6.140625 -5.3125 -5.859375 -5.644531 -5.515625 -5.875 C -5.179688 -6.09375 -4.796875 -6.238281 -4.359375 -6.3125 C -4.054688 -6.375 -3.578125 -6.40625 -2.921875 -6.40625 L -2.921875 -1.625 C -2.253906 -1.632812 -1.71875 -1.785156 -1.3125 -2.078125 C -0.914062 -2.378906 -0.71875 -2.835938 -0.71875 -3.453125 C -0.71875 -4.023438 -0.90625 -4.484375 -1.28125 -4.828125 C -1.507812 -5.015625 -1.765625 -5.148438 -2.046875 -5.234375 L -2.046875 -6.3125 C -1.804688 -6.289062 -1.539062 -6.195312 -1.25 -6.03125 C -0.957031 -5.875 -0.71875 -5.695312 -0.53125 -5.5 C -0.195312 -5.164062 0.0234375 -4.75 0.140625 -4.25 C 0.203125 -3.988281 0.234375 -3.691406 0.234375 -3.359375 C 0.234375 -2.546875 -0.0625 -1.851562 -0.65625 -1.28125 C -1.25 -0.71875 -2.078125 -0.4375 -3.140625 -0.4375 C -4.191406 -0.4375 -5.046875 -0.722656 -5.703125 -1.296875 C -6.359375 -1.867188 -6.6875 -2.613281 -6.6875 -3.53125 Z M -3.796875 -5.28125 C -4.265625 -5.238281 -4.644531 -5.132812 -4.9375 -4.96875 C -5.457031 -4.664062 -5.71875 -4.160156 -5.71875 -3.453125 C -5.71875 -2.953125 -5.535156 -2.53125 -5.171875 -2.1875 C -4.804688 -1.84375 -4.347656 -1.660156 -3.796875 -1.640625 Z M -6.703125 -3.421875 Z \"/>\n",
       "</symbol>\n",
       "<symbol overflow=\"visible\" id=\"glyph2-4\">\n",
       "<path style=\"stroke:none;\" d=\"M -3.1875 -1.515625 C -2.613281 -1.515625 -2.140625 -1.59375 -1.765625 -1.75 C -1.078125 -2.03125 -0.734375 -2.535156 -0.734375 -3.265625 C -0.734375 -4.023438 -1.09375 -4.550781 -1.8125 -4.84375 C -2.207031 -5 -2.710938 -5.078125 -3.328125 -5.078125 C -3.890625 -5.078125 -4.363281 -4.988281 -4.75 -4.8125 C -5.394531 -4.519531 -5.71875 -4 -5.71875 -3.25 C -5.71875 -2.769531 -5.507812 -2.359375 -5.09375 -2.015625 C -4.675781 -1.679688 -4.039062 -1.515625 -3.1875 -1.515625 Z M -6.6875 -3.140625 C -6.6875 -3.679688 -6.550781 -4.132812 -6.28125 -4.5 C -6.132812 -4.707031 -5.914062 -4.90625 -5.625 -5.09375 L -6.53125 -5.09375 L -6.53125 -6.140625 L 2.609375 -6.140625 L 2.609375 -5.03125 L -0.75 -5.03125 C -0.457031 -4.84375 -0.222656 -4.585938 -0.046875 -4.265625 C 0.117188 -3.941406 0.203125 -3.539062 0.203125 -3.0625 C 0.203125 -2.363281 -0.0664062 -1.738281 -0.609375 -1.1875 C -1.148438 -0.632812 -1.976562 -0.359375 -3.09375 -0.359375 C -4.144531 -0.359375 -5.003906 -0.613281 -5.671875 -1.125 C -6.347656 -1.644531 -6.6875 -2.316406 -6.6875 -3.140625 Z \"/>\n",
       "</symbol>\n",
       "<symbol overflow=\"visible\" id=\"glyph2-5\">\n",
       "<path style=\"stroke:none;\" d=\"M -6.53125 -1.90625 L -2.203125 -1.90625 C -1.867188 -1.90625 -1.59375 -1.957031 -1.375 -2.0625 C -0.988281 -2.257812 -0.796875 -2.625 -0.796875 -3.15625 C -0.796875 -3.914062 -1.132812 -4.4375 -1.8125 -4.71875 C -2.1875 -4.863281 -2.691406 -4.9375 -3.328125 -4.9375 L -6.53125 -4.9375 L -6.53125 -6.046875 L 0 -6.046875 L 0 -5 L -0.96875 -5.015625 C -0.71875 -4.867188 -0.503906 -4.691406 -0.328125 -4.484375 C 0.00390625 -4.066406 0.171875 -3.554688 0.171875 -2.953125 C 0.171875 -2.023438 -0.132812 -1.394531 -0.75 -1.0625 C -1.082031 -0.875 -1.53125 -0.78125 -2.09375 -0.78125 L -6.53125 -0.78125 Z M -6.703125 -3.40625 Z \"/>\n",
       "</symbol>\n",
       "<symbol overflow=\"visible\" id=\"glyph2-6\">\n",
       "<path style=\"stroke:none;\" d=\"M -6.53125 -0.8125 L -6.53125 -1.84375 L -5.609375 -1.84375 C -5.992188 -2.15625 -6.269531 -2.484375 -6.4375 -2.828125 C -6.601562 -3.171875 -6.6875 -3.554688 -6.6875 -3.984375 C -6.6875 -4.910156 -6.363281 -5.535156 -5.71875 -5.859375 C -5.363281 -6.046875 -4.851562 -6.140625 -4.1875 -6.140625 L 0 -6.140625 L 0 -5.015625 L -4.125 -5.015625 C -4.519531 -5.015625 -4.835938 -4.957031 -5.078125 -4.84375 C -5.484375 -4.644531 -5.6875 -4.289062 -5.6875 -3.78125 C -5.6875 -3.519531 -5.660156 -3.304688 -5.609375 -3.140625 C -5.523438 -2.835938 -5.347656 -2.570312 -5.078125 -2.34375 C -4.859375 -2.15625 -4.632812 -2.035156 -4.40625 -1.984375 C -4.175781 -1.929688 -3.847656 -1.90625 -3.421875 -1.90625 L 0 -1.90625 L 0 -0.8125 Z M -6.703125 -3.390625 Z \"/>\n",
       "</symbol>\n",
       "<symbol overflow=\"visible\" id=\"glyph2-7\">\n",
       "<path style=\"stroke:none;\" d=\"M -6.71875 -3.328125 C -6.71875 -4.066406 -6.539062 -4.664062 -6.1875 -5.125 C -5.832031 -5.582031 -5.21875 -5.859375 -4.34375 -5.953125 L -4.34375 -4.890625 C -4.738281 -4.828125 -5.070312 -4.675781 -5.34375 -4.4375 C -5.613281 -4.207031 -5.75 -3.835938 -5.75 -3.328125 C -5.75 -2.628906 -5.40625 -2.128906 -4.71875 -1.828125 C -4.269531 -1.628906 -3.722656 -1.53125 -3.078125 -1.53125 C -2.421875 -1.53125 -1.867188 -1.664062 -1.421875 -1.9375 C -0.972656 -2.21875 -0.75 -2.65625 -0.75 -3.25 C -0.75 -3.707031 -0.890625 -4.066406 -1.171875 -4.328125 C -1.453125 -4.597656 -1.832031 -4.785156 -2.3125 -4.890625 L -2.3125 -5.953125 C -1.445312 -5.835938 -0.8125 -5.535156 -0.40625 -5.046875 C -0.0078125 -4.554688 0.1875 -3.929688 0.1875 -3.171875 C 0.1875 -2.316406 -0.125 -1.632812 -0.75 -1.125 C -1.375 -0.613281 -2.15625 -0.359375 -3.09375 -0.359375 C -4.238281 -0.359375 -5.128906 -0.632812 -5.765625 -1.1875 C -6.398438 -1.75 -6.71875 -2.460938 -6.71875 -3.328125 Z M -6.703125 -3.15625 Z \"/>\n",
       "</symbol>\n",
       "<symbol overflow=\"visible\" id=\"glyph2-8\">\n",
       "<path style=\"stroke:none;\" d=\"M -6.53125 -4.890625 L -6.53125 -6.109375 C -6.113281 -5.953125 -5.160156 -5.609375 -3.671875 -5.078125 C -2.546875 -4.671875 -1.628906 -4.335938 -0.921875 -4.078125 C 0.742188 -3.441406 1.757812 -2.992188 2.125 -2.734375 C 2.488281 -2.472656 2.671875 -2.023438 2.671875 -1.390625 C 2.671875 -1.234375 2.664062 -1.113281 2.65625 -1.03125 C 2.644531 -0.945312 2.625 -0.84375 2.59375 -0.71875 L 1.59375 -0.71875 C 1.644531 -0.90625 1.675781 -1.039062 1.6875 -1.125 C 1.695312 -1.21875 1.703125 -1.296875 1.703125 -1.359375 C 1.703125 -1.566406 1.664062 -1.71875 1.59375 -1.8125 C 1.53125 -1.90625 1.453125 -1.984375 1.359375 -2.046875 C 1.328125 -2.066406 1.160156 -2.140625 0.859375 -2.265625 C 0.554688 -2.390625 0.332031 -2.484375 0.1875 -2.546875 L -6.53125 -0.125 L -6.53125 -1.375 L -1.21875 -3.125 Z M -6.703125 -3.125 Z \"/>\n",
       "</symbol>\n",
       "<symbol overflow=\"visible\" id=\"glyph2-9\">\n",
       "<path style=\"stroke:none;\" d=\"M -8.734375 -3.375 C -8.734375 -4.507812 -8.269531 -5.328125 -7.34375 -5.828125 C -6.625 -6.222656 -5.632812 -6.421875 -4.375 -6.421875 C -3.1875 -6.421875 -2.207031 -6.242188 -1.4375 -5.890625 C -0.320312 -5.378906 0.234375 -4.539062 0.234375 -3.375 C 0.234375 -2.320312 -0.21875 -1.539062 -1.125 -1.03125 C -1.882812 -0.601562 -2.90625 -0.390625 -4.1875 -0.390625 C -5.1875 -0.390625 -6.039062 -0.519531 -6.75 -0.78125 C -8.070312 -1.257812 -8.734375 -2.125 -8.734375 -3.375 Z M -0.765625 -3.375 C -0.765625 -3.9375 -1.015625 -4.382812 -1.515625 -4.71875 C -2.023438 -5.0625 -2.96875 -5.234375 -4.34375 -5.234375 C -5.332031 -5.234375 -6.144531 -5.109375 -6.78125 -4.859375 C -7.425781 -4.617188 -7.75 -4.148438 -7.75 -3.453125 C -7.75 -2.804688 -7.441406 -2.332031 -6.828125 -2.03125 C -6.222656 -1.726562 -5.332031 -1.578125 -4.15625 -1.578125 C -3.257812 -1.578125 -2.539062 -1.675781 -2 -1.875 C -1.175781 -2.164062 -0.765625 -2.664062 -0.765625 -3.375 Z \"/>\n",
       "</symbol>\n",
       "<symbol overflow=\"visible\" id=\"glyph2-10\">\n",
       "<path style=\"stroke:none;\" d=\"M -2.234375 -1.546875 C -1.597656 -1.617188 -1.160156 -1.910156 -0.921875 -2.421875 C -0.804688 -2.679688 -0.75 -2.984375 -0.75 -3.328125 C -0.75 -3.972656 -0.953125 -4.453125 -1.359375 -4.765625 C -1.773438 -5.078125 -2.238281 -5.234375 -2.75 -5.234375 C -3.351562 -5.234375 -3.820312 -5.046875 -4.15625 -4.671875 C -4.488281 -4.304688 -4.65625 -3.863281 -4.65625 -3.34375 C -4.65625 -2.957031 -4.582031 -2.628906 -4.4375 -2.359375 C -4.289062 -2.085938 -4.085938 -1.859375 -3.828125 -1.671875 L -3.890625 -0.71875 L -8.59375 -1.390625 L -8.59375 -5.921875 L -7.53125 -5.921875 L -7.53125 -2.203125 L -5.109375 -1.84375 C -5.253906 -2.039062 -5.367188 -2.234375 -5.453125 -2.421875 C -5.585938 -2.742188 -5.65625 -3.117188 -5.65625 -3.546875 C -5.65625 -4.347656 -5.394531 -5.023438 -4.875 -5.578125 C -4.363281 -6.140625 -3.707031 -6.421875 -2.90625 -6.421875 C -2.082031 -6.421875 -1.351562 -6.164062 -0.71875 -5.65625 C -0.09375 -5.144531 0.21875 -4.328125 0.21875 -3.203125 C 0.21875 -2.492188 0.0195312 -1.863281 -0.375 -1.3125 C -0.78125 -0.769531 -1.398438 -0.46875 -2.234375 -0.40625 Z \"/>\n",
       "</symbol>\n",
       "<symbol overflow=\"visible\" id=\"glyph2-11\">\n",
       "<path style=\"stroke:none;\" d=\"M -6.1875 -1.203125 L -7.03125 -1.203125 C -7.101562 -1.992188 -7.226562 -2.546875 -7.40625 -2.859375 C -7.59375 -3.171875 -8.023438 -3.40625 -8.703125 -3.5625 L -8.703125 -4.421875 L 0 -4.421875 L 0 -3.25 L -6.1875 -3.25 Z \"/>\n",
       "</symbol>\n",
       "</g>\n",
       "</defs>\n",
       "<g id=\"surface41\">\n",
       "<rect x=\"0\" y=\"0\" width=\"288\" height=\"288\" style=\"fill:rgb(100%,100%,100%);fill-opacity:1;stroke:none;\"/>\n",
       "<g style=\"fill:rgb(0%,0%,0%);fill-opacity:1;\">\n",
       "  <use xlink:href=\"#glyph0-1\" x=\"110.351562\" y=\"34.863281\"/>\n",
       "  <use xlink:href=\"#glyph0-2\" x=\"121.116379\" y=\"34.863281\"/>\n",
       "  <use xlink:href=\"#glyph0-3\" x=\"124.42807\" y=\"34.863281\"/>\n",
       "  <use xlink:href=\"#glyph0-4\" x=\"131.881195\" y=\"34.863281\"/>\n",
       "  <use xlink:href=\"#glyph0-5\" x=\"136.022629\" y=\"34.863281\"/>\n",
       "  <use xlink:href=\"#glyph0-6\" x=\"144.312775\" y=\"34.863281\"/>\n",
       "  <use xlink:href=\"#glyph0-7\" x=\"152.602921\" y=\"34.863281\"/>\n",
       "  <use xlink:href=\"#glyph0-8\" x=\"157.566818\" y=\"34.863281\"/>\n",
       "  <use xlink:href=\"#glyph0-9\" x=\"165.856964\" y=\"34.863281\"/>\n",
       "  <use xlink:href=\"#glyph0-10\" x=\"178.273987\" y=\"34.863281\"/>\n",
       "  <use xlink:href=\"#glyph0-5\" x=\"182.415421\" y=\"34.863281\"/>\n",
       "  <use xlink:href=\"#glyph0-11\" x=\"190.705566\" y=\"34.863281\"/>\n",
       "  <use xlink:href=\"#glyph0-10\" x=\"194.847\" y=\"34.863281\"/>\n",
       "  <use xlink:href=\"#glyph0-12\" x=\"198.988434\" y=\"34.863281\"/>\n",
       "</g>\n",
       "<g style=\"fill:rgb(0%,0%,0%);fill-opacity:1;\">\n",
       "  <use xlink:href=\"#glyph1-1\" x=\"155.273438\" y=\"270.71875\"/>\n",
       "</g>\n",
       "<g style=\"fill:rgb(0%,0%,0%);fill-opacity:1;\">\n",
       "  <use xlink:href=\"#glyph2-1\" x=\"14.398438\" y=\"166.328125\"/>\n",
       "  <use xlink:href=\"#glyph2-2\" x=\"14.398438\" y=\"158.692627\"/>\n",
       "  <use xlink:href=\"#glyph2-3\" x=\"14.398438\" y=\"154.530029\"/>\n",
       "  <use xlink:href=\"#glyph2-4\" x=\"14.398438\" y=\"147.578125\"/>\n",
       "  <use xlink:href=\"#glyph2-5\" x=\"14.398438\" y=\"140.626221\"/>\n",
       "  <use xlink:href=\"#glyph2-3\" x=\"14.398438\" y=\"133.674316\"/>\n",
       "  <use xlink:href=\"#glyph2-6\" x=\"14.398438\" y=\"126.722412\"/>\n",
       "  <use xlink:href=\"#glyph2-7\" x=\"14.398438\" y=\"119.770508\"/>\n",
       "  <use xlink:href=\"#glyph2-8\" x=\"14.398438\" y=\"113.520508\"/>\n",
       "</g>\n",
       "<path style=\"fill:none;stroke-width:1;stroke-linecap:round;stroke-linejoin:round;stroke:rgb(0%,0%,0%);stroke-opacity:1;stroke-miterlimit:10;\" d=\"M 84.800781 214.558594 L 232 214.558594 \"/>\n",
       "<path style=\"fill:none;stroke-width:1;stroke-linecap:round;stroke-linejoin:round;stroke:rgb(0%,0%,0%);stroke-opacity:1;stroke-miterlimit:10;\" d=\"M 84.800781 214.558594 L 84.800781 221.761719 \"/>\n",
       "<path style=\"fill:none;stroke-width:1;stroke-linecap:round;stroke-linejoin:round;stroke:rgb(0%,0%,0%);stroke-opacity:1;stroke-miterlimit:10;\" d=\"M 121.601562 214.558594 L 121.601562 221.761719 \"/>\n",
       "<path style=\"fill:none;stroke-width:1;stroke-linecap:round;stroke-linejoin:round;stroke:rgb(0%,0%,0%);stroke-opacity:1;stroke-miterlimit:10;\" d=\"M 158.398438 214.558594 L 158.398438 221.761719 \"/>\n",
       "<path style=\"fill:none;stroke-width:1;stroke-linecap:round;stroke-linejoin:round;stroke:rgb(0%,0%,0%);stroke-opacity:1;stroke-miterlimit:10;\" d=\"M 195.199219 214.558594 L 195.199219 221.761719 \"/>\n",
       "<path style=\"fill:none;stroke-width:1;stroke-linecap:round;stroke-linejoin:round;stroke:rgb(0%,0%,0%);stroke-opacity:1;stroke-miterlimit:10;\" d=\"M 232 214.558594 L 232 221.761719 \"/>\n",
       "<g style=\"fill:rgb(0%,0%,0%);fill-opacity:1;\">\n",
       "  <use xlink:href=\"#glyph1-2\" x=\"79.242188\" y=\"241.921875\"/>\n",
       "  <use xlink:href=\"#glyph1-3\" x=\"83.404785\" y=\"241.921875\"/>\n",
       "</g>\n",
       "<g style=\"fill:rgb(0%,0%,0%);fill-opacity:1;\">\n",
       "  <use xlink:href=\"#glyph1-2\" x=\"116.042969\" y=\"241.921875\"/>\n",
       "  <use xlink:href=\"#glyph1-4\" x=\"120.205566\" y=\"241.921875\"/>\n",
       "</g>\n",
       "<g style=\"fill:rgb(0%,0%,0%);fill-opacity:1;\">\n",
       "  <use xlink:href=\"#glyph1-5\" x=\"154.921875\" y=\"241.921875\"/>\n",
       "</g>\n",
       "<g style=\"fill:rgb(0%,0%,0%);fill-opacity:1;\">\n",
       "  <use xlink:href=\"#glyph1-4\" x=\"191.722656\" y=\"241.921875\"/>\n",
       "</g>\n",
       "<g style=\"fill:rgb(0%,0%,0%);fill-opacity:1;\">\n",
       "  <use xlink:href=\"#glyph1-3\" x=\"228.523438\" y=\"241.921875\"/>\n",
       "</g>\n",
       "<path style=\"fill:none;stroke-width:1;stroke-linecap:round;stroke-linejoin:round;stroke:rgb(0%,0%,0%);stroke-opacity:1;stroke-miterlimit:10;\" d=\"M 59.039062 208.800781 L 59.039062 96.132812 \"/>\n",
       "<path style=\"fill:none;stroke-width:1;stroke-linecap:round;stroke-linejoin:round;stroke:rgb(0%,0%,0%);stroke-opacity:1;stroke-miterlimit:10;\" d=\"M 59.039062 208.800781 L 51.839844 208.800781 \"/>\n",
       "<path style=\"fill:none;stroke-width:1;stroke-linecap:round;stroke-linejoin:round;stroke:rgb(0%,0%,0%);stroke-opacity:1;stroke-miterlimit:10;\" d=\"M 59.039062 171.242188 L 51.839844 171.242188 \"/>\n",
       "<path style=\"fill:none;stroke-width:1;stroke-linecap:round;stroke-linejoin:round;stroke:rgb(0%,0%,0%);stroke-opacity:1;stroke-miterlimit:10;\" d=\"M 59.039062 133.6875 L 51.839844 133.6875 \"/>\n",
       "<path style=\"fill:none;stroke-width:1;stroke-linecap:round;stroke-linejoin:round;stroke:rgb(0%,0%,0%);stroke-opacity:1;stroke-miterlimit:10;\" d=\"M 59.039062 96.132812 L 51.839844 96.132812 \"/>\n",
       "<g style=\"fill:rgb(0%,0%,0%);fill-opacity:1;\">\n",
       "  <use xlink:href=\"#glyph2-9\" x=\"43.199219\" y=\"212.277344\"/>\n",
       "</g>\n",
       "<g style=\"fill:rgb(0%,0%,0%);fill-opacity:1;\">\n",
       "  <use xlink:href=\"#glyph2-10\" x=\"43.199219\" y=\"188.621094\"/>\n",
       "  <use xlink:href=\"#glyph2-9\" x=\"43.199219\" y=\"181.669189\"/>\n",
       "  <use xlink:href=\"#glyph2-9\" x=\"43.199219\" y=\"174.717285\"/>\n",
       "  <use xlink:href=\"#glyph2-9\" x=\"43.199219\" y=\"167.765381\"/>\n",
       "  <use xlink:href=\"#glyph2-9\" x=\"43.199219\" y=\"160.813477\"/>\n",
       "</g>\n",
       "<g style=\"fill:rgb(0%,0%,0%);fill-opacity:1;\">\n",
       "  <use xlink:href=\"#glyph2-11\" x=\"43.199219\" y=\"116.988281\"/>\n",
       "  <use xlink:href=\"#glyph2-10\" x=\"43.199219\" y=\"110.036377\"/>\n",
       "  <use xlink:href=\"#glyph2-9\" x=\"43.199219\" y=\"103.084473\"/>\n",
       "  <use xlink:href=\"#glyph2-9\" x=\"43.199219\" y=\"96.132568\"/>\n",
       "  <use xlink:href=\"#glyph2-9\" x=\"43.199219\" y=\"89.180664\"/>\n",
       "  <use xlink:href=\"#glyph2-9\" x=\"43.199219\" y=\"82.22876\"/>\n",
       "</g>\n",
       "<path style=\"fill:none;stroke-width:1;stroke-linecap:round;stroke-linejoin:round;stroke:rgb(0%,0%,0%);stroke-opacity:1;stroke-miterlimit:10;\" d=\"M 66.398438 208.796875 L 75.597656 208.796875 L 75.597656 208.800781 L 66.398438 208.800781 Z \"/>\n",
       "<path style=\"fill:none;stroke-width:1;stroke-linecap:round;stroke-linejoin:round;stroke:rgb(0%,0%,0%);stroke-opacity:1;stroke-miterlimit:10;\" d=\"M 75.601562 208.78125 L 84.800781 208.78125 L 84.800781 208.800781 L 75.601562 208.800781 Z \"/>\n",
       "<path style=\"fill:none;stroke-width:1;stroke-linecap:round;stroke-linejoin:round;stroke:rgb(0%,0%,0%);stroke-opacity:1;stroke-miterlimit:10;\" d=\"M 84.800781 208.640625 L 94 208.640625 L 94 208.800781 L 84.800781 208.800781 Z \"/>\n",
       "<path style=\"fill:none;stroke-width:1;stroke-linecap:round;stroke-linejoin:round;stroke:rgb(0%,0%,0%);stroke-opacity:1;stroke-miterlimit:10;\" d=\"M 94 207.972656 L 103.199219 207.972656 L 103.199219 208.800781 L 94 208.800781 Z \"/>\n",
       "<path style=\"fill:none;stroke-width:1;stroke-linecap:round;stroke-linejoin:round;stroke:rgb(0%,0%,0%);stroke-opacity:1;stroke-miterlimit:10;\" d=\"M 103.199219 205.164062 L 112.398438 205.164062 L 112.398438 208.796875 L 103.199219 208.796875 Z \"/>\n",
       "<path style=\"fill:none;stroke-width:1;stroke-linecap:round;stroke-linejoin:round;stroke:rgb(0%,0%,0%);stroke-opacity:1;stroke-miterlimit:10;\" d=\"M 112.398438 196.273438 L 121.597656 196.273438 L 121.597656 208.800781 L 112.398438 208.800781 Z \"/>\n",
       "<path style=\"fill:none;stroke-width:1;stroke-linecap:round;stroke-linejoin:round;stroke:rgb(0%,0%,0%);stroke-opacity:1;stroke-miterlimit:10;\" d=\"M 121.601562 175.902344 L 130.800781 175.902344 L 130.800781 208.796875 L 121.601562 208.796875 Z \"/>\n",
       "<path style=\"fill:none;stroke-width:1;stroke-linecap:round;stroke-linejoin:round;stroke:rgb(0%,0%,0%);stroke-opacity:1;stroke-miterlimit:10;\" d=\"M 130.800781 139.667969 L 140 139.667969 L 140 208.800781 L 130.800781 208.800781 Z \"/>\n",
       "<path style=\"fill:none;stroke-width:1;stroke-linecap:round;stroke-linejoin:round;stroke:rgb(0%,0%,0%);stroke-opacity:1;stroke-miterlimit:10;\" d=\"M 140 96.222656 L 149.199219 96.222656 L 149.199219 208.800781 L 140 208.800781 Z \"/>\n",
       "<path style=\"fill:none;stroke-width:1;stroke-linecap:round;stroke-linejoin:round;stroke:rgb(0%,0%,0%);stroke-opacity:1;stroke-miterlimit:10;\" d=\"M 149.199219 64.800781 L 158.398438 64.800781 L 158.398438 208.800781 L 149.199219 208.800781 Z \"/>\n",
       "<path style=\"fill:none;stroke-width:1;stroke-linecap:round;stroke-linejoin:round;stroke:rgb(0%,0%,0%);stroke-opacity:1;stroke-miterlimit:10;\" d=\"M 158.398438 65.121094 L 167.597656 65.121094 L 167.597656 208.800781 L 158.398438 208.800781 Z \"/>\n",
       "<path style=\"fill:none;stroke-width:1;stroke-linecap:round;stroke-linejoin:round;stroke:rgb(0%,0%,0%);stroke-opacity:1;stroke-miterlimit:10;\" d=\"M 167.601562 96.421875 L 176.800781 96.421875 L 176.800781 208.800781 L 167.601562 208.800781 Z \"/>\n",
       "<path style=\"fill:none;stroke-width:1;stroke-linecap:round;stroke-linejoin:round;stroke:rgb(0%,0%,0%);stroke-opacity:1;stroke-miterlimit:10;\" d=\"M 176.800781 139.609375 L 186 139.609375 L 186 208.800781 L 176.800781 208.800781 Z \"/>\n",
       "<path style=\"fill:none;stroke-width:1;stroke-linecap:round;stroke-linejoin:round;stroke:rgb(0%,0%,0%);stroke-opacity:1;stroke-miterlimit:10;\" d=\"M 186 175.507812 L 195.199219 175.507812 L 195.199219 208.800781 L 186 208.800781 Z \"/>\n",
       "<path style=\"fill:none;stroke-width:1;stroke-linecap:round;stroke-linejoin:round;stroke:rgb(0%,0%,0%);stroke-opacity:1;stroke-miterlimit:10;\" d=\"M 195.199219 196.59375 L 204.398438 196.59375 L 204.398438 208.800781 L 195.199219 208.800781 Z \"/>\n",
       "<path style=\"fill:none;stroke-width:1;stroke-linecap:round;stroke-linejoin:round;stroke:rgb(0%,0%,0%);stroke-opacity:1;stroke-miterlimit:10;\" d=\"M 204.398438 205.234375 L 213.597656 205.234375 L 213.597656 208.800781 L 204.398438 208.800781 Z \"/>\n",
       "<path style=\"fill:none;stroke-width:1;stroke-linecap:round;stroke-linejoin:round;stroke:rgb(0%,0%,0%);stroke-opacity:1;stroke-miterlimit:10;\" d=\"M 213.601562 207.949219 L 222.800781 207.949219 L 222.800781 208.800781 L 213.601562 208.800781 Z \"/>\n",
       "<path style=\"fill:none;stroke-width:1;stroke-linecap:round;stroke-linejoin:round;stroke:rgb(0%,0%,0%);stroke-opacity:1;stroke-miterlimit:10;\" d=\"M 222.800781 208.644531 L 232 208.644531 L 232 208.800781 L 222.800781 208.800781 Z \"/>\n",
       "<path style=\"fill:none;stroke-width:1;stroke-linecap:round;stroke-linejoin:round;stroke:rgb(0%,0%,0%);stroke-opacity:1;stroke-miterlimit:10;\" d=\"M 232 208.777344 L 241.199219 208.777344 L 241.199219 208.800781 L 232 208.800781 Z \"/>\n",
       "<path style=\"fill:none;stroke-width:1;stroke-linecap:round;stroke-linejoin:round;stroke:rgb(0%,0%,0%);stroke-opacity:1;stroke-miterlimit:10;\" d=\"M 241.199219 208.796875 L 250.398438 208.796875 L 250.398438 208.800781 L 241.199219 208.800781 Z \"/>\n",
       "</g>\n",
       "</svg>\n"
      ],
      "text/plain": [
       "Plot with title “Histogram of x”"
      ]
     },
     "metadata": {
      "image/svg+xml": {
       "isolated": true
      }
     },
     "output_type": "display_data"
    }
   ],
   "source": [
    "hist(x)"
   ]
  },
  {
   "cell_type": "code",
   "execution_count": 27,
   "metadata": {
    "collapsed": true
   },
   "outputs": [],
   "source": [
    "library(\"Cairo\")"
   ]
  },
  {
   "cell_type": "code",
   "execution_count": 32,
   "metadata": {
    "collapsed": false
   },
   "outputs": [
    {
     "data": {
      "text/html": [
       "<strong>pdf:</strong> 2"
      ],
      "text/latex": [
       "\\textbf{pdf:} 2"
      ],
      "text/markdown": [
       "**pdf:** 2"
      ],
      "text/plain": [
       "pdf \n",
       "  2 "
      ]
     },
     "execution_count": 32,
     "metadata": {},
     "output_type": "execute_result"
    },
    {
     "data": {
      "image/png": "[encoded data removed]",
      "image/svg+xml": [
       "<?xml version=\"1.0\" encoding=\"UTF-8\"?>\n",
       "<svg xmlns=\"http://www.w3.org/2000/svg\" xmlns:xlink=\"http://www.w3.org/1999/xlink\" width=\"288pt\" height=\"288pt\" viewBox=\"0 0 288 288\" version=\"1.1\">\n",
       "<defs>\n",
       "<g>\n",
       "<symbol overflow=\"visible\" id=\"glyph0-0\">\n",
       "<path style=\"stroke:none;\" d=\"M 9 1 L 1 1 L 1 -8.59375 L 9 -8.59375 Z M 8.15625 -8.078125 L 1.859375 -8.078125 L 5.015625 -4.203125 Z M 8.484375 0.078125 L 8.484375 -7.65625 L 5.34375 -3.796875 Z M 4.671875 -3.796875 L 1.515625 -7.6875 L 1.515625 0.09375 Z M 8.140625 0.484375 L 5.015625 -3.375 L 1.875 0.484375 Z \"/>\n",
       "</symbol>\n",
       "<symbol overflow=\"visible\" id=\"glyph0-1\">\n",
       "<path style=\"stroke:none;\" d=\"M 1.84375 -4.0625 C 2.3125 -4.4375 2.828125 -4.625 3.390625 -4.625 C 4.066406 -4.625 4.625 -4.398438 5.0625 -3.953125 C 5.476562 -3.515625 5.6875 -2.976562 5.6875 -2.34375 C 5.6875 -1.757812 5.507812 -1.242188 5.15625 -0.796875 C 4.707031 -0.234375 4.046875 0.046875 3.171875 0.046875 C 2.054688 0.046875 1.242188 -0.375 0.734375 -1.21875 L 1.46875 -1.609375 C 1.851562 -0.984375 2.410156 -0.671875 3.140625 -0.671875 C 3.617188 -0.671875 4.015625 -0.820312 4.328125 -1.125 C 4.648438 -1.425781 4.8125 -1.832031 4.8125 -2.34375 C 4.8125 -2.832031 4.671875 -3.21875 4.390625 -3.5 C 4.085938 -3.800781 3.695312 -3.953125 3.21875 -3.953125 C 2.539062 -3.953125 2.023438 -3.691406 1.671875 -3.171875 L 0.921875 -3.265625 L 1.375 -7.234375 L 5.328125 -7.234375 L 5.328125 -6.484375 L 2.09375 -6.484375 L 1.765625 -4.0625 Z \"/>\n",
       "</symbol>\n",
       "<symbol overflow=\"visible\" id=\"glyph0-2\">\n",
       "<path style=\"stroke:none;\" d=\"M 3.1875 -7.390625 C 4.0625 -7.390625 4.734375 -6.976562 5.203125 -6.15625 C 5.578125 -5.519531 5.765625 -4.6875 5.765625 -3.65625 C 5.765625 -2.644531 5.578125 -1.8125 5.203125 -1.15625 C 4.742188 -0.351562 4.0625 0.046875 3.15625 0.046875 C 2.25 0.046875 1.5625 -0.351562 1.09375 -1.15625 C 0.71875 -1.8125 0.53125 -2.648438 0.53125 -3.671875 C 0.53125 -5.085938 0.875 -6.117188 1.5625 -6.765625 C 2 -7.179688 2.539062 -7.390625 3.1875 -7.390625 Z M 3.15625 -6.671875 C 2.632812 -6.671875 2.222656 -6.40625 1.921875 -5.875 C 1.609375 -5.34375 1.453125 -4.601562 1.453125 -3.65625 C 1.453125 -2.738281 1.601562 -2.015625 1.90625 -1.484375 C 2.207031 -0.960938 2.625 -0.703125 3.15625 -0.703125 C 3.78125 -0.703125 4.242188 -1.066406 4.546875 -1.796875 C 4.742188 -2.285156 4.84375 -2.925781 4.84375 -3.71875 C 4.84375 -4.632812 4.691406 -5.351562 4.390625 -5.875 C 4.078125 -6.40625 3.664062 -6.671875 3.15625 -6.671875 Z \"/>\n",
       "</symbol>\n",
       "<symbol overflow=\"visible\" id=\"glyph0-3\">\n",
       "<path style=\"stroke:none;\" d=\"M 1.796875 -1.140625 C 1.671875 -0.210938 1.363281 0.691406 0.875 1.578125 L 0.234375 1.40625 C 0.585938 0.570312 0.804688 -0.273438 0.890625 -1.140625 Z \"/>\n",
       "</symbol>\n",
       "<symbol overflow=\"visible\" id=\"glyph0-4\">\n",
       "<path style=\"stroke:none;\" d=\"M 3.84375 -0.09375 L 2.96875 -0.09375 L 2.96875 -6.40625 C 2.414062 -6.21875 1.835938 -6.0625 1.234375 -5.9375 L 1.0625 -6.609375 C 1.9375 -6.828125 2.679688 -7.085938 3.296875 -7.390625 L 3.84375 -7.390625 Z \"/>\n",
       "</symbol>\n",
       "<symbol overflow=\"visible\" id=\"glyph0-5\">\n",
       "<path style=\"stroke:none;\" d=\"M 3.078125 -2.65625 L 0.5 -2.65625 L 0.5 -3.4375 L 3.078125 -3.4375 Z \"/>\n",
       "</symbol>\n",
       "<symbol overflow=\"visible\" id=\"glyph0-6\">\n",
       "<path style=\"stroke:none;\" d=\"M 5.953125 -1.8125 L 4.78125 -1.8125 L 4.78125 -0.09375 L 3.984375 -0.09375 L 3.984375 -1.8125 L 0.3125 -1.8125 L 0.3125 -2.609375 L 3.84375 -7.3125 L 4.78125 -7.3125 L 4.78125 -2.546875 L 5.953125 -2.546875 Z M 4.03125 -6.421875 L 4 -6.421875 C 3.707031 -5.953125 3.414062 -5.519531 3.125 -5.125 L 1.1875 -2.546875 L 3.984375 -2.546875 L 3.984375 -4.90625 C 3.984375 -5.257812 4 -5.765625 4.03125 -6.421875 Z \"/>\n",
       "</symbol>\n",
       "<symbol overflow=\"visible\" id=\"glyph0-7\">\n",
       "<path style=\"stroke:none;\" d=\"M 5.71875 -0.09375 L 0.703125 -0.09375 L 0.703125 -0.921875 C 1.097656 -1.847656 1.847656 -2.6875 2.953125 -3.4375 L 3.234375 -3.625 C 3.804688 -4.019531 4.179688 -4.328125 4.359375 -4.546875 C 4.566406 -4.796875 4.671875 -5.070312 4.671875 -5.375 C 4.671875 -5.71875 4.550781 -6.007812 4.3125 -6.25 C 4.039062 -6.519531 3.6875 -6.65625 3.25 -6.65625 C 2.382812 -6.65625 1.816406 -6.171875 1.546875 -5.203125 L 0.78125 -5.484375 C 1.144531 -6.753906 1.988281 -7.390625 3.3125 -7.390625 C 4.03125 -7.390625 4.601562 -7.175781 5.03125 -6.75 C 5.40625 -6.363281 5.59375 -5.898438 5.59375 -5.359375 C 5.59375 -4.953125 5.46875 -4.582031 5.21875 -4.25 C 5 -3.9375 4.492188 -3.53125 3.703125 -3.03125 L 3.484375 -2.90625 C 2.472656 -2.269531 1.820312 -1.597656 1.53125 -0.890625 L 5.71875 -0.890625 Z \"/>\n",
       "</symbol>\n",
       "<symbol overflow=\"visible\" id=\"glyph1-0\">\n",
       "<path style=\"stroke:none;\" d=\"M 11.703125 1.296875 L 1.296875 1.296875 L 1.296875 -11.171875 L 11.703125 -11.171875 Z M 10.59375 -10.5 L 2.421875 -10.5 L 6.515625 -5.46875 Z M 11.03125 0.109375 L 11.03125 -9.953125 L 6.9375 -4.921875 Z M 6.0625 -4.921875 L 1.96875 -9.984375 L 1.96875 0.125 Z M 10.578125 0.625 L 6.515625 -4.390625 L 2.4375 0.625 Z \"/>\n",
       "</symbol>\n",
       "<symbol overflow=\"visible\" id=\"glyph1-1\">\n",
       "<path style=\"stroke:none;\" d=\"M 6.203125 -0.125 L 4.90625 -0.125 L 3.140625 -2.71875 L 1.40625 -0.125 L 0.109375 -0.125 L 2.53125 -3.40625 L 0.21875 -6.609375 L 1.515625 -6.609375 L 3.203125 -4.09375 L 4.90625 -6.609375 L 6.125 -6.609375 L 3.8125 -3.421875 Z \"/>\n",
       "</symbol>\n",
       "<symbol overflow=\"visible\" id=\"glyph2-0\">\n",
       "<path style=\"stroke:none;\" d=\"M 1.296875 -11.703125 L 1.296875 -1.296875 L -11.171875 -1.296875 L -11.171875 -11.703125 Z M -10.5 -10.59375 L -10.5 -2.421875 L -5.46875 -6.515625 Z M 0.109375 -11.03125 L -9.953125 -11.03125 L -4.921875 -6.9375 Z M -4.921875 -6.0625 L -9.984375 -1.96875 L 0.125 -1.96875 Z M 0.625 -10.578125 L -4.390625 -6.515625 L 0.625 -2.4375 Z \"/>\n",
       "</symbol>\n",
       "<symbol overflow=\"visible\" id=\"glyph2-1\">\n",
       "<path style=\"stroke:none;\" d=\"M -8.40625 -7.046875 L -8.40625 -2.375 L -5.390625 -2.375 L -5.390625 -6.515625 L -4.4375 -6.515625 L -4.4375 -2.375 L -0.125 -2.375 L -0.125 -1.234375 L -9.40625 -1.234375 L -9.40625 -7.046875 Z \"/>\n",
       "</symbol>\n",
       "<symbol overflow=\"visible\" id=\"glyph2-2\">\n",
       "<path style=\"stroke:none;\" d=\"M -6.734375 -4.6875 L -5.625 -4.5 C -5.65625 -4.351562 -5.671875 -4.222656 -5.671875 -4.109375 C -5.671875 -3.609375 -5.4375 -3.195312 -4.96875 -2.875 C -4.375 -2.46875 -3.851562 -2.265625 -3.40625 -2.265625 L -0.125 -2.265625 L -0.125 -1.140625 L -6.609375 -1.140625 L -6.609375 -2.203125 L -4.671875 -2.140625 L -4.671875 -2.171875 C -6.078125 -2.648438 -6.78125 -3.347656 -6.78125 -4.265625 C -6.78125 -4.410156 -6.765625 -4.550781 -6.734375 -4.6875 Z \"/>\n",
       "</symbol>\n",
       "<symbol overflow=\"visible\" id=\"glyph2-3\">\n",
       "<path style=\"stroke:none;\" d=\"M -3.234375 -1.75 C -2.484375 -1.789062 -1.894531 -2.023438 -1.46875 -2.453125 C -1.03125 -2.890625 -0.8125 -3.425781 -0.8125 -4.0625 C -0.8125 -4.882812 -1.195312 -5.535156 -1.96875 -6.015625 L -1.484375 -6.75 C -0.453125 -6.132812 0.0625 -5.191406 0.0625 -3.921875 C 0.0625 -2.960938 -0.242188 -2.175781 -0.859375 -1.5625 C -1.484375 -0.9375 -2.304688 -0.625 -3.328125 -0.625 C -4.421875 -0.625 -5.289062 -0.945312 -5.9375 -1.59375 C -6.519531 -2.175781 -6.8125 -2.898438 -6.8125 -3.765625 C -6.8125 -4.585938 -6.539062 -5.273438 -6 -5.828125 C -5.375 -6.441406 -4.539062 -6.75 -3.5 -6.75 L -3.234375 -6.75 Z M -4.0625 -5.59375 C -4.644531 -5.53125 -5.109375 -5.328125 -5.453125 -4.984375 C -5.796875 -4.628906 -5.96875 -4.21875 -5.96875 -3.75 C -5.96875 -3.195312 -5.734375 -2.726562 -5.265625 -2.34375 C -4.941406 -2.070312 -4.539062 -1.894531 -4.0625 -1.8125 Z \"/>\n",
       "</symbol>\n",
       "<symbol overflow=\"visible\" id=\"glyph2-4\">\n",
       "<path style=\"stroke:none;\" d=\"M 2.46875 -6.90625 L 2.46875 -5.78125 L -1.125 -5.78125 C -0.332031 -5.226562 0.0625 -4.492188 0.0625 -3.578125 C 0.0625 -2.796875 -0.207031 -2.132812 -0.75 -1.59375 C -1.394531 -0.957031 -2.265625 -0.640625 -3.359375 -0.640625 C -4.441406 -0.640625 -5.300781 -0.957031 -5.9375 -1.59375 C -6.5 -2.15625 -6.78125 -2.84375 -6.78125 -3.65625 C -6.78125 -4.5625 -6.414062 -5.304688 -5.6875 -5.890625 L -6.65625 -6.0625 L -6.65625 -6.90625 Z M -2.59375 -5.78125 L -4.25 -5.78125 C -4.488281 -5.78125 -4.769531 -5.648438 -5.09375 -5.390625 C -5.632812 -4.929688 -5.90625 -4.398438 -5.90625 -3.796875 C -5.90625 -3.171875 -5.640625 -2.671875 -5.109375 -2.296875 C -4.648438 -1.960938 -4.078125 -1.796875 -3.390625 -1.796875 C -2.640625 -1.796875 -2.019531 -1.988281 -1.53125 -2.375 C -1.0625 -2.75 -0.828125 -3.210938 -0.828125 -3.765625 C -0.828125 -4.410156 -1.144531 -4.960938 -1.78125 -5.421875 C -2.125 -5.660156 -2.394531 -5.78125 -2.59375 -5.78125 Z \"/>\n",
       "</symbol>\n",
       "<symbol overflow=\"visible\" id=\"glyph2-5\">\n",
       "<path style=\"stroke:none;\" d=\"M -0.125 -6.671875 L -0.125 -5.625 L -1.3125 -5.625 C -0.4375 -4.988281 0 -4.210938 0 -3.296875 C 0 -2.546875 -0.253906 -1.960938 -0.765625 -1.546875 C -1.171875 -1.210938 -1.753906 -1.046875 -2.515625 -1.046875 L -6.609375 -1.046875 L -6.609375 -2.171875 L -2.5625 -2.171875 C -1.488281 -2.171875 -0.953125 -2.617188 -0.953125 -3.515625 C -0.953125 -4.429688 -1.507812 -5.109375 -2.625 -5.546875 L -6.609375 -5.546875 L -6.609375 -6.671875 Z \"/>\n",
       "</symbol>\n",
       "<symbol overflow=\"visible\" id=\"glyph2-6\">\n",
       "<path style=\"stroke:none;\" d=\"M -0.125 -6.765625 L -0.125 -5.640625 L -4.140625 -5.640625 C -5.242188 -5.640625 -5.796875 -5.1875 -5.796875 -4.28125 C -5.796875 -3.363281 -5.242188 -2.691406 -4.140625 -2.265625 L -0.125 -2.265625 L -0.125 -1.140625 L -6.609375 -1.140625 L -6.609375 -2.1875 L -5.4375 -2.1875 C -6.300781 -2.789062 -6.734375 -3.566406 -6.734375 -4.515625 C -6.734375 -6.015625 -5.890625 -6.765625 -4.203125 -6.765625 Z \"/>\n",
       "</symbol>\n",
       "<symbol overflow=\"visible\" id=\"glyph2-7\">\n",
       "<path style=\"stroke:none;\" d=\"M -1.59375 -6.640625 C -0.488281 -6.046875 0.0625 -5.117188 0.0625 -3.859375 C 0.0625 -2.953125 -0.234375 -2.195312 -0.828125 -1.59375 C -1.484375 -0.957031 -2.332031 -0.640625 -3.375 -0.640625 C -4.414062 -0.640625 -5.265625 -0.957031 -5.921875 -1.59375 C -6.503906 -2.1875 -6.796875 -2.929688 -6.796875 -3.828125 C -6.796875 -5.085938 -6.25 -5.984375 -5.15625 -6.515625 L -4.6875 -5.609375 C -5.488281 -5.234375 -5.890625 -4.648438 -5.890625 -3.859375 C -5.890625 -3.335938 -5.695312 -2.882812 -5.3125 -2.5 C -4.84375 -2.03125 -4.191406 -1.796875 -3.359375 -1.796875 C -2.566406 -1.796875 -1.941406 -2.023438 -1.484375 -2.484375 C -1.078125 -2.890625 -0.875 -3.382812 -0.875 -3.96875 C -0.875 -4.769531 -1.269531 -5.375 -2.0625 -5.78125 Z \"/>\n",
       "</symbol>\n",
       "<symbol overflow=\"visible\" id=\"glyph2-8\">\n",
       "<path style=\"stroke:none;\" d=\"M -6.609375 -6.34375 L 0.984375 -3.203125 C 1.953125 -2.796875 2.4375 -2.101562 2.4375 -1.125 L 2.4375 -0.96875 L 1.421875 -0.703125 L 1.421875 -0.90625 C 1.421875 -1.613281 1.109375 -2.09375 0.484375 -2.34375 L -0.5625 -2.75 L -6.609375 -0.078125 L -6.609375 -1.34375 L -2.96875 -2.765625 C -2.375 -2.992188 -1.914062 -3.160156 -1.59375 -3.265625 L -1.59375 -3.296875 C -2.113281 -3.472656 -2.570312 -3.632812 -2.96875 -3.78125 L -6.609375 -5.140625 Z \"/>\n",
       "</symbol>\n",
       "<symbol overflow=\"visible\" id=\"glyph3-0\">\n",
       "<path style=\"stroke:none;\" d=\"M 13.5 1.5 L 1.5 1.5 L 1.5 -12.890625 L 13.5 -12.890625 Z M 12.21875 -12.125 L 2.796875 -12.125 L 7.515625 -6.3125 Z M 12.71875 0.125 L 12.71875 -11.484375 L 8.015625 -5.6875 Z M 7 -5.6875 L 2.28125 -11.515625 L 2.28125 0.140625 Z M 12.203125 0.71875 L 7.515625 -5.0625 L 2.8125 0.71875 Z \"/>\n",
       "</symbol>\n",
       "<symbol overflow=\"visible\" id=\"glyph3-1\">\n",
       "<path style=\"stroke:none;\" d=\"M 3.21875 -11.265625 L 4.453125 -11.265625 L 4.453125 -6.578125 C 7.066406 -7.171875 9.304688 -8.039062 11.171875 -9.1875 L 12.078125 -8.21875 C 9.742188 -6.976562 7.203125 -6.054688 4.453125 -5.453125 L 4.453125 -2.5625 C 4.453125 -2.0625 4.601562 -1.753906 4.90625 -1.640625 C 5.207031 -1.503906 6.054688 -1.4375 7.453125 -1.4375 C 9.023438 -1.4375 10.769531 -1.546875 12.6875 -1.765625 L 12.6875 -0.5625 C 10.90625 -0.382812 9.238281 -0.296875 7.6875 -0.296875 C 5.613281 -0.296875 4.347656 -0.453125 3.890625 -0.765625 C 3.441406 -1.046875 3.21875 -1.570312 3.21875 -2.34375 Z \"/>\n",
       "</symbol>\n",
       "<symbol overflow=\"visible\" id=\"glyph3-2\">\n",
       "<path style=\"stroke:none;\" d=\"M 10.21875 -10.5 L 11.046875 -9.71875 C 10.441406 -8.039062 9.609375 -6.484375 8.546875 -5.046875 C 10.128906 -3.921875 11.703125 -2.59375 13.265625 -1.0625 L 12.265625 -0.046875 C 10.734375 -1.710938 9.265625 -3.085938 7.859375 -4.171875 C 6.328125 -2.328125 4.523438 -0.910156 2.453125 0.078125 L 1.53125 -0.9375 C 5.394531 -2.582031 8.085938 -5.394531 9.609375 -9.375 L 2.90625 -9.28125 L 2.875 -10.4375 Z \"/>\n",
       "</symbol>\n",
       "<symbol overflow=\"visible\" id=\"glyph3-3\">\n",
       "<path style=\"stroke:none;\" d=\"M 5.359375 -11.71875 L 6.5625 -11.71875 L 6.5625 -7.515625 C 8.570312 -6.597656 10.457031 -5.566406 12.21875 -4.421875 L 11.4375 -3.203125 C 9.78125 -4.460938 8.15625 -5.492188 6.5625 -6.296875 L 6.5625 0.4375 L 5.359375 0.4375 Z \"/>\n",
       "</symbol>\n",
       "<symbol overflow=\"visible\" id=\"glyph3-4\">\n",
       "<path style=\"stroke:none;\" d=\"M 11.171875 -9.671875 L 11.96875 -9.09375 C 11.375 -6.582031 10.40625 -4.519531 9.0625 -2.90625 C 7.875 -1.476562 6.304688 -0.285156 4.359375 0.671875 L 3.5 -0.28125 C 5.394531 -1.070312 6.941406 -2.195312 8.140625 -3.65625 C 9.335938 -5.113281 10.160156 -6.757812 10.609375 -8.59375 L 6.421875 -8.59375 C 5.296875 -6.914062 4.085938 -5.535156 2.796875 -4.453125 L 1.90625 -5.265625 C 4.007812 -6.972656 5.535156 -9.09375 6.484375 -11.625 L 7.625 -11.296875 C 7.539062 -10.960938 7.320312 -10.421875 6.96875 -9.671875 Z M 14.078125 -10.359375 C 13.515625 -11.210938 12.925781 -11.894531 12.3125 -12.40625 L 13.015625 -12.9375 C 13.617188 -12.457031 14.222656 -11.816406 14.828125 -11.015625 Z M 12.6875 -9.265625 C 12.238281 -10.035156 11.664062 -10.734375 10.96875 -11.359375 L 11.703125 -11.921875 C 12.273438 -11.441406 12.863281 -10.773438 13.46875 -9.921875 Z \"/>\n",
       "</symbol>\n",
       "<symbol overflow=\"visible\" id=\"glyph3-5\">\n",
       "<path style=\"stroke:none;\" d=\"M 3.390625 -11.03125 L 11.53125 -11.03125 L 11.53125 -9.921875 L 3.390625 -9.921875 Z M 2.109375 -7.734375 L 12.125 -7.734375 L 12.84375 -7.0625 C 12.195312 -4.957031 11.210938 -3.285156 9.890625 -2.046875 C 8.722656 -0.960938 7.226562 -0.140625 5.40625 0.421875 L 4.625 -0.6875 C 8.03125 -1.457031 10.265625 -3.4375 11.328125 -6.625 L 2.109375 -6.625 Z \"/>\n",
       "</symbol>\n",
       "<symbol overflow=\"visible\" id=\"glyph3-6\">\n",
       "<path style=\"stroke:none;\" d=\"M 1.421875 -2.09375 L 1.6875 -2.109375 L 2.078125 -2.109375 C 2.335938 -2.128906 2.628906 -2.148438 2.953125 -2.171875 C 3.191406 -2.179688 3.335938 -2.1875 3.390625 -2.1875 C 4.710938 -5.238281 5.8125 -8.1875 6.6875 -11.03125 L 7.953125 -10.609375 C 7.085938 -8.003906 6.015625 -5.234375 4.734375 -2.296875 C 7.128906 -2.492188 9.191406 -2.722656 10.921875 -2.984375 C 10.203125 -4.046875 9.425781 -5.070312 8.59375 -6.0625 L 9.65625 -6.65625 C 11.144531 -4.875 12.445312 -3.054688 13.5625 -1.203125 L 12.46875 -0.453125 C 12.03125 -1.234375 11.71875 -1.757812 11.53125 -2.03125 C 8.40625 -1.46875 5.203125 -1.046875 1.921875 -0.765625 Z \"/>\n",
       "</symbol>\n",
       "<symbol overflow=\"visible\" id=\"glyph3-7\">\n",
       "<path style=\"stroke:none;\" d=\"M 7.3125 -1.09375 C 10.675781 -1.5625 12.359375 -3.09375 12.359375 -5.6875 C 12.359375 -7.289062 11.6875 -8.460938 10.34375 -9.203125 C 9.757812 -9.492188 9.082031 -9.675781 8.3125 -9.75 C 8.070312 -7.195312 7.53125 -5.039062 6.6875 -3.28125 C 5.851562 -1.570312 4.96875 -0.71875 4.03125 -0.71875 C 3.507812 -0.71875 3.015625 -1 2.546875 -1.5625 C 1.796875 -2.46875 1.421875 -3.507812 1.421875 -4.6875 C 1.421875 -6.289062 2.039062 -7.691406 3.28125 -8.890625 C 4.507812 -10.085938 6.097656 -10.6875 8.046875 -10.6875 C 9.410156 -10.6875 10.578125 -10.34375 11.546875 -9.65625 C 12.929688 -8.695312 13.625 -7.375 13.625 -5.6875 C 13.625 -2.582031 11.765625 -0.691406 8.046875 -0.015625 Z M 7.15625 -9.71875 C 6.101562 -9.5625 5.195312 -9.164062 4.4375 -8.53125 C 3.195312 -7.5 2.578125 -6.210938 2.578125 -4.671875 C 2.578125 -3.691406 2.835938 -2.898438 3.359375 -2.296875 C 3.585938 -2.035156 3.8125 -1.90625 4.03125 -1.90625 C 4.5 -1.90625 5.039062 -2.539062 5.65625 -3.8125 C 6.425781 -5.394531 6.925781 -7.363281 7.15625 -9.71875 Z \"/>\n",
       "</symbol>\n",
       "<symbol overflow=\"visible\" id=\"glyph3-8\">\n",
       "<path style=\"stroke:none;\" d=\"M 6.71875 -8.703125 L 8.796875 -8.703125 L 9.390625 -8.25 C 9.179688 -6.082031 8.753906 -4.300781 8.109375 -2.90625 C 7.421875 -1.351562 6.351562 -0.015625 4.90625 1.109375 L 4.171875 0.296875 C 5.597656 -0.703125 6.675781 -2.050781 7.40625 -3.75 C 6.832031 -4.363281 6.226562 -4.898438 5.59375 -5.359375 C 5.238281 -4.679688 4.878906 -4.101562 4.515625 -3.625 L 3.84375 -4.421875 C 4.925781 -5.859375 5.65625 -7.890625 6.03125 -10.515625 L 4.46875 -10.515625 L 4.46875 -11.46875 L 9.859375 -11.46875 L 9.859375 -10.515625 L 7.03125 -10.515625 L 7.015625 -10.4375 C 6.929688 -9.75 6.832031 -9.171875 6.71875 -8.703125 Z M 6.5 -7.78125 C 6.320312 -7.144531 6.132812 -6.59375 5.9375 -6.125 C 6.664062 -5.664062 7.273438 -5.191406 7.765625 -4.703125 C 7.804688 -4.816406 7.828125 -4.882812 7.828125 -4.90625 C 8.109375 -5.769531 8.285156 -6.726562 8.359375 -7.78125 Z M 3.28125 -8.9375 L 3.28125 1.046875 L 2.28125 1.046875 L 2.28125 -6.5625 C 1.9375 -5.851562 1.554688 -5.203125 1.140625 -4.609375 L 0.59375 -5.53125 C 1.726562 -7.363281 2.613281 -9.671875 3.25 -12.453125 L 4.265625 -12.1875 C 3.941406 -10.96875 3.613281 -9.882812 3.28125 -8.9375 Z M 10.265625 -10.59375 L 11.265625 -10.59375 L 11.265625 -2.25 L 10.265625 -2.25 Z M 12.703125 -11.921875 L 13.71875 -11.921875 L 13.71875 -0.25 C 13.71875 0.53125 13.285156 0.921875 12.421875 0.921875 C 11.835938 0.921875 11.25 0.894531 10.65625 0.84375 L 10.421875 -0.25 C 11.066406 -0.15625 11.675781 -0.109375 12.25 -0.109375 C 12.550781 -0.109375 12.703125 -0.257812 12.703125 -0.5625 Z \"/>\n",
       "</symbol>\n",
       "</g>\n",
       "<clipPath id=\"clip1\">\n",
       "  <path d=\"M 68.371094 24.011719 L 283 24.011719 L 283 253 L 68.371094 253 Z \"/>\n",
       "</clipPath>\n",
       "<clipPath id=\"clip2\">\n",
       "  <path d=\"M 68.371094 241 L 283 241 L 283 244 L 68.371094 244 Z \"/>\n",
       "</clipPath>\n",
       "<clipPath id=\"clip3\">\n",
       "  <path d=\"M 68.371094 133 L 283 133 L 283 135 L 68.371094 135 Z \"/>\n",
       "</clipPath>\n",
       "<clipPath id=\"clip4\">\n",
       "  <path d=\"M 68.371094 24.011719 L 283 24.011719 L 283 27 L 68.371094 27 Z \"/>\n",
       "</clipPath>\n",
       "<clipPath id=\"clip5\">\n",
       "  <path d=\"M 77 24.011719 L 79 24.011719 L 79 253.832031 L 77 253.832031 Z \"/>\n",
       "</clipPath>\n",
       "<clipPath id=\"clip6\">\n",
       "  <path d=\"M 116 24.011719 L 118 24.011719 L 118 253.832031 L 116 253.832031 Z \"/>\n",
       "</clipPath>\n",
       "<clipPath id=\"clip7\">\n",
       "  <path d=\"M 155 24.011719 L 157 24.011719 L 157 253.832031 L 155 253.832031 Z \"/>\n",
       "</clipPath>\n",
       "<clipPath id=\"clip8\">\n",
       "  <path d=\"M 193 24.011719 L 196 24.011719 L 196 253.832031 L 193 253.832031 Z \"/>\n",
       "</clipPath>\n",
       "<clipPath id=\"clip9\">\n",
       "  <path d=\"M 232 24.011719 L 235 24.011719 L 235 253.832031 L 232 253.832031 Z \"/>\n",
       "</clipPath>\n",
       "<clipPath id=\"clip10\">\n",
       "  <path d=\"M 271 24.011719 L 274 24.011719 L 274 253.832031 L 271 253.832031 Z \"/>\n",
       "</clipPath>\n",
       "<clipPath id=\"clip11\">\n",
       "  <path d=\"M 68.371094 187 L 283 187 L 283 189 L 68.371094 189 Z \"/>\n",
       "</clipPath>\n",
       "<clipPath id=\"clip12\">\n",
       "  <path d=\"M 68.371094 79 L 283 79 L 283 80 L 68.371094 80 Z \"/>\n",
       "</clipPath>\n",
       "<clipPath id=\"clip13\">\n",
       "  <path d=\"M 97 24.011719 L 98 24.011719 L 98 253.832031 L 97 253.832031 Z \"/>\n",
       "</clipPath>\n",
       "<clipPath id=\"clip14\">\n",
       "  <path d=\"M 136 24.011719 L 137 24.011719 L 137 253.832031 L 136 253.832031 Z \"/>\n",
       "</clipPath>\n",
       "<clipPath id=\"clip15\">\n",
       "  <path d=\"M 174 24.011719 L 176 24.011719 L 176 253.832031 L 174 253.832031 Z \"/>\n",
       "</clipPath>\n",
       "<clipPath id=\"clip16\">\n",
       "  <path d=\"M 213 24.011719 L 215 24.011719 L 215 253.832031 L 213 253.832031 Z \"/>\n",
       "</clipPath>\n",
       "<clipPath id=\"clip17\">\n",
       "  <path d=\"M 252 24.011719 L 254 24.011719 L 254 253.832031 L 252 253.832031 Z \"/>\n",
       "</clipPath>\n",
       "<clipPath id=\"clip18\">\n",
       "  <path d=\"M 68.371094 24.011719 L 283 24.011719 L 283 253.832031 L 68.371094 253.832031 Z \"/>\n",
       "</clipPath>\n",
       "</defs>\n",
       "<g id=\"surface373\">\n",
       "<rect x=\"0\" y=\"0\" width=\"288\" height=\"288\" style=\"fill:rgb(100%,100%,100%);fill-opacity:1;stroke:none;\"/>\n",
       "<rect x=\"0\" y=\"0\" width=\"288\" height=\"288\" style=\"fill:rgb(100%,100%,100%);fill-opacity:1;stroke:none;\"/>\n",
       "<path style=\"fill:none;stroke-width:1.422638;stroke-linecap:round;stroke-linejoin:round;stroke:rgb(100%,100%,100%);stroke-opacity:1;stroke-miterlimit:10;\" d=\"M 0 0 L 288 0 L 288 288 L 0 288 Z \"/>\n",
       "<g clip-path=\"url(#clip1)\" clip-rule=\"nonzero\">\n",
       "<path style=\" stroke:none;fill-rule:nonzero;fill:rgb(100%,100%,100%);fill-opacity:1;\" d=\"M 68.371094 24.011719 L 282.023438 24.011719 L 282.023438 252.832031 L 68.371094 252.832031 Z \"/>\n",
       "</g>\n",
       "<g clip-path=\"url(#clip2)\" clip-rule=\"nonzero\">\n",
       "<path style=\"fill:none;stroke-width:1.422638;stroke-linecap:butt;stroke-linejoin:round;stroke:rgb(98.039216%,98.039216%,98.039216%);stroke-opacity:1;stroke-miterlimit:10;\" d=\"M 68.371094 242.429688 L 282.023438 242.429688 \"/>\n",
       "</g>\n",
       "<g clip-path=\"url(#clip3)\" clip-rule=\"nonzero\">\n",
       "<path style=\"fill:none;stroke-width:1.422638;stroke-linecap:butt;stroke-linejoin:round;stroke:rgb(98.039216%,98.039216%,98.039216%);stroke-opacity:1;stroke-miterlimit:10;\" d=\"M 68.371094 133.921875 L 282.023438 133.921875 \"/>\n",
       "</g>\n",
       "<g clip-path=\"url(#clip4)\" clip-rule=\"nonzero\">\n",
       "<path style=\"fill:none;stroke-width:1.422638;stroke-linecap:butt;stroke-linejoin:round;stroke:rgb(98.039216%,98.039216%,98.039216%);stroke-opacity:1;stroke-miterlimit:10;\" d=\"M 68.371094 25.417969 L 282.023438 25.417969 \"/>\n",
       "</g>\n",
       "<g clip-path=\"url(#clip5)\" clip-rule=\"nonzero\">\n",
       "<path style=\"fill:none;stroke-width:1.422638;stroke-linecap:butt;stroke-linejoin:round;stroke:rgb(98.039216%,98.039216%,98.039216%);stroke-opacity:1;stroke-miterlimit:10;\" d=\"M 78.082031 252.828125 L 78.082031 24.011719 \"/>\n",
       "</g>\n",
       "<g clip-path=\"url(#clip6)\" clip-rule=\"nonzero\">\n",
       "<path style=\"fill:none;stroke-width:1.422638;stroke-linecap:butt;stroke-linejoin:round;stroke:rgb(98.039216%,98.039216%,98.039216%);stroke-opacity:1;stroke-miterlimit:10;\" d=\"M 116.929688 252.828125 L 116.929688 24.011719 \"/>\n",
       "</g>\n",
       "<g clip-path=\"url(#clip7)\" clip-rule=\"nonzero\">\n",
       "<path style=\"fill:none;stroke-width:1.422638;stroke-linecap:butt;stroke-linejoin:round;stroke:rgb(98.039216%,98.039216%,98.039216%);stroke-opacity:1;stroke-miterlimit:10;\" d=\"M 155.773438 252.828125 L 155.773438 24.011719 \"/>\n",
       "</g>\n",
       "<g clip-path=\"url(#clip8)\" clip-rule=\"nonzero\">\n",
       "<path style=\"fill:none;stroke-width:1.422638;stroke-linecap:butt;stroke-linejoin:round;stroke:rgb(98.039216%,98.039216%,98.039216%);stroke-opacity:1;stroke-miterlimit:10;\" d=\"M 194.621094 252.828125 L 194.621094 24.011719 \"/>\n",
       "</g>\n",
       "<g clip-path=\"url(#clip9)\" clip-rule=\"nonzero\">\n",
       "<path style=\"fill:none;stroke-width:1.422638;stroke-linecap:butt;stroke-linejoin:round;stroke:rgb(98.039216%,98.039216%,98.039216%);stroke-opacity:1;stroke-miterlimit:10;\" d=\"M 233.464844 252.828125 L 233.464844 24.011719 \"/>\n",
       "</g>\n",
       "<g clip-path=\"url(#clip10)\" clip-rule=\"nonzero\">\n",
       "<path style=\"fill:none;stroke-width:1.422638;stroke-linecap:butt;stroke-linejoin:round;stroke:rgb(98.039216%,98.039216%,98.039216%);stroke-opacity:1;stroke-miterlimit:10;\" d=\"M 272.3125 252.828125 L 272.3125 24.011719 \"/>\n",
       "</g>\n",
       "<g clip-path=\"url(#clip11)\" clip-rule=\"nonzero\">\n",
       "<path style=\"fill:none;stroke-width:0.569055;stroke-linecap:butt;stroke-linejoin:round;stroke:rgb(89.803922%,89.803922%,89.803922%);stroke-opacity:1;stroke-miterlimit:10;\" d=\"M 68.371094 188.175781 L 282.023438 188.175781 \"/>\n",
       "</g>\n",
       "<g clip-path=\"url(#clip12)\" clip-rule=\"nonzero\">\n",
       "<path style=\"fill:none;stroke-width:0.569055;stroke-linecap:butt;stroke-linejoin:round;stroke:rgb(89.803922%,89.803922%,89.803922%);stroke-opacity:1;stroke-miterlimit:10;\" d=\"M 68.371094 79.671875 L 282.023438 79.671875 \"/>\n",
       "</g>\n",
       "<g clip-path=\"url(#clip13)\" clip-rule=\"nonzero\">\n",
       "<path style=\"fill:none;stroke-width:0.569055;stroke-linecap:butt;stroke-linejoin:round;stroke:rgb(89.803922%,89.803922%,89.803922%);stroke-opacity:1;stroke-miterlimit:10;\" d=\"M 97.503906 252.828125 L 97.503906 24.011719 \"/>\n",
       "</g>\n",
       "<g clip-path=\"url(#clip14)\" clip-rule=\"nonzero\">\n",
       "<path style=\"fill:none;stroke-width:0.569055;stroke-linecap:butt;stroke-linejoin:round;stroke:rgb(89.803922%,89.803922%,89.803922%);stroke-opacity:1;stroke-miterlimit:10;\" d=\"M 136.351562 252.828125 L 136.351562 24.011719 \"/>\n",
       "</g>\n",
       "<g clip-path=\"url(#clip15)\" clip-rule=\"nonzero\">\n",
       "<path style=\"fill:none;stroke-width:0.569055;stroke-linecap:butt;stroke-linejoin:round;stroke:rgb(89.803922%,89.803922%,89.803922%);stroke-opacity:1;stroke-miterlimit:10;\" d=\"M 175.195312 252.828125 L 175.195312 24.011719 \"/>\n",
       "</g>\n",
       "<g clip-path=\"url(#clip16)\" clip-rule=\"nonzero\">\n",
       "<path style=\"fill:none;stroke-width:0.569055;stroke-linecap:butt;stroke-linejoin:round;stroke:rgb(89.803922%,89.803922%,89.803922%);stroke-opacity:1;stroke-miterlimit:10;\" d=\"M 214.042969 252.828125 L 214.042969 24.011719 \"/>\n",
       "</g>\n",
       "<g clip-path=\"url(#clip17)\" clip-rule=\"nonzero\">\n",
       "<path style=\"fill:none;stroke-width:0.569055;stroke-linecap:butt;stroke-linejoin:round;stroke:rgb(89.803922%,89.803922%,89.803922%);stroke-opacity:1;stroke-miterlimit:10;\" d=\"M 252.886719 252.828125 L 252.886719 24.011719 \"/>\n",
       "</g>\n",
       "<path style=\"fill-rule:nonzero;fill:rgb(74.509804%,74.509804%,74.509804%);fill-opacity:1;stroke-width:1.422638;stroke-linecap:butt;stroke-linejoin:round;stroke:rgb(0%,0%,0%);stroke-opacity:1;stroke-miterlimit:10;\" d=\"M 78.082031 242.421875 L 87.792969 242.421875 L 87.792969 242.429688 L 78.082031 242.429688 Z \"/>\n",
       "<path style=\"fill-rule:nonzero;fill:rgb(74.509804%,74.509804%,74.509804%);fill-opacity:1;stroke-width:1.422638;stroke-linecap:butt;stroke-linejoin:round;stroke:rgb(0%,0%,0%);stroke-opacity:1;stroke-miterlimit:10;\" d=\"M 87.792969 242.402344 L 97.503906 242.402344 L 97.503906 242.429688 L 87.792969 242.429688 Z \"/>\n",
       "<path style=\"fill-rule:nonzero;fill:rgb(74.509804%,74.509804%,74.509804%);fill-opacity:1;stroke-width:1.422638;stroke-linecap:butt;stroke-linejoin:round;stroke:rgb(0%,0%,0%);stroke-opacity:1;stroke-miterlimit:10;\" d=\"M 97.503906 242.199219 L 107.214844 242.199219 L 107.214844 242.429688 L 97.503906 242.429688 Z \"/>\n",
       "<path style=\"fill-rule:nonzero;fill:rgb(74.509804%,74.509804%,74.509804%);fill-opacity:1;stroke-width:1.422638;stroke-linecap:butt;stroke-linejoin:round;stroke:rgb(0%,0%,0%);stroke-opacity:1;stroke-miterlimit:10;\" d=\"M 107.21875 241.230469 L 116.929688 241.230469 L 116.929688 242.425781 L 107.21875 242.425781 Z \"/>\n",
       "<path style=\"fill-rule:nonzero;fill:rgb(74.509804%,74.509804%,74.509804%);fill-opacity:1;stroke-width:1.422638;stroke-linecap:butt;stroke-linejoin:round;stroke:rgb(0%,0%,0%);stroke-opacity:1;stroke-miterlimit:10;\" d=\"M 116.929688 237.175781 L 126.640625 237.175781 L 126.640625 242.425781 L 116.929688 242.425781 Z \"/>\n",
       "<path style=\"fill-rule:nonzero;fill:rgb(74.509804%,74.509804%,74.509804%);fill-opacity:1;stroke-width:1.422638;stroke-linecap:butt;stroke-linejoin:round;stroke:rgb(0%,0%,0%);stroke-opacity:1;stroke-miterlimit:10;\" d=\"M 126.640625 224.332031 L 136.351562 224.332031 L 136.351562 242.429688 L 126.640625 242.429688 Z \"/>\n",
       "<path style=\"fill-rule:nonzero;fill:rgb(74.509804%,74.509804%,74.509804%);fill-opacity:1;stroke-width:1.422638;stroke-linecap:butt;stroke-linejoin:round;stroke:rgb(0%,0%,0%);stroke-opacity:1;stroke-miterlimit:10;\" d=\"M 136.351562 194.90625 L 146.0625 194.90625 L 146.0625 242.425781 L 136.351562 242.425781 Z \"/>\n",
       "<path style=\"fill-rule:nonzero;fill:rgb(74.509804%,74.509804%,74.509804%);fill-opacity:1;stroke-width:1.422638;stroke-linecap:butt;stroke-linejoin:round;stroke:rgb(0%,0%,0%);stroke-opacity:1;stroke-miterlimit:10;\" d=\"M 146.0625 142.558594 L 155.773438 142.558594 L 155.773438 242.425781 L 146.0625 242.425781 Z \"/>\n",
       "<path style=\"fill-rule:nonzero;fill:rgb(74.509804%,74.509804%,74.509804%);fill-opacity:1;stroke-width:1.422638;stroke-linecap:butt;stroke-linejoin:round;stroke:rgb(0%,0%,0%);stroke-opacity:1;stroke-miterlimit:10;\" d=\"M 155.773438 79.800781 L 165.484375 79.800781 L 165.484375 242.429688 L 155.773438 242.429688 Z \"/>\n",
       "<path style=\"fill-rule:nonzero;fill:rgb(74.509804%,74.509804%,74.509804%);fill-opacity:1;stroke-width:1.422638;stroke-linecap:butt;stroke-linejoin:round;stroke:rgb(0%,0%,0%);stroke-opacity:1;stroke-miterlimit:10;\" d=\"M 165.484375 34.410156 L 175.195312 34.410156 L 175.195312 242.425781 L 165.484375 242.425781 Z \"/>\n",
       "<path style=\"fill-rule:nonzero;fill:rgb(74.509804%,74.509804%,74.509804%);fill-opacity:1;stroke-width:1.422638;stroke-linecap:butt;stroke-linejoin:round;stroke:rgb(0%,0%,0%);stroke-opacity:1;stroke-miterlimit:10;\" d=\"M 175.195312 34.875 L 184.90625 34.875 L 184.90625 242.425781 L 175.195312 242.425781 Z \"/>\n",
       "<path style=\"fill-rule:nonzero;fill:rgb(74.509804%,74.509804%,74.509804%);fill-opacity:1;stroke-width:1.422638;stroke-linecap:butt;stroke-linejoin:round;stroke:rgb(0%,0%,0%);stroke-opacity:1;stroke-miterlimit:10;\" d=\"M 184.910156 80.09375 L 194.621094 80.09375 L 194.621094 242.429688 L 184.910156 242.429688 Z \"/>\n",
       "<path style=\"fill-rule:nonzero;fill:rgb(74.509804%,74.509804%,74.509804%);fill-opacity:1;stroke-width:1.422638;stroke-linecap:butt;stroke-linejoin:round;stroke:rgb(0%,0%,0%);stroke-opacity:1;stroke-miterlimit:10;\" d=\"M 194.621094 142.480469 L 204.332031 142.480469 L 204.332031 242.429688 L 194.621094 242.429688 Z \"/>\n",
       "<path style=\"fill-rule:nonzero;fill:rgb(74.509804%,74.509804%,74.509804%);fill-opacity:1;stroke-width:1.422638;stroke-linecap:butt;stroke-linejoin:round;stroke:rgb(0%,0%,0%);stroke-opacity:1;stroke-miterlimit:10;\" d=\"M 204.332031 194.332031 L 214.042969 194.332031 L 214.042969 242.425781 L 204.332031 242.425781 Z \"/>\n",
       "<path style=\"fill-rule:nonzero;fill:rgb(74.509804%,74.509804%,74.509804%);fill-opacity:1;stroke-width:1.422638;stroke-linecap:butt;stroke-linejoin:round;stroke:rgb(0%,0%,0%);stroke-opacity:1;stroke-miterlimit:10;\" d=\"M 214.042969 224.796875 L 223.753906 224.796875 L 223.753906 242.429688 L 214.042969 242.429688 Z \"/>\n",
       "<path style=\"fill-rule:nonzero;fill:rgb(74.509804%,74.509804%,74.509804%);fill-opacity:1;stroke-width:1.422638;stroke-linecap:butt;stroke-linejoin:round;stroke:rgb(0%,0%,0%);stroke-opacity:1;stroke-miterlimit:10;\" d=\"M 223.753906 237.273438 L 233.464844 237.273438 L 233.464844 242.425781 L 223.753906 242.425781 Z \"/>\n",
       "<path style=\"fill-rule:nonzero;fill:rgb(74.509804%,74.509804%,74.509804%);fill-opacity:1;stroke-width:1.422638;stroke-linecap:butt;stroke-linejoin:round;stroke:rgb(0%,0%,0%);stroke-opacity:1;stroke-miterlimit:10;\" d=\"M 233.464844 241.199219 L 243.175781 241.199219 L 243.175781 242.425781 L 233.464844 242.425781 Z \"/>\n",
       "<path style=\"fill-rule:nonzero;fill:rgb(74.509804%,74.509804%,74.509804%);fill-opacity:1;stroke-width:1.422638;stroke-linecap:butt;stroke-linejoin:round;stroke:rgb(0%,0%,0%);stroke-opacity:1;stroke-miterlimit:10;\" d=\"M 243.175781 242.203125 L 252.886719 242.203125 L 252.886719 242.429688 L 243.175781 242.429688 Z \"/>\n",
       "<path style=\"fill-rule:nonzero;fill:rgb(74.509804%,74.509804%,74.509804%);fill-opacity:1;stroke-width:1.422638;stroke-linecap:butt;stroke-linejoin:round;stroke:rgb(0%,0%,0%);stroke-opacity:1;stroke-miterlimit:10;\" d=\"M 252.886719 242.394531 L 262.597656 242.394531 L 262.597656 242.425781 L 252.886719 242.425781 Z \"/>\n",
       "<path style=\"fill-rule:nonzero;fill:rgb(74.509804%,74.509804%,74.509804%);fill-opacity:1;stroke-width:1.422638;stroke-linecap:butt;stroke-linejoin:round;stroke:rgb(0%,0%,0%);stroke-opacity:1;stroke-miterlimit:10;\" d=\"M 262.597656 242.421875 L 272.308594 242.421875 L 272.308594 242.425781 L 262.597656 242.425781 Z \"/>\n",
       "<g clip-path=\"url(#clip18)\" clip-rule=\"nonzero\">\n",
       "<path style=\"fill:none;stroke-width:1.422638;stroke-linecap:round;stroke-linejoin:round;stroke:rgb(49.803922%,49.803922%,49.803922%);stroke-opacity:1;stroke-miterlimit:10;\" d=\"M 68.371094 24.011719 L 282.023438 24.011719 L 282.023438 252.832031 L 68.371094 252.832031 Z \"/>\n",
       "</g>\n",
       "<g style=\"fill:rgb(0%,0%,0%);fill-opacity:1;\">\n",
       "  <use xlink:href=\"#glyph0-1\" x=\"28.855469\" y=\"191.792969\"/>\n",
       "  <use xlink:href=\"#glyph0-2\" x=\"35.154297\" y=\"191.792969\"/>\n",
       "  <use xlink:href=\"#glyph0-3\" x=\"41.453125\" y=\"191.792969\"/>\n",
       "  <use xlink:href=\"#glyph0-2\" x=\"44.094727\" y=\"191.792969\"/>\n",
       "  <use xlink:href=\"#glyph0-2\" x=\"50.393555\" y=\"191.792969\"/>\n",
       "  <use xlink:href=\"#glyph0-2\" x=\"56.692383\" y=\"191.792969\"/>\n",
       "</g>\n",
       "<g style=\"fill:rgb(0%,0%,0%);fill-opacity:1;\">\n",
       "  <use xlink:href=\"#glyph0-4\" x=\"22.558594\" y=\"83.289062\"/>\n",
       "  <use xlink:href=\"#glyph0-1\" x=\"28.857422\" y=\"83.289062\"/>\n",
       "  <use xlink:href=\"#glyph0-2\" x=\"35.15625\" y=\"83.289062\"/>\n",
       "  <use xlink:href=\"#glyph0-3\" x=\"41.455078\" y=\"83.289062\"/>\n",
       "  <use xlink:href=\"#glyph0-2\" x=\"44.09668\" y=\"83.289062\"/>\n",
       "  <use xlink:href=\"#glyph0-2\" x=\"50.395508\" y=\"83.289062\"/>\n",
       "  <use xlink:href=\"#glyph0-2\" x=\"56.694336\" y=\"83.289062\"/>\n",
       "</g>\n",
       "<path style=\"fill:none;stroke-width:1.422638;stroke-linecap:butt;stroke-linejoin:round;stroke:rgb(0%,0%,0%);stroke-opacity:1;stroke-miterlimit:10;\" d=\"M 65.382812 188.175781 L 68.371094 188.175781 \"/>\n",
       "<path style=\"fill:none;stroke-width:1.422638;stroke-linecap:butt;stroke-linejoin:round;stroke:rgb(0%,0%,0%);stroke-opacity:1;stroke-miterlimit:10;\" d=\"M 65.382812 79.671875 L 68.371094 79.671875 \"/>\n",
       "<path style=\"fill:none;stroke-width:1.422638;stroke-linecap:butt;stroke-linejoin:round;stroke:rgb(0%,0%,0%);stroke-opacity:1;stroke-miterlimit:10;\" d=\"M 97.503906 255.816406 L 97.503906 252.828125 \"/>\n",
       "<path style=\"fill:none;stroke-width:1.422638;stroke-linecap:butt;stroke-linejoin:round;stroke:rgb(0%,0%,0%);stroke-opacity:1;stroke-miterlimit:10;\" d=\"M 136.351562 255.816406 L 136.351562 252.828125 \"/>\n",
       "<path style=\"fill:none;stroke-width:1.422638;stroke-linecap:butt;stroke-linejoin:round;stroke:rgb(0%,0%,0%);stroke-opacity:1;stroke-miterlimit:10;\" d=\"M 175.195312 255.816406 L 175.195312 252.828125 \"/>\n",
       "<path style=\"fill:none;stroke-width:1.422638;stroke-linecap:butt;stroke-linejoin:round;stroke:rgb(0%,0%,0%);stroke-opacity:1;stroke-miterlimit:10;\" d=\"M 214.042969 255.816406 L 214.042969 252.828125 \"/>\n",
       "<path style=\"fill:none;stroke-width:1.422638;stroke-linecap:butt;stroke-linejoin:round;stroke:rgb(0%,0%,0%);stroke-opacity:1;stroke-miterlimit:10;\" d=\"M 252.886719 255.816406 L 252.886719 252.828125 \"/>\n",
       "<g style=\"fill:rgb(0%,0%,0%);fill-opacity:1;\">\n",
       "  <use xlink:href=\"#glyph0-5\" x=\"92.566406\" y=\"265.441406\"/>\n",
       "  <use xlink:href=\"#glyph0-6\" x=\"96.145508\" y=\"265.441406\"/>\n",
       "</g>\n",
       "<g style=\"fill:rgb(0%,0%,0%);fill-opacity:1;\">\n",
       "  <use xlink:href=\"#glyph0-5\" x=\"131.414062\" y=\"265.441406\"/>\n",
       "  <use xlink:href=\"#glyph0-7\" x=\"134.993164\" y=\"265.441406\"/>\n",
       "</g>\n",
       "<g style=\"fill:rgb(0%,0%,0%);fill-opacity:1;\">\n",
       "  <use xlink:href=\"#glyph0-2\" x=\"172.046875\" y=\"265.441406\"/>\n",
       "</g>\n",
       "<g style=\"fill:rgb(0%,0%,0%);fill-opacity:1;\">\n",
       "  <use xlink:href=\"#glyph0-7\" x=\"210.894531\" y=\"265.441406\"/>\n",
       "</g>\n",
       "<g style=\"fill:rgb(0%,0%,0%);fill-opacity:1;\">\n",
       "  <use xlink:href=\"#glyph0-6\" x=\"249.738281\" y=\"265.441406\"/>\n",
       "</g>\n",
       "<g style=\"fill:rgb(0%,0%,0%);fill-opacity:1;\">\n",
       "  <use xlink:href=\"#glyph1-1\" x=\"172.019531\" y=\"279.632812\"/>\n",
       "</g>\n",
       "<g style=\"fill:rgb(0%,0%,0%);fill-opacity:1;\">\n",
       "  <use xlink:href=\"#glyph2-1\" x=\"17.773438\" y=\"170.566406\"/>\n",
       "  <use xlink:href=\"#glyph2-2\" x=\"17.773438\" y=\"163.133301\"/>\n",
       "  <use xlink:href=\"#glyph2-3\" x=\"17.773438\" y=\"158.321777\"/>\n",
       "  <use xlink:href=\"#glyph2-4\" x=\"17.773438\" y=\"150.926758\"/>\n",
       "  <use xlink:href=\"#glyph2-5\" x=\"17.773438\" y=\"142.839844\"/>\n",
       "  <use xlink:href=\"#glyph2-3\" x=\"17.773438\" y=\"134.987793\"/>\n",
       "  <use xlink:href=\"#glyph2-6\" x=\"17.773438\" y=\"127.592773\"/>\n",
       "  <use xlink:href=\"#glyph2-7\" x=\"17.773438\" y=\"119.740723\"/>\n",
       "  <use xlink:href=\"#glyph2-8\" x=\"17.773438\" y=\"112.669434\"/>\n",
       "</g>\n",
       "<g style=\"fill:rgb(0%,0%,0%);fill-opacity:1;\">\n",
       "  <use xlink:href=\"#glyph3-1\" x=\"115.195312\" y=\"16.835938\"/>\n",
       "  <use xlink:href=\"#glyph3-2\" x=\"130.195312\" y=\"16.835938\"/>\n",
       "  <use xlink:href=\"#glyph3-3\" x=\"145.195312\" y=\"16.835938\"/>\n",
       "  <use xlink:href=\"#glyph3-4\" x=\"160.195312\" y=\"16.835938\"/>\n",
       "  <use xlink:href=\"#glyph3-5\" x=\"175.195312\" y=\"16.835938\"/>\n",
       "  <use xlink:href=\"#glyph3-6\" x=\"190.195312\" y=\"16.835938\"/>\n",
       "  <use xlink:href=\"#glyph3-7\" x=\"205.195312\" y=\"16.835938\"/>\n",
       "  <use xlink:href=\"#glyph3-8\" x=\"220.195312\" y=\"16.835938\"/>\n",
       "</g>\n",
       "</g>\n",
       "</svg>\n"
      ],
      "text/plain": [
       "plot without title"
      ]
     },
     "metadata": {
      "image/svg+xml": {
       "isolated": true
      }
     },
     "output_type": "display_data"
    }
   ],
   "source": [
    "Cairo(type = \"raster\")\n",
    "CairoFonts(regular = \"IPAexGothic\") # Mac\n",
    "ggplot(data.frame(x = x), aes(x = x)) + \n",
    "    geom_histogram(binwidth = 0.5, boundary = 0.5, fill = \"gray\", colour = \"black\") + \n",
    "    theme_bw() + \n",
    "    theme(plot.title = element_text(family = \"IPAexGothic\")) + # Win\n",
    "    scale_x_continuous(breaks = seq(-4, 4, 2)) + \n",
    "    scale_y_continuous(labels = scales::comma, breaks = c(50000, 150000)) + \n",
    "    ylab(\"Frequency\") + \n",
    "    labs(title = \"ヒストグラムの例\")\n",
    "dev.off()"
   ]
  },
  {
   "cell_type": "markdown",
   "metadata": {},
   "source": [
    "## 1.8 パッケージの例: Excelファイルを読む"
   ]
  },
  {
   "cell_type": "code",
   "execution_count": 33,
   "metadata": {
    "collapsed": false
   },
   "outputs": [
    {
     "name": "stderr",
     "output_type": "stream",
     "text": [
      "Warning message:\n",
      ": package ‘readxl’ was built under R version 3.2.4"
     ]
    }
   ],
   "source": [
    "library(readxl)"
   ]
  },
  {
   "cell_type": "code",
   "execution_count": 34,
   "metadata": {
    "collapsed": false
   },
   "outputs": [
    {
     "name": "stdout",
     "output_type": "stream",
     "text": [
      "Classes ‘tbl_df’, ‘tbl’ and 'data.frame':\t5 obs. of  3 variables:\n",
      " $ Num : num  1 2 3 4 5\n",
      " $ Text: chr  \"A\" \"B\" \"C\" \"D\" ...\n",
      " $ Date: POSIXct, format: \"2016-01-01\" \"2016-02-01\" ...\n"
     ]
    }
   ],
   "source": [
    "d <- read_excel(\"test.xlsx\")\n",
    "str(d)"
   ]
  },
  {
   "cell_type": "code",
   "execution_count": 37,
   "metadata": {
    "collapsed": false
   },
   "outputs": [
    {
     "name": "stdout",
     "output_type": "stream",
     "text": [
      "  Num Text       Date\n",
      "1   1    A 2016-01-01\n",
      "2   2    B 2016-02-01\n",
      "3   3    C 2016-03-01\n",
      "4   4    D 2016-04-01\n",
      "5   5    E 2016-05-01\n"
     ]
    }
   ],
   "source": [
    "print(d)"
   ]
  },
  {
   "cell_type": "code",
   "execution_count": 38,
   "metadata": {
    "collapsed": false
   },
   "outputs": [
    {
     "name": "stderr",
     "output_type": "stream",
     "text": [
      "Session info -------------------------------------------------------------------\n",
      "Packages -----------------------------------------------------------------------\n",
      "Session info -------------------------------------------------------------------\n",
      "Packages -----------------------------------------------------------------------\n"
     ]
    },
    {
     "data": {
      "text/plain": [
       " setting  value                       \n",
       " version  R version 3.2.3 (2015-12-10)\n",
       " system   x86_64, darwin13.4.0        \n",
       " ui       X11                         \n",
       " language (EN)                        \n",
       " collate  ja_JP.UTF-8                 \n",
       " tz       Asia/Tokyo                  \n",
       " date     2016-09-23                  \n",
       "\n",
       " package    * version date       source        \n",
       " base64enc    0.1-3   2015-07-28 CRAN (R 3.2.0)\n",
       " Cairo      * 1.5-9   2015-09-26 CRAN (R 3.2.0)\n",
       " colorspace   1.2-6   2015-03-11 CRAN (R 3.2.0)\n",
       " devtools     1.11.1  2016-04-21 CRAN (R 3.2.5)\n",
       " digest       0.6.9   2016-01-08 CRAN (R 3.2.2)\n",
       " evaluate     0.9     2016-04-29 CRAN (R 3.2.5)\n",
       " ggplot2    * 2.1.0   2016-03-01 CRAN (R 3.2.4)\n",
       " gtable       0.2.0   2016-02-26 CRAN (R 3.2.3)\n",
       " IRdisplay    0.3     2016-05-14 local         \n",
       " IRkernel     0.5     2016-05-14 local         \n",
       " jsonlite     0.9.20  2016-05-10 CRAN (R 3.2.5)\n",
       " labeling     0.3     2014-08-23 CRAN (R 3.2.0)\n",
       " magrittr     1.5     2014-11-22 CRAN (R 3.2.0)\n",
       " memoise      1.0.0   2016-01-29 CRAN (R 3.2.3)\n",
       " munsell      0.4.3   2016-02-13 CRAN (R 3.2.3)\n",
       " pipeR      * 0.6.1.3 2016-04-04 CRAN (R 3.2.4)\n",
       " plyr         1.8.3   2015-06-12 CRAN (R 3.2.0)\n",
       " Rcpp         0.12.4  2016-03-26 CRAN (R 3.2.4)\n",
       " readxl     * 0.1.1   2016-03-28 CRAN (R 3.2.4)\n",
       " repr         0.7     2016-05-13 CRAN (R 3.2.3)\n",
       " rzmq         0.7.7   2016-05-14 local         \n",
       " scales       0.4.0   2016-02-26 CRAN (R 3.2.3)\n",
       " stringi      1.0-1   2015-10-22 CRAN (R 3.2.0)\n",
       " stringr      1.0.0   2015-04-30 CRAN (R 3.2.0)\n",
       " uuid         0.1-2   2015-07-28 CRAN (R 3.2.0)\n",
       " withr        1.0.1   2016-02-04 CRAN (R 3.2.3)"
      ]
     },
     "execution_count": 38,
     "metadata": {},
     "output_type": "execute_result"
    }
   ],
   "source": [
    "devtools::session_info()"
   ]
  }
 ],
 "metadata": {
  "kernelspec": {
   "display_name": "R",
   "language": "R",
   "name": "ir"
  },
  "language_info": {
   "codemirror_mode": "r",
   "file_extension": ".r",
   "mimetype": "text/x-r-source",
   "name": "R",
   "pygments_lexer": "r",
   "version": "3.2.3"
  }
 },
 "nbformat": 4,
 "nbformat_minor": 0
}
