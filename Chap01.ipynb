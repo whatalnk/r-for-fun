{
 "cells": [
  {
   "cell_type": "markdown",
   "metadata": {},
   "source": [
    "# Chapter 1 Rで遊ぶ\n",
    "## 1.2 簡単な計算"
   ]
  },
  {
   "cell_type": "code",
   "execution_count": 1,
   "metadata": {
    "collapsed": false
   },
   "outputs": [
    {
     "data": {
      "text/html": [
       "579"
      ],
      "text/latex": [
       "579"
      ],
      "text/markdown": [
       "579"
      ],
      "text/plain": [
       "[1] 579"
      ]
     },
     "execution_count": 1,
     "metadata": {},
     "output_type": "execute_result"
    }
   ],
   "source": [
    "123 + 456"
   ]
  },
  {
   "cell_type": "code",
   "execution_count": 2,
   "metadata": {
    "collapsed": false
   },
   "outputs": [
    {
     "data": {
      "text/html": [
       "56086.9876923077"
      ],
      "text/latex": [
       "56086.9876923077"
      ],
      "text/markdown": [
       "56086.9876923077"
      ],
      "text/plain": [
       "[1] 56086.99"
      ]
     },
     "execution_count": 2,
     "metadata": {},
     "output_type": "execute_result"
    }
   ],
   "source": [
    "123 * 456 - 987 / (654 + 321)"
   ]
  },
  {
   "cell_type": "code",
   "execution_count": 3,
   "metadata": {
    "collapsed": false
   },
   "outputs": [
    {
     "data": {
      "text/html": [
       "3.14159265358979"
      ],
      "text/latex": [
       "3.14159265358979"
      ],
      "text/markdown": [
       "3.14159265358979"
      ],
      "text/plain": [
       "[1] 3.141593"
      ]
     },
     "execution_count": 3,
     "metadata": {},
     "output_type": "execute_result"
    }
   ],
   "source": [
    "pi"
   ]
  },
  {
   "cell_type": "code",
   "execution_count": 4,
   "metadata": {
    "collapsed": false
   },
   "outputs": [
    {
     "name": "stdout",
     "output_type": "stream",
     "text": [
      "[1] 3.141593\n"
     ]
    }
   ],
   "source": [
    "print(pi)"
   ]
  },
  {
   "cell_type": "code",
   "execution_count": 5,
   "metadata": {
    "collapsed": false
   },
   "outputs": [
    {
     "name": "stdout",
     "output_type": "stream",
     "text": [
      "[1] 3.141592653589793\n"
     ]
    }
   ],
   "source": [
    "print(pi, digits = 16)"
   ]
  },
  {
   "cell_type": "code",
   "execution_count": 6,
   "metadata": {
    "collapsed": false
   },
   "outputs": [
    {
     "data": {
      "text/html": [
       "12345"
      ],
      "text/latex": [
       "12345"
      ],
      "text/markdown": [
       "12345"
      ],
      "text/plain": [
       "[1] 12345"
      ]
     },
     "execution_count": 6,
     "metadata": {},
     "output_type": "execute_result"
    }
   ],
   "source": [
    "x <- 12345\n",
    "x"
   ]
  },
  {
   "cell_type": "code",
   "execution_count": 7,
   "metadata": {
    "collapsed": false
   },
   "outputs": [
    {
     "name": "stdout",
     "output_type": "stream",
     "text": [
      "[1] 3.141593\n",
      "[1] 3\n",
      "[1] 3.141593\n"
     ]
    }
   ],
   "source": [
    "print(pi)\n",
    "pi <- 3\n",
    "print(pi)\n",
    "rm(pi)\n",
    "print(pi)"
   ]
  },
  {
   "cell_type": "code",
   "execution_count": 8,
   "metadata": {
    "collapsed": false
   },
   "outputs": [
    {
     "data": {
      "text/html": [
       "2.71828182845905"
      ],
      "text/latex": [
       "2.71828182845905"
      ],
      "text/markdown": [
       "2.71828182845905"
      ],
      "text/plain": [
       "[1] 2.718282"
      ]
     },
     "execution_count": 8,
     "metadata": {},
     "output_type": "execute_result"
    }
   ],
   "source": [
    "exp(1)"
   ]
  },
  {
   "cell_type": "markdown",
   "metadata": {},
   "source": [
    "## 1.4 データの入力"
   ]
  },
  {
   "cell_type": "code",
   "execution_count": 9,
   "metadata": {
    "collapsed": true
   },
   "outputs": [],
   "source": [
    "height <- c(168.5, 172.8, 159.0)\n",
    "weight <- c(69.5, 75.0, 56.5)"
   ]
  },
  {
   "cell_type": "code",
   "execution_count": 10,
   "metadata": {
    "collapsed": false
   },
   "outputs": [
    {
     "data": {
      "text/html": [
       "<ol class=list-inline>\n",
       "\t<li>24.4785108612385</li>\n",
       "\t<li>25.1173482510288</li>\n",
       "\t<li>22.3487994936909</li>\n",
       "</ol>\n"
      ],
      "text/latex": [
       "\\begin{enumerate*}\n",
       "\\item 24.4785108612385\n",
       "\\item 25.1173482510288\n",
       "\\item 22.3487994936909\n",
       "\\end{enumerate*}\n"
      ],
      "text/markdown": [
       "1. 24.4785108612385\n",
       "2. 25.1173482510288\n",
       "3. 22.3487994936909\n",
       "\n",
       "\n"
      ],
      "text/plain": [
       "[1] 24.47851 25.11735 22.34880"
      ]
     },
     "execution_count": 10,
     "metadata": {},
     "output_type": "execute_result"
    }
   ],
   "source": [
    "weight / (height / 100)^2"
   ]
  },
  {
   "cell_type": "code",
   "execution_count": 11,
   "metadata": {
    "collapsed": false
   },
   "outputs": [
    {
     "name": "stderr",
     "output_type": "stream",
     "text": [
      "Warning message:\n",
      ": package ‘pipeR’ was built under R version 3.2.4"
     ]
    }
   ],
   "source": [
    "library(pipeR)"
   ]
  },
  {
   "cell_type": "code",
   "execution_count": 12,
   "metadata": {
    "collapsed": false
   },
   "outputs": [
    {
     "data": {
      "text/html": [
       "<ol class=list-inline>\n",
       "\t<li>24</li>\n",
       "\t<li>25</li>\n",
       "\t<li>22</li>\n",
       "</ol>\n"
      ],
      "text/latex": [
       "\\begin{enumerate*}\n",
       "\\item 24\n",
       "\\item 25\n",
       "\\item 22\n",
       "\\end{enumerate*}\n"
      ],
      "text/markdown": [
       "1. 24\n",
       "2. 25\n",
       "3. 22\n",
       "\n",
       "\n"
      ],
      "text/plain": [
       "[1] 24 25 22"
      ]
     },
     "execution_count": 12,
     "metadata": {},
     "output_type": "execute_result"
    }
   ],
   "source": [
    "(weight / (height / 100)^2) %>>% round"
   ]
  },
  {
   "cell_type": "code",
   "execution_count": 13,
   "metadata": {
    "collapsed": false
   },
   "outputs": [
    {
     "data": {
      "text/html": [
       "<ol class=list-inline>\n",
       "\t<li>24.5</li>\n",
       "\t<li>25.1</li>\n",
       "\t<li>22.3</li>\n",
       "</ol>\n"
      ],
      "text/latex": [
       "\\begin{enumerate*}\n",
       "\\item 24.5\n",
       "\\item 25.1\n",
       "\\item 22.3\n",
       "\\end{enumerate*}\n"
      ],
      "text/markdown": [
       "1. 24.5\n",
       "2. 25.1\n",
       "3. 22.3\n",
       "\n",
       "\n"
      ],
      "text/plain": [
       "[1] 24.5 25.1 22.3"
      ]
     },
     "execution_count": 13,
     "metadata": {},
     "output_type": "execute_result"
    }
   ],
   "source": [
    "(weight / (height / 100)^2) %>>% round(1)"
   ]
  },
  {
   "cell_type": "markdown",
   "metadata": {},
   "source": [
    "## 1.5 データフレーム"
   ]
  },
  {
   "cell_type": "code",
   "execution_count": 14,
   "metadata": {
    "collapsed": false
   },
   "outputs": [
    {
     "data": {
      "text/html": [
       "<table>\n",
       "<thead><tr><th></th><th scope=col>height</th><th scope=col>weight</th></tr></thead>\n",
       "<tbody>\n",
       "\t<tr><th scope=row>1</th><td>168.5</td><td> 69.5</td></tr>\n",
       "\t<tr><th scope=row>2</th><td>172.8</td><td> 75.0</td></tr>\n",
       "\t<tr><th scope=row>3</th><td>159.0</td><td> 56.5</td></tr>\n",
       "</tbody>\n",
       "</table>\n"
      ],
      "text/latex": [
       "\\begin{tabular}{r|ll}\n",
       "  & height & weight\\\\\n",
       "\\hline\n",
       "\t1 & 168.5 &  69.5\\\\\n",
       "\t2 & 172.8 &  75.0\\\\\n",
       "\t3 & 159.0 &  56.5\\\\\n",
       "\\end{tabular}\n"
      ],
      "text/plain": [
       "  height weight\n",
       "1  168.5   69.5\n",
       "2  172.8   75.0\n",
       "3  159.0   56.5"
      ]
     },
     "execution_count": 14,
     "metadata": {},
     "output_type": "execute_result"
    }
   ],
   "source": [
    "X <- data.frame(height, weight)\n",
    "X"
   ]
  },
  {
   "cell_type": "code",
   "execution_count": 15,
   "metadata": {
    "collapsed": false
   },
   "outputs": [
    {
     "data": {
      "text/html": [
       "<ol class=list-inline>\n",
       "\t<li>168.5</li>\n",
       "\t<li>172.8</li>\n",
       "\t<li>159</li>\n",
       "</ol>\n"
      ],
      "text/latex": [
       "\\begin{enumerate*}\n",
       "\\item 168.5\n",
       "\\item 172.8\n",
       "\\item 159\n",
       "\\end{enumerate*}\n"
      ],
      "text/markdown": [
       "1. 168.5\n",
       "2. 172.8\n",
       "3. 159\n",
       "\n",
       "\n"
      ],
      "text/plain": [
       "[1] 168.5 172.8 159.0"
      ]
     },
     "execution_count": 15,
     "metadata": {},
     "output_type": "execute_result"
    }
   ],
   "source": [
    "X$height"
   ]
  },
  {
   "cell_type": "code",
   "execution_count": 16,
   "metadata": {
    "collapsed": false
   },
   "outputs": [
    {
     "data": {
      "text/html": [
       "<table>\n",
       "<thead><tr><th></th><th scope=col>height</th><th scope=col>weight</th><th scope=col>sex</th></tr></thead>\n",
       "<tbody>\n",
       "\t<tr><th scope=row>1</th><td>168.5</td><td>69.5 </td><td>M    </td></tr>\n",
       "\t<tr><th scope=row>2</th><td>172.8</td><td>75   </td><td>M    </td></tr>\n",
       "\t<tr><th scope=row>3</th><td>159 </td><td>56.5</td><td>F   </td></tr>\n",
       "</tbody>\n",
       "</table>\n"
      ],
      "text/latex": [
       "\\begin{tabular}{r|lll}\n",
       "  & height & weight & sex\\\\\n",
       "\\hline\n",
       "\t1 & 168.5 & 69.5  & M    \\\\\n",
       "\t2 & 172.8 & 75    & M    \\\\\n",
       "\t3 & 159  & 56.5 & F   \\\\\n",
       "\\end{tabular}\n"
      ],
      "text/plain": [
       "  height weight sex\n",
       "1  168.5   69.5   M\n",
       "2  172.8   75.0   M\n",
       "3  159.0   56.5   F"
      ]
     },
     "execution_count": 16,
     "metadata": {},
     "output_type": "execute_result"
    }
   ],
   "source": [
    "X$sex <- c(\"M\", \"M\", \"F\")\n",
    "X"
   ]
  },
  {
   "cell_type": "code",
   "execution_count": 17,
   "metadata": {
    "collapsed": false
   },
   "outputs": [
    {
     "data": {
      "text/html": [
       "<table>\n",
       "<thead><tr><th></th><th scope=col>height</th><th scope=col>weight</th><th scope=col>sex</th><th scope=col>BMI</th></tr></thead>\n",
       "<tbody>\n",
       "\t<tr><th scope=row>1</th><td>168.5</td><td>69.5 </td><td>M    </td><td>24   </td></tr>\n",
       "\t<tr><th scope=row>2</th><td>172.8</td><td>75   </td><td>M    </td><td>25   </td></tr>\n",
       "\t<tr><th scope=row>3</th><td>159 </td><td>56.5</td><td>F   </td><td>22  </td></tr>\n",
       "</tbody>\n",
       "</table>\n"
      ],
      "text/latex": [
       "\\begin{tabular}{r|llll}\n",
       "  & height & weight & sex & BMI\\\\\n",
       "\\hline\n",
       "\t1 & 168.5 & 69.5  & M     & 24   \\\\\n",
       "\t2 & 172.8 & 75    & M     & 25   \\\\\n",
       "\t3 & 159  & 56.5 & F    & 22  \\\\\n",
       "\\end{tabular}\n"
      ],
      "text/plain": [
       "  height weight sex BMI\n",
       "1  168.5   69.5   M  24\n",
       "2  172.8   75.0   M  25\n",
       "3  159.0   56.5   F  22"
      ]
     },
     "execution_count": 17,
     "metadata": {},
     "output_type": "execute_result"
    }
   ],
   "source": [
    "X$BMI <- with(weight / (height / 100)^2, data = X) %>>% round(0)\n",
    "X"
   ]
  },
  {
   "cell_type": "markdown",
   "metadata": {},
   "source": [
    "## 1.6 ファイルの読み書きと文字コード"
   ]
  },
  {
   "cell_type": "code",
   "execution_count": 18,
   "metadata": {
    "collapsed": false,
    "scrolled": true
   },
   "outputs": [
    {
     "data": {
      "text/html": [
       "'Chap01.ipynb'"
      ],
      "text/latex": [
       "'Chap01.ipynb'"
      ],
      "text/markdown": [
       "'Chap01.ipynb'"
      ],
      "text/plain": [
       "[1] \"Chap01.ipynb\""
      ]
     },
     "execution_count": 18,
     "metadata": {},
     "output_type": "execute_result"
    }
   ],
   "source": [
    "dir(\".\")"
   ]
  },
  {
   "cell_type": "code",
   "execution_count": 19,
   "metadata": {
    "collapsed": true
   },
   "outputs": [],
   "source": [
    "write.csv(X, \"X.csv\", quote = FALSE, row.names = FALSE, fileEncoding = \"UTF-8\", eol = \"\\r\\n\")"
   ]
  },
  {
   "cell_type": "code",
   "execution_count": 20,
   "metadata": {
    "collapsed": false
   },
   "outputs": [
    {
     "data": {
      "text/html": [
       "<ol class=list-inline>\n",
       "\t<li>'Chap01.ipynb'</li>\n",
       "\t<li>'X.csv'</li>\n",
       "</ol>\n"
      ],
      "text/latex": [
       "\\begin{enumerate*}\n",
       "\\item 'Chap01.ipynb'\n",
       "\\item 'X.csv'\n",
       "\\end{enumerate*}\n"
      ],
      "text/markdown": [
       "1. 'Chap01.ipynb'\n",
       "2. 'X.csv'\n",
       "\n",
       "\n"
      ],
      "text/plain": [
       "[1] \"Chap01.ipynb\" \"X.csv\"       "
      ]
     },
     "execution_count": 20,
     "metadata": {},
     "output_type": "execute_result"
    }
   ],
   "source": [
    "dir(\".\")"
   ]
  },
  {
   "cell_type": "code",
   "execution_count": 21,
   "metadata": {
    "collapsed": false
   },
   "outputs": [
    {
     "data": {
      "text/html": [
       "<table>\n",
       "<thead><tr><th></th><th scope=col>height</th><th scope=col>weight</th><th scope=col>sex</th><th scope=col>BMI</th></tr></thead>\n",
       "<tbody>\n",
       "\t<tr><th scope=row>1</th><td>168.5</td><td>69.5 </td><td>M    </td><td>24   </td></tr>\n",
       "\t<tr><th scope=row>2</th><td>172.8</td><td>75   </td><td>M    </td><td>25   </td></tr>\n",
       "\t<tr><th scope=row>3</th><td>159 </td><td>56.5</td><td>F   </td><td>22  </td></tr>\n",
       "</tbody>\n",
       "</table>\n"
      ],
      "text/latex": [
       "\\begin{tabular}{r|llll}\n",
       "  & height & weight & sex & BMI\\\\\n",
       "\\hline\n",
       "\t1 & 168.5 & 69.5  & M     & 24   \\\\\n",
       "\t2 & 172.8 & 75    & M     & 25   \\\\\n",
       "\t3 & 159  & 56.5 & F    & 22  \\\\\n",
       "\\end{tabular}\n"
      ],
      "text/plain": [
       "  height weight sex BMI\n",
       "1  168.5   69.5   M  24\n",
       "2  172.8   75.0   M  25\n",
       "3  159.0   56.5   F  22"
      ]
     },
     "execution_count": 21,
     "metadata": {},
     "output_type": "execute_result"
    }
   ],
   "source": [
    "XX <- read.csv(\"X.csv\")\n",
    "XX"
   ]
  },
  {
   "cell_type": "code",
   "execution_count": 22,
   "metadata": {
    "collapsed": false
   },
   "outputs": [
    {
     "name": "stdout",
     "output_type": "stream",
     "text": [
      "'data.frame':\t191 obs. of  7 variables:\n",
      " $ Day             : Factor w/ 8 levels \"Fri\",\"Frj\",\"Mon\",..: 4 7 4 3 4 6 3 6 8 4 ...\n",
      " $ Date            : int  15 19 20 22 24 6 10 20 22 12 ...\n",
      " $ Month           : Factor w/ 12 levels \"April\",\"Aug\",..: 8 2 3 3 1 9 9 9 3 8 ...\n",
      " $ Year            : int  1851 1851 1851 1851 1852 1852 1852 1852 1852 1853 ...\n",
      " $ Day_of_year     : int  74 231 354 356 115 127 131 141 357 71 ...\n",
      " $ Interval_days   : int  NA 157 123 2 124 12 4 10 216 80 ...\n",
      " $ Number_of_deaths: int  61 35 52 13 12 22 65 36 10 10 ...\n"
     ]
    }
   ],
   "source": [
    "XXX <- read.csv(\"http://okumuralab.org/~okumura/stat/data/coal.csv\")\n",
    "str(XXX)"
   ]
  },
  {
   "cell_type": "markdown",
   "metadata": {},
   "source": [
    "## 1.7 図の描き方"
   ]
  },
  {
   "cell_type": "code",
   "execution_count": 1,
   "metadata": {
    "collapsed": false
   },
   "outputs": [
    {
     "name": "stderr",
     "output_type": "stream",
     "text": [
      "Warning message:\n",
      "“package ‘ggplot2’ was built under R version 3.2.4”"
     ]
    }
   ],
   "source": [
    "library(ggplot2)"
   ]
  },
  {
   "cell_type": "code",
   "execution_count": 2,
   "metadata": {
    "collapsed": true
   },
   "outputs": [],
   "source": [
    "options(repr.plot.height = 4, repr.plot.width = 4)"
   ]
  },
  {
   "cell_type": "code",
   "execution_count": 3,
   "metadata": {
    "collapsed": true
   },
   "outputs": [],
   "source": [
    "x <- rnorm(1000000)"
   ]
  },
  {
   "cell_type": "code",
   "execution_count": 4,
   "metadata": {
    "collapsed": false
   },
   "outputs": [
    {
     "data": {
      "image/png": "[encoded data removed]",
      "text/plain": [
       "Plot with title “Histogram of x”"
      ]
     },
     "metadata": {},
     "output_type": "display_data"
    }
   ],
   "source": [
    "hist(x)"
   ]
  },
  {
   "cell_type": "code",
   "execution_count": 5,
   "metadata": {
    "collapsed": true
   },
   "outputs": [],
   "source": [
    "library(\"Cairo\")"
   ]
  },
  {
   "cell_type": "code",
   "execution_count": 6,
   "metadata": {
    "collapsed": false
   },
   "outputs": [
    {
     "data": {},
     "metadata": {},
     "output_type": "display_data"
    },
    {
     "data": {
      "text/html": [
       "<strong>pdf:</strong> 2"
      ],
      "text/latex": [
       "\\textbf{pdf:} 2"
      ],
      "text/markdown": [
       "**pdf:** 2"
      ],
      "text/plain": [
       "pdf \n",
       "  2 "
      ]
     },
     "metadata": {},
     "output_type": "display_data"
    },
    {
     "data": {
      "image/png": "[encoded data removed]",
      "text/plain": [
       "plot without title"
      ]
     },
     "metadata": {},
     "output_type": "display_data"
    }
   ],
   "source": [
    "Cairo(type = \"raster\")\n",
    "CairoFonts(regular = \"IPAexGothic\") # Mac\n",
    "ggplot(data.frame(x = x), aes(x = x)) + \n",
    "    geom_histogram(binwidth = 0.5, boundary = 0.5, fill = \"gray\", colour = \"black\") + \n",
    "    theme_bw() + \n",
    "    theme(plot.title = element_text(family = \"IPAexGothic\")) + # Win\n",
    "    scale_x_continuous(breaks = seq(-4, 4, 2)) + \n",
    "    scale_y_continuous(labels = scales::comma, breaks = c(50000, 150000)) + \n",
    "    ylab(\"Frequency\") + \n",
    "    labs(title = \"ヒストグラムの例\")\n",
    "dev.off()"
   ]
  },
  {
   "cell_type": "markdown",
   "metadata": {},
   "source": [
    "## 1.8 パッケージの例: Excelファイルを読む"
   ]
  },
  {
   "cell_type": "code",
   "execution_count": 33,
   "metadata": {
    "collapsed": false
   },
   "outputs": [
    {
     "name": "stderr",
     "output_type": "stream",
     "text": [
      "Warning message:\n",
      ": package ‘readxl’ was built under R version 3.2.4"
     ]
    }
   ],
   "source": [
    "library(readxl)"
   ]
  },
  {
   "cell_type": "code",
   "execution_count": 34,
   "metadata": {
    "collapsed": false
   },
   "outputs": [
    {
     "name": "stdout",
     "output_type": "stream",
     "text": [
      "Classes ‘tbl_df’, ‘tbl’ and 'data.frame':\t5 obs. of  3 variables:\n",
      " $ Num : num  1 2 3 4 5\n",
      " $ Text: chr  \"A\" \"B\" \"C\" \"D\" ...\n",
      " $ Date: POSIXct, format: \"2016-01-01\" \"2016-02-01\" ...\n"
     ]
    }
   ],
   "source": [
    "d <- read_excel(\"test.xlsx\")\n",
    "str(d)"
   ]
  },
  {
   "cell_type": "code",
   "execution_count": 37,
   "metadata": {
    "collapsed": false
   },
   "outputs": [
    {
     "name": "stdout",
     "output_type": "stream",
     "text": [
      "  Num Text       Date\n",
      "1   1    A 2016-01-01\n",
      "2   2    B 2016-02-01\n",
      "3   3    C 2016-03-01\n",
      "4   4    D 2016-04-01\n",
      "5   5    E 2016-05-01\n"
     ]
    }
   ],
   "source": [
    "print(d)"
   ]
  },
  {
   "cell_type": "code",
   "execution_count": 7,
   "metadata": {
    "collapsed": false
   },
   "outputs": [
    {
     "name": "stderr",
     "output_type": "stream",
     "text": [
      "Session info -------------------------------------------------------------------\n",
      "Packages -----------------------------------------------------------------------\n"
     ]
    },
    {
     "data": {
      "text/plain": [
       " setting  value                       \n",
       " version  R version 3.2.3 (2015-12-10)\n",
       " system   x86_64, darwin13.4.0        \n",
       " ui       X11                         \n",
       " language (EN)                        \n",
       " collate  ja_JP.UTF-8                 \n",
       " tz       Asia/Tokyo                  \n",
       " date     2016-09-23                  \n",
       "\n",
       " package    * version date       source                            \n",
       " Cairo      * 1.5-9   2015-09-26 CRAN (R 3.2.0)                    \n",
       " colorspace   1.2-6   2015-03-11 CRAN (R 3.2.0)                    \n",
       " crayon       1.3.2   2016-06-28 CRAN (R 3.2.5)                    \n",
       " devtools     1.12.0  2016-06-24 CRAN (R 3.2.5)                    \n",
       " digest       0.6.10  2016-08-02 CRAN (R 3.2.5)                    \n",
       " evaluate     0.9     2016-04-29 CRAN (R 3.2.5)                    \n",
       " ggplot2    * 2.1.0   2016-03-01 CRAN (R 3.2.4)                    \n",
       " gtable       0.2.0   2016-02-26 CRAN (R 3.2.3)                    \n",
       " IRdisplay    0.4.4   2016-08-02 CRAN (R 3.2.5)                    \n",
       " IRkernel     0.7     2016-09-22 Github (IRkernel/IRkernel@16ef3ed)\n",
       " jsonlite     1.1     2016-09-14 cran (@1.1)                       \n",
       " magrittr     1.5     2014-11-22 CRAN (R 3.2.0)                    \n",
       " memoise      1.0.0   2016-01-29 CRAN (R 3.2.3)                    \n",
       " munsell      0.4.3   2016-02-13 CRAN (R 3.2.3)                    \n",
       " pbdZMQ       0.2-4   2016-09-22 CRAN (R 3.2.3)                    \n",
       " plyr         1.8.3   2015-06-12 CRAN (R 3.2.0)                    \n",
       " R6           2.1.2   2016-01-26 CRAN (R 3.2.3)                    \n",
       " Rcpp         0.12.4  2016-03-26 CRAN (R 3.2.4)                    \n",
       " repr         0.9     2016-07-24 CRAN (R 3.2.5)                    \n",
       " scales       0.4.0   2016-02-26 CRAN (R 3.2.3)                    \n",
       " stringi      1.0-1   2015-10-22 CRAN (R 3.2.0)                    \n",
       " stringr      1.0.0   2015-04-30 CRAN (R 3.2.0)                    \n",
       " uuid         0.1-2   2015-07-28 CRAN (R 3.2.0)                    \n",
       " withr        1.0.1   2016-02-04 CRAN (R 3.2.3)                    "
      ]
     },
     "metadata": {},
     "output_type": "display_data"
    }
   ],
   "source": [
    "devtools::session_info()"
   ]
  }
 ],
 "metadata": {
  "kernelspec": {
   "display_name": "R 3.3",
   "language": "R",
   "name": "ir33"
  },
  "language_info": {
   "codemirror_mode": "r",
   "file_extension": ".r",
   "mimetype": "text/x-r-source",
   "name": "R",
   "pygments_lexer": "r",
   "version": "3.3.0"
  }
 },
 "nbformat": 4,
 "nbformat_minor": 0
}
