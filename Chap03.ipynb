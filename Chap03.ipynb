{
 "cells": [
  {
   "cell_type": "markdown",
   "metadata": {},
   "source": [
    "# Chapter 3 2項分布，検定，信頼区間\n",
    "## 3.1 2項分布"
   ]
  },
  {
   "cell_type": "markdown",
   "metadata": {},
   "source": [
    "${}_{10}\\mathrm{C}_3$"
   ]
  },
  {
   "cell_type": "code",
   "execution_count": 1,
   "metadata": {
    "collapsed": false
   },
   "outputs": [
    {
     "data": {
      "text/html": [
       "120"
      ],
      "text/latex": [
       "120"
      ],
      "text/markdown": [
       "120"
      ],
      "text/plain": [
       "[1] 120"
      ]
     },
     "metadata": {},
     "output_type": "display_data"
    }
   ],
   "source": [
    "factorial(10) / (factorial(3) * factorial(7))"
   ]
  },
  {
   "cell_type": "code",
   "execution_count": 2,
   "metadata": {
    "collapsed": false
   },
   "outputs": [
    {
     "data": {
      "text/html": [
       "120"
      ],
      "text/latex": [
       "120"
      ],
      "text/markdown": [
       "120"
      ],
      "text/plain": [
       "[1] 120"
      ]
     },
     "metadata": {},
     "output_type": "display_data"
    }
   ],
   "source": [
    "choose(10, 3)"
   ]
  },
  {
   "cell_type": "code",
   "execution_count": 3,
   "metadata": {
    "collapsed": false
   },
   "outputs": [
    {
     "data": {
      "text/html": [
       "0.214990848"
      ],
      "text/latex": [
       "0.214990848"
      ],
      "text/markdown": [
       "0.214990848"
      ],
      "text/plain": [
       "[1] 0.2149908"
      ]
     },
     "metadata": {},
     "output_type": "display_data"
    }
   ],
   "source": [
    "choose(10, 3) * 0.4^3 * 0.6^7"
   ]
  },
  {
   "cell_type": "code",
   "execution_count": 4,
   "metadata": {
    "collapsed": false
   },
   "outputs": [
    {
     "data": {
      "text/html": [
       "0.214990848"
      ],
      "text/latex": [
       "0.214990848"
      ],
      "text/markdown": [
       "0.214990848"
      ],
      "text/plain": [
       "[1] 0.2149908"
      ]
     },
     "metadata": {},
     "output_type": "display_data"
    }
   ],
   "source": [
    "dbinom(3, 10, 0.4)"
   ]
  },
  {
   "cell_type": "code",
   "execution_count": 5,
   "metadata": {
    "collapsed": false
   },
   "outputs": [
    {
     "data": {
      "text/html": [
       "<ol class=list-inline>\n",
       "\t<li>0.0009765625</li>\n",
       "\t<li>0.009765625</li>\n",
       "\t<li>0.0439453125</li>\n",
       "\t<li>0.1171875</li>\n",
       "\t<li>0.205078125</li>\n",
       "\t<li>0.24609375</li>\n",
       "\t<li>0.205078125</li>\n",
       "\t<li>0.1171875</li>\n",
       "\t<li>0.0439453125</li>\n",
       "\t<li>0.009765625</li>\n",
       "\t<li>0.0009765625</li>\n",
       "</ol>\n"
      ],
      "text/latex": [
       "\\begin{enumerate*}\n",
       "\\item 0.0009765625\n",
       "\\item 0.009765625\n",
       "\\item 0.0439453125\n",
       "\\item 0.1171875\n",
       "\\item 0.205078125\n",
       "\\item 0.24609375\n",
       "\\item 0.205078125\n",
       "\\item 0.1171875\n",
       "\\item 0.0439453125\n",
       "\\item 0.009765625\n",
       "\\item 0.0009765625\n",
       "\\end{enumerate*}\n"
      ],
      "text/markdown": [
       "1. 0.0009765625\n",
       "2. 0.009765625\n",
       "3. 0.0439453125\n",
       "4. 0.1171875\n",
       "5. 0.205078125\n",
       "6. 0.24609375\n",
       "7. 0.205078125\n",
       "8. 0.1171875\n",
       "9. 0.0439453125\n",
       "10. 0.009765625\n",
       "11. 0.0009765625\n",
       "\n",
       "\n"
      ],
      "text/plain": [
       " [1] 0.0009765625 0.0097656250 0.0439453125 0.1171875000 0.2050781250\n",
       " [6] 0.2460937500 0.2050781250 0.1171875000 0.0439453125 0.0097656250\n",
       "[11] 0.0009765625"
      ]
     },
     "metadata": {},
     "output_type": "display_data"
    }
   ],
   "source": [
    "dbinom(0:10, 10, 0.5)"
   ]
  },
  {
   "cell_type": "code",
   "execution_count": 6,
   "metadata": {
    "collapsed": true
   },
   "outputs": [],
   "source": [
    "library(ggplot2)"
   ]
  },
  {
   "cell_type": "code",
   "execution_count": 7,
   "metadata": {
    "collapsed": true
   },
   "outputs": [],
   "source": [
    "library(pipeR)"
   ]
  },
  {
   "cell_type": "code",
   "execution_count": 9,
   "metadata": {
    "collapsed": true
   },
   "outputs": [],
   "source": [
    "options(repr.plot.width = 4, repr.plot.height = 4)"
   ]
  },
  {
   "cell_type": "code",
   "execution_count": 19,
   "metadata": {
    "collapsed": true
   },
   "outputs": [],
   "source": [
    "library(Cairo)"
   ]
  },
  {
   "cell_type": "code",
   "execution_count": 20,
   "metadata": {
    "collapsed": false
   },
   "outputs": [
    {
     "data": {},
     "metadata": {},
     "output_type": "display_data"
    },
    {
     "data": {
      "text/html": [
       "<strong>png:</strong> 2"
      ],
      "text/latex": [
       "\\textbf{png:} 2"
      ],
      "text/markdown": [
       "**png:** 2"
      ],
      "text/plain": [
       "png \n",
       "  2 "
      ]
     },
     "metadata": {},
     "output_type": "display_data"
    },
    {
     "data": {
      "image/png": "[encoded data removed]",
      "text/plain": [
       "plot without title"
      ]
     },
     "metadata": {},
     "output_type": "display_data"
    }
   ],
   "source": [
    "Cairo(type = \"raster\")\n",
    "data.frame(x = c(0:10), y = dbinom(0:10, 10, 0.5)) %>>% \n",
    "    ggplot(aes(x = as.factor(x), y = y)) + \n",
    "        geom_bar(stat=\"identity\") + \n",
    "        theme_bw() + \n",
    "        xlab(\"表の回数\") + ylab(\"確率\") + \n",
    "        theme(axis.title = element_text(\"IPAexGothic\"))\n",
    "dev.off()"
   ]
  },
  {
   "cell_type": "markdown",
   "metadata": {},
   "source": [
    "## 3.2 統計的仮説検定の考え方"
   ]
  },
  {
   "cell_type": "code",
   "execution_count": 21,
   "metadata": {
    "collapsed": false
   },
   "outputs": [
    {
     "data": {
      "text/plain": [
       "\n",
       "\tExact binomial test\n",
       "\n",
       "data:  2 and 10\n",
       "number of successes = 2, number of trials = 10, p-value = 0.1094\n",
       "alternative hypothesis: true probability of success is not equal to 0.5\n",
       "95 percent confidence interval:\n",
       " 0.02521073 0.55609546\n",
       "sample estimates:\n",
       "probability of success \n",
       "                   0.2 \n"
      ]
     },
     "metadata": {},
     "output_type": "display_data"
    }
   ],
   "source": [
    "binom.test(2, 10, 0.5)"
   ]
  },
  {
   "cell_type": "code",
   "execution_count": 22,
   "metadata": {
    "collapsed": false
   },
   "outputs": [
    {
     "data": {
      "text/plain": [
       "\n",
       "\tExact binomial test\n",
       "\n",
       "data:  1 and 10\n",
       "number of successes = 1, number of trials = 10, p-value = 0.02148\n",
       "alternative hypothesis: true probability of success is not equal to 0.5\n",
       "95 percent confidence interval:\n",
       " 0.002528579 0.445016117\n",
       "sample estimates:\n",
       "probability of success \n",
       "                   0.1 \n"
      ]
     },
     "metadata": {},
     "output_type": "display_data"
    }
   ],
   "source": [
    "binom.test(1, 10, 0.5)"
   ]
  },
  {
   "cell_type": "markdown",
   "metadata": {},
   "source": [
    "## 3.3 統計的仮説検定に関する議論"
   ]
  },
  {
   "cell_type": "code",
   "execution_count": 23,
   "metadata": {
    "collapsed": false
   },
   "outputs": [
    {
     "data": {
      "text/plain": [
       "\n",
       "\tExact binomial test\n",
       "\n",
       "data:  20 and 100\n",
       "number of successes = 20, number of trials = 100, p-value = 1.116e-09\n",
       "alternative hypothesis: true probability of success is not equal to 0.5\n",
       "95 percent confidence interval:\n",
       " 0.1266556 0.2918427\n",
       "sample estimates:\n",
       "probability of success \n",
       "                   0.2 \n"
      ]
     },
     "metadata": {},
     "output_type": "display_data"
    }
   ],
   "source": [
    "binom.test(20, 100, 0.5)"
   ]
  },
  {
   "cell_type": "markdown",
   "metadata": {},
   "source": [
    "## 3.4 多重検定"
   ]
  },
  {
   "cell_type": "markdown",
   "metadata": {},
   "source": [
    "# 3.5 信頼区間"
   ]
  },
  {
   "cell_type": "code",
   "execution_count": 30,
   "metadata": {
    "collapsed": false
   },
   "outputs": [
    {
     "data": {},
     "metadata": {},
     "output_type": "display_data"
    },
    {
     "data": {
      "image/png": "[encoded data removed]",
      "text/plain": [
       "plot without title"
      ]
     },
     "metadata": {},
     "output_type": "display_data"
    }
   ],
   "source": [
    "x <- c(0:100) / 100\n",
    "y <- sapply(x, function(t){\n",
    "    binom.test(4, 10, t)$p.value\n",
    "})\n",
    "data.frame(x = x, y = y) %>>% \n",
    "    ggplot(aes(x = x, y = y)) + \n",
    "    geom_point(shape = 16) + \n",
    "    theme_bw() + \n",
    "    xlab(expression(italic(theta))) + \n",
    "    ylab(expression(italic(\"p\")))"
   ]
  },
  {
   "cell_type": "markdown",
   "metadata": {},
   "source": [
    "信頼区間: 0.1500 $\\leq$ $\\theta$ $\\leq$ 0.7091"
   ]
  },
  {
   "cell_type": "code",
   "execution_count": 31,
   "metadata": {
    "collapsed": false
   },
   "outputs": [
    {
     "data": {
      "text/html": [
       "<dl>\n",
       "\t<dt>$root</dt>\n",
       "\t\t<dd>0.15000378943299</dd>\n",
       "\t<dt>$f.root</dt>\n",
       "\t\t<dd>-2.61492888507311e-05</dd>\n",
       "\t<dt>$iter</dt>\n",
       "\t\t<dd>5</dd>\n",
       "\t<dt>$init.it</dt>\n",
       "\t\t<dd>NA</dd>\n",
       "\t<dt>$estim.prec</dt>\n",
       "\t\t<dd>6.10351562500555e-05</dd>\n",
       "</dl>\n"
      ],
      "text/latex": [
       "\\begin{description}\n",
       "\\item[\\$root] 0.15000378943299\n",
       "\\item[\\$f.root] -2.61492888507311e-05\n",
       "\\item[\\$iter] 5\n",
       "\\item[\\$init.it] NA\n",
       "\\item[\\$estim.prec] 6.10351562500555e-05\n",
       "\\end{description}\n"
      ],
      "text/markdown": [
       "$root\n",
       ":   0.15000378943299\n",
       "$f.root\n",
       ":   -2.61492888507311e-05\n",
       "$iter\n",
       ":   5\n",
       "$init.it\n",
       ":   NA\n",
       "$estim.prec\n",
       ":   6.10351562500555e-05\n",
       "\n",
       "\n"
      ],
      "text/plain": [
       "$root\n",
       "[1] 0.1500038\n",
       "\n",
       "$f.root\n",
       "[1] -2.614929e-05\n",
       "\n",
       "$iter\n",
       "[1] 5\n",
       "\n",
       "$init.it\n",
       "[1] NA\n",
       "\n",
       "$estim.prec\n",
       "[1] 6.103516e-05\n"
      ]
     },
     "metadata": {},
     "output_type": "display_data"
    }
   ],
   "source": [
    "uniroot(function(t){\n",
    "    binom.test(4, 10, t)$p.value - 0.05\n",
    "}, c(0.1, 0.2))"
   ]
  },
  {
   "cell_type": "code",
   "execution_count": 32,
   "metadata": {
    "collapsed": false
   },
   "outputs": [
    {
     "data": {
      "text/html": [
       "<dl>\n",
       "\t<dt>$root</dt>\n",
       "\t\t<dd>0.709139027111137</dd>\n",
       "\t<dt>$f.root</dt>\n",
       "\t\t<dd>-0.00903857055941133</dd>\n",
       "\t<dt>$iter</dt>\n",
       "\t\t<dd>13</dd>\n",
       "\t<dt>$init.it</dt>\n",
       "\t\t<dd>NA</dd>\n",
       "\t<dt>$estim.prec</dt>\n",
       "\t\t<dd>7.79525580897333e-05</dd>\n",
       "</dl>\n"
      ],
      "text/latex": [
       "\\begin{description}\n",
       "\\item[\\$root] 0.709139027111137\n",
       "\\item[\\$f.root] -0.00903857055941133\n",
       "\\item[\\$iter] 13\n",
       "\\item[\\$init.it] NA\n",
       "\\item[\\$estim.prec] 7.79525580897333e-05\n",
       "\\end{description}\n"
      ],
      "text/markdown": [
       "$root\n",
       ":   0.709139027111137\n",
       "$f.root\n",
       ":   -0.00903857055941133\n",
       "$iter\n",
       ":   13\n",
       "$init.it\n",
       ":   NA\n",
       "$estim.prec\n",
       ":   7.79525580897333e-05\n",
       "\n",
       "\n"
      ],
      "text/plain": [
       "$root\n",
       "[1] 0.709139\n",
       "\n",
       "$f.root\n",
       "[1] -0.009038571\n",
       "\n",
       "$iter\n",
       "[1] 13\n",
       "\n",
       "$init.it\n",
       "[1] NA\n",
       "\n",
       "$estim.prec\n",
       "[1] 7.795256e-05\n"
      ]
     },
     "metadata": {},
     "output_type": "display_data"
    }
   ],
   "source": [
    "uniroot(function(t){\n",
    "    binom.test(4, 10, t)$p.value - 0.05\n",
    "}, c(0.6, 0.8))"
   ]
  },
  {
   "cell_type": "markdown",
   "metadata": {},
   "source": [
    "* 片側$p$値"
   ]
  },
  {
   "cell_type": "code",
   "execution_count": 33,
   "metadata": {
    "collapsed": false
   },
   "outputs": [
    {
     "data": {
      "text/plain": [
       "\n",
       "\tExact binomial test\n",
       "\n",
       "data:  4 and 10\n",
       "number of successes = 4, number of trials = 10, p-value = 0.7539\n",
       "alternative hypothesis: true probability of success is not equal to 0.5\n",
       "95 percent confidence interval:\n",
       " 0.1215523 0.7376219\n",
       "sample estimates:\n",
       "probability of success \n",
       "                   0.4 \n"
      ]
     },
     "metadata": {},
     "output_type": "display_data"
    }
   ],
   "source": [
    "binom.test(4, 10)"
   ]
  },
  {
   "cell_type": "markdown",
   "metadata": {},
   "source": [
    "* 両側$p$値"
   ]
  },
  {
   "cell_type": "code",
   "execution_count": 34,
   "metadata": {
    "collapsed": false
   },
   "outputs": [
    {
     "name": "stderr",
     "output_type": "stream",
     "text": [
      "Warning message:\n",
      ": package 'exactci' was built under R version 3.3.1Loading required package: ssanv\n",
      "Warning message:\n",
      ": package 'ssanv' was built under R version 3.3.1"
     ]
    }
   ],
   "source": [
    "library(exactci)"
   ]
  },
  {
   "cell_type": "code",
   "execution_count": 35,
   "metadata": {
    "collapsed": false
   },
   "outputs": [
    {
     "data": {
      "text/plain": [
       "\n",
       "\tExact two-sided binomial test (sum of minimum likelihood method)\n",
       "\n",
       "data:  4 and 10\n",
       "number of successes = 4, number of trials = 10, p-value = 0.7539\n",
       "alternative hypothesis: true probability of success is not equal to 0.5\n",
       "95 percent confidence interval:\n",
       " 0.1500 0.7091\n",
       "sample estimates:\n",
       "probability of success \n",
       "                   0.4 \n"
      ]
     },
     "metadata": {},
     "output_type": "display_data"
    }
   ],
   "source": [
    "binom.exact(4, 10, tsmethod = \"minlike\")"
   ]
  }
 ],
 "metadata": {
  "kernelspec": {
   "display_name": "R 3.3",
   "language": "R",
   "name": "ir33"
  },
  "language_info": {
   "codemirror_mode": "r",
   "file_extension": ".r",
   "mimetype": "text/x-r-source",
   "name": "R",
   "pygments_lexer": "r",
   "version": "3.3.0"
  }
 },
 "nbformat": 4,
 "nbformat_minor": 0
}
